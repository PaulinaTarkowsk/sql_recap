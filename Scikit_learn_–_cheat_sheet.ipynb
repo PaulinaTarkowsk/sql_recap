{
  "nbformat": 4,
  "nbformat_minor": 0,
  "metadata": {
    "colab": {
      "provenance": [],
      "authorship_tag": "ABX9TyMviSwDcxzYagLCATU3expa",
      "include_colab_link": true
    },
    "kernelspec": {
      "name": "python3",
      "display_name": "Python 3"
    },
    "language_info": {
      "name": "python"
    }
  },
  "cells": [
    {
      "cell_type": "markdown",
      "metadata": {
        "id": "view-in-github",
        "colab_type": "text"
      },
      "source": [
        "<a href=\"https://colab.research.google.com/github/PaulinaTarkowsk/sql_recap/blob/main/Scikit_learn_%E2%80%93_cheat_sheet.ipynb\" target=\"_parent\"><img src=\"https://colab.research.google.com/assets/colab-badge.svg\" alt=\"Open In Colab\"/></a>"
      ]
    },
    {
      "cell_type": "markdown",
      "source": [
        "1. Importowanie biblioteki"
      ],
      "metadata": {
        "id": "i3SFU8xOjT6R"
      }
    },
    {
      "cell_type": "code",
      "execution_count": 1,
      "metadata": {
        "id": "XM7zXpVjjGis"
      },
      "outputs": [],
      "source": [
        "import sklearn # Import library\n",
        "from sklearn.linear_model import LinearRegression # Import class from specific model\n"
      ]
    },
    {
      "cell_type": "markdown",
      "source": [
        "2. Ładowanie danych"
      ],
      "metadata": {
        "id": "6cv_6U8GjS37"
      }
    },
    {
      "cell_type": "code",
      "source": [
        "from sklearn.datasets import load_iris, make_classification, make_regression\n",
        "# Load built-in dataset\n",
        "data = load_iris()\n",
        "\n",
        "# Create synthetic classification dataset\n",
        "data = make_classification(n_samples=1000, n_features=10, n_informative=7, random_state=42)\n",
        "\n",
        "# Create synthetic regression dataset\n",
        "data = make_regression(n_samples=5000, n_features=8, n_informative=4, random_state=42)\n"
      ],
      "metadata": {
        "id": "ohKebCSxjN-R"
      },
      "execution_count": 1,
      "outputs": []
    },
    {
      "cell_type": "markdown",
      "source": [
        "3. Podział danych na zbiór treningowy i testowy"
      ],
      "metadata": {
        "id": "YesETNHakADn"
      }
    },
    {
      "cell_type": "code",
      "source": [
        "from sklearn.model_selection import train_test_split\n",
        "\n",
        "# Split data into train and test set\n",
        "X = df.drop(\"target\")\n",
        "y = df[\"target\"]\n",
        "X_train, X_test, y_train, y_test = train_test_split(X, y, test_size=0.2, random_state=0)\n"
      ],
      "metadata": {
        "id": "JUWiQUi4j_-U"
      },
      "execution_count": null,
      "outputs": []
    },
    {
      "cell_type": "markdown",
      "source": [
        "4. Przygotowanie danych\n",
        "\n",
        "Normalizacja danych treningowych i testowych;\n"
      ],
      "metadata": {
        "id": "dnG7tecBj_5Y"
      }
    },
    {
      "cell_type": "code",
      "source": [
        "# Get normalized features\n",
        "\n",
        "from sklearn.preprocessing import Normalizer\n",
        "normalizer = Normalizer().fit(X_train)\n",
        "normalized_X_train = normalizer.transform(X_train)\n",
        "normalized_X_test = normalizer.transform(X_test)\n"
      ],
      "metadata": {
        "id": "SV1uGDbnj_xI"
      },
      "execution_count": null,
      "outputs": []
    },
    {
      "cell_type": "markdown",
      "source": [
        "Standaryzacja danych treningowych i testowych:"
      ],
      "metadata": {
        "id": "dz5uURiQj_l7"
      }
    },
    {
      "cell_type": "code",
      "source": [
        "# Get standardized features\n",
        "\n",
        "from sklearn.preprocessing import StandardScaler\n",
        "scaler = StandardScaler()\n",
        "X_train_std = scaler.fit_transform(X_train)\n",
        "X_test_std = scaler.transform(X_test)\n"
      ],
      "metadata": {
        "id": "baL9QfDmj_WQ"
      },
      "execution_count": null,
      "outputs": []
    },
    {
      "cell_type": "markdown",
      "source": [
        "Binaryzacja danych;"
      ],
      "metadata": {
        "id": "n0Z-5fDZkeXC"
      }
    },
    {
      "cell_type": "code",
      "source": [
        "# Get boolean values from features based on threshold. If threshold is 0, then all numbers above 0 are converted to 1 and others to 0.\n",
        "\n",
        "from sklearn.preprocessing import Binarizer\n",
        "binarizer = Binarizer(threshold=0.0).fit(X)\n",
        "binarized_X = binarizer.transform(X)\n"
      ],
      "metadata": {
        "id": "QV9rZr1vkeSZ"
      },
      "execution_count": null,
      "outputs": []
    },
    {
      "cell_type": "markdown",
      "source": [
        "Generowanie cech wielomianowych:"
      ],
      "metadata": {
        "id": "S5teXizJkeOU"
      }
    },
    {
      "cell_type": "code",
      "source": [
        "# Get polynomial features based on given degree\n",
        "\n",
        "from sklearn.preprocessing import PolynomialFeatures\n",
        "poly = PolynomialFeatures(degree=2)\n",
        "X_train_poly = poly.fit_transform(X_train)\n",
        "X_test_poly = poly.transform(X_test)\n"
      ],
      "metadata": {
        "id": "FbcxO4ykkeLo"
      },
      "execution_count": null,
      "outputs": []
    },
    {
      "cell_type": "markdown",
      "source": [
        "Kodowanie zmiennych kategorycznych:"
      ],
      "metadata": {
        "id": "08Y6tZ7ukeHl"
      }
    },
    {
      "cell_type": "code",
      "source": [
        "# Get labels for categorical data\n",
        "\n",
        "from sklearn.preprocessing import LabelEncoder\n",
        "encoder = LabelEncoder()\n",
        "y = encoder.fit_transform(y)\n"
      ],
      "metadata": {
        "id": "x1vG7RxUkeCm"
      },
      "execution_count": null,
      "outputs": []
    },
    {
      "cell_type": "markdown",
      "source": [
        "Uzupełnianie wartości pustych:\n"
      ],
      "metadata": {
        "id": "Rdrx2IaCkd-_"
      }
    },
    {
      "cell_type": "code",
      "source": [
        "# Impute missing values with given strategy\n",
        "\n",
        "from sklearn.preprocessing import SimpleImputer\n",
        "imputer = SimpleImputer(missing_values=0, strategy=\"most_frequent\", axis=0)\n",
        "imputer.fit_transform(X)\n"
      ],
      "metadata": {
        "id": "33uV_A1ekd7j"
      },
      "execution_count": null,
      "outputs": []
    },
    {
      "cell_type": "markdown",
      "source": [
        "5. Tworzenie modelu"
      ],
      "metadata": {
        "id": "YzQo5c3pkd38"
      }
    },
    {
      "cell_type": "code",
      "source": [
        "from sklearn.linear_model import LogisticRegression, LinearRegression\n",
        "from sklearn.neighbors import KNeighborsClassifier\n",
        "log_reg_model = LogisticRegression()\n",
        "lr = LinearRegression()\n",
        "knn = KNeighborsClassifier(n_neighbors=3)\n"
      ],
      "metadata": {
        "id": "0eAKhCPnkd0V"
      },
      "execution_count": null,
      "outputs": []
    },
    {
      "cell_type": "markdown",
      "source": [
        "6. Dopasowanie modelu do danych treningowych\n",
        "\n"
      ],
      "metadata": {
        "id": "IKc4WUBDkdv-"
      }
    },
    {
      "cell_type": "markdown",
      "source": [
        "Uczenie nadzorowane:"
      ],
      "metadata": {
        "id": "cCstdJXYkdrM"
      }
    },
    {
      "cell_type": "code",
      "source": [
        "log_reg_model.fit(X_train, y_train)\n",
        "lr.fit(X_train, y_train)\n",
        "knn.fit(X_train, y_train)\n"
      ],
      "metadata": {
        "id": "it3YB8MQkdlx"
      },
      "execution_count": null,
      "outputs": []
    },
    {
      "cell_type": "markdown",
      "source": [
        "Uczenie nienadzorowane:"
      ],
      "metadata": {
        "id": "rChcSnw7kddt"
      }
    },
    {
      "cell_type": "code",
      "source": [
        "k_means_model.fit(X_train)\n",
        "pca_model,fit_transform(X_train)\n"
      ],
      "metadata": {
        "id": "jaDyykVAlMlp"
      },
      "execution_count": null,
      "outputs": []
    },
    {
      "cell_type": "markdown",
      "source": [
        "7. Predykcja modelu na danych testowych"
      ],
      "metadata": {
        "id": "t5o73vQklMhM"
      }
    },
    {
      "cell_type": "markdown",
      "source": [
        "Uczenie nadzorowane:"
      ],
      "metadata": {
        "id": "Tnq7aGivlMbw"
      }
    },
    {
      "cell_type": "code",
      "source": [
        "y_pred = log_reg_model.predict(np.random.random((3, 15))) # predict specific labels\n",
        "y_pred = lr.predict(X_test) # predict specific labels\n",
        "y_pred = knn.predict_proba(X_test) # estimate probability of a label\n"
      ],
      "metadata": {
        "id": "XDJaCavNlMYv"
      },
      "execution_count": null,
      "outputs": []
    },
    {
      "cell_type": "markdown",
      "source": [
        "Uczenie nienadzorowane:"
      ],
      "metadata": {
        "id": "LT2nznaOlMVk"
      }
    },
    {
      "cell_type": "code",
      "source": [
        "y_pred = k_means.predict(X_test)\n"
      ],
      "metadata": {
        "id": "FrUBlAMxlMSO"
      },
      "execution_count": null,
      "outputs": []
    },
    {
      "cell_type": "markdown",
      "source": [
        "**8. Ocena jakości modelu**\n",
        "\n",
        "    Modele klasyfikacyjne:\n",
        "\n",
        "  Accuracy:\n"
      ],
      "metadata": {
        "id": "ZH7MJF3qlMO7"
      }
    },
    {
      "cell_type": "code",
      "source": [
        "\n",
        "# You can measure accuracy using estimator score method or metric function\n",
        "\n",
        "knn.score(X_test, y_test)\n",
        "from sklearn.metrics import accuracy_score\n",
        "accuracy_score(y_test, y_pred)\n"
      ],
      "metadata": {
        "id": "ywQH51JAlMLi"
      },
      "execution_count": null,
      "outputs": []
    },
    {
      "cell_type": "markdown",
      "source": [
        "Raport klasyfikacji:"
      ],
      "metadata": {
        "id": "sM0M_o1klMH1"
      }
    },
    {
      "cell_type": "code",
      "source": [
        "from sklearn.metrics import classification_report # It returns precision, recall, f1-score and support\n",
        "print(classification_report(y_test, y_pred))\n"
      ],
      "metadata": {
        "id": "qQ9P2OKKlMEZ"
      },
      "execution_count": null,
      "outputs": []
    },
    {
      "cell_type": "markdown",
      "source": [
        "Macierz konfuzji:"
      ],
      "metadata": {
        "id": "jSExdR14lL_6"
      }
    },
    {
      "cell_type": "code",
      "source": [
        "# Get confusion matrix for classification model\n",
        "\n",
        "from sklearn.metrics import confusion_matrix\n",
        "print(confusion_matrix(y_test, pred))\n"
      ],
      "metadata": {
        "id": "Msodw42ylL65"
      },
      "execution_count": null,
      "outputs": []
    },
    {
      "cell_type": "markdown",
      "source": [
        "Modele regresyjne\n",
        "\n",
        "\n",
        "Średni błąd absolutny:"
      ],
      "metadata": {
        "id": "5vVD0A-TlL2b"
      }
    },
    {
      "cell_type": "code",
      "source": [
        "from sklearn.metrics import mean_absolute_error\n",
        "mean_absolute_error(y_test, y_pred)\n"
      ],
      "metadata": {
        "id": "0KediRgKmG__"
      },
      "execution_count": null,
      "outputs": []
    },
    {
      "cell_type": "markdown",
      "source": [
        "Błąd średniokwadratowy:\n"
      ],
      "metadata": {
        "id": "bTwSJwA9mG74"
      }
    },
    {
      "cell_type": "code",
      "source": [
        "from sklearn.metrics import mean_squared_error\n",
        "mean_squared_error(y_test, y_pred)\n"
      ],
      "metadata": {
        "id": "WhAXh3lgmG4K"
      },
      "execution_count": null,
      "outputs": []
    },
    {
      "cell_type": "markdown",
      "source": [
        "R2:"
      ],
      "metadata": {
        "id": "eYhwHIgimG1V"
      }
    },
    {
      "cell_type": "code",
      "source": [
        "from sklearn.metrics import r2_score\n",
        "r2_score(y_test, y_pred)\n"
      ],
      "metadata": {
        "id": "KwKrqhOAmGve"
      },
      "execution_count": null,
      "outputs": []
    },
    {
      "cell_type": "markdown",
      "source": [
        "Kroswalidacja:"
      ],
      "metadata": {
        "id": "8kfeS5zMmGsZ"
      }
    },
    {
      "cell_type": "code",
      "source": [
        "# Calculate metric for every cross-validation split\n",
        "\n",
        "from sklearn.model_selection import cross_val_score\n",
        "scores = cross_val_score(lr, X, y, cv=5)\n",
        "print(scores)\n"
      ],
      "metadata": {
        "id": "QCaUGAtlmGpl"
      },
      "execution_count": null,
      "outputs": []
    },
    {
      "cell_type": "markdown",
      "source": [
        "9. Fine-tuning\n",
        "\n"
      ],
      "metadata": {
        "id": "BFzvwUe5mGlq"
      }
    },
    {
      "cell_type": "markdown",
      "source": [
        "Wyszukiwanie siatkowe (ang. grid search):"
      ],
      "metadata": {
        "id": "ELzYyggTmm1B"
      }
    },
    {
      "cell_type": "code",
      "source": [
        "from sklearn.model_selection import GridSearchCV\n",
        "param_grid = {\"C\": [0.1, 1, 10, 100],\n",
        "              \"penalty\": [\"l1\", \"l2\"]}\n",
        "grid = GridSearchCV(model, param_grid, cv=5)\n",
        "grid.fit(X, y)\n"
      ],
      "metadata": {
        "id": "rBZi9dm_moNr"
      },
      "execution_count": null,
      "outputs": []
    },
    {
      "cell_type": "markdown",
      "source": [
        "Wyszukiwanie losowe (ang. randomized search):\n"
      ],
      "metadata": {
        "id": "hA92ZB_Gmsfa"
      }
    },
    {
      "cell_type": "code",
      "source": [
        "from sklearn.model_selection import RandomizedSearchCV\n",
        "params = {\"n_neighbors\": range(1, 8)}\n",
        "random_search = RandomizedSearchCV(estimator=knn,\n",
        "                                   param_distrubutions=params,\n",
        "                                   cv=5,\n",
        "                                   random_state=42)\n"
      ],
      "metadata": {
        "id": "KIcorD67mv-C"
      },
      "execution_count": null,
      "outputs": []
    },
    {
      "cell_type": "markdown",
      "source": [
        "10 Dodadki:"
      ],
      "metadata": {
        "id": "nS_kMNjVmzFZ"
      }
    },
    {
      "cell_type": "markdown",
      "source": [
        "Wizualizacja drzewa decyzyjnego:"
      ],
      "metadata": {
        "id": "6mjE72jwm44n"
      }
    },
    {
      "cell_type": "code",
      "source": [
        "from sklearn.tree import plot_tree\n",
        "plt.figure(figsize=(20,10))\n",
        "plot_tree(model, filled=True)\n",
        "plt.show()\n"
      ],
      "metadata": {
        "id": "gC2jf03om51F"
      },
      "execution_count": null,
      "outputs": []
    },
    {
      "cell_type": "markdown",
      "source": [
        "Zapisywanie i wczytywanie modelu:"
      ],
      "metadata": {
        "id": "FjbKET9km8Uc"
      }
    },
    {
      "cell_type": "code",
      "source": [
        "import joblib\n",
        "joblib.dump(model, \"model.pkl\")\n",
        "model = joblib.load(\"model.pkl\")\n"
      ],
      "metadata": {
        "id": "FHewspwrnCU7"
      },
      "execution_count": null,
      "outputs": []
    }
  ]
}