{
  "cells": [
    {
      "cell_type": "markdown",
      "metadata": {
        "id": "view-in-github",
        "colab_type": "text"
      },
      "source": [
        "<a href=\"https://colab.research.google.com/github/PaulinaTarkowsk/sql_recap/blob/main/01_Pobieranie_danych.ipynb\" target=\"_parent\"><img src=\"https://colab.research.google.com/assets/colab-badge.svg\" alt=\"Open In Colab\"/></a>"
      ]
    },
    {
      "cell_type": "markdown",
      "metadata": {
        "id": "-WSpMD820gYs"
      },
      "source": [
        " # Opis notatnika\n",
        "\n",
        " Ten notatnik inicjuje naszą pracę nad warsztatem końcowym. Naszym zadaniem tutaj jest pobranie udostępnionych nam danych do obszaru roboczego, które w następnym kroku wgramy na naszą bazę danych. Ich obróbka oraz analiza zostanie przeprowadzona w specjalnie do tego celu przygotowanych kolejnych notatnikach.\n",
        "\n",
        " Na potrzeby tego warsztatu został stworzony dedykowany serwis API, który dostępny jest pod adresem: https://api-datalab.coderslab.com/api/v2. Dodatkowo udostępniona została dokumentacja, z którą można zapoznać się tutaj: [klik](https://api-datalab.coderslab.com/v2/docs/).\n",
        "\n",
        " > Dokumentacja jest czysto techniczna i ma na celu prezentację dostępnych endpointów wraz ze zwracanym typem. W celu przetestowania należy kliknąć przysisk `Authorize`, podać token (dostępny poniżej), a następnie `Try it out!` oraz uzupełnić wymagane pola (parametry requesta).\n",
        "\n",
        " Zgodnie z dokumentacją stwierdzamy, że udostępnione zostały nam 4 endpointy:\n",
        " - `airport` - dane o lotnisku,\n",
        " - `weather` - informacje o zarejestrowaniej pogodzie na lotnisku danego dnia,\n",
        " - `aircraft` - dane o samolotach\n",
        " - `flights` - dane o wylotach z danego lotniska per dzień.\n",
        "\n",
        " Wszystkie te źródła musimy pobrać, aby być w stanie wykonać całość warsztatu. W celu pobrania informacji, gdzie wymagany jest paramatr `airportId`, posłużymy się listą z pliku `airports.csv`.\n",
        "\n",
        " Przy wykonywaniu tego zadania możesz posłużyć się tym tokenem: `iKRsQ8vdqgT903o2vH1rsejOeQ0F7YC9TvutH6Wk`.\n",
        "\n",
        " ### Uwagi\n",
        " - Ze względów ćwiczeniowych, konstrukcja poszczególnych endpointów jest różna – w trakcie pracy dokładnie przyjrzyj się, w jaki sposób należy wykonać zapytanie, aby otrzymać odpowiedź.\n",
        " - Pamiętaj o dodaniu `sleep` pomiędzy poszczególnymi wywołaniami endpoint.\n",
        " - Limit wywołań API to 1000/min, zadbaj o nieprzekroczenie tego limitu – w przeciwnym wypadku będzie zwracany błąd 429."
      ]
    },
    {
      "cell_type": "markdown",
      "metadata": {
        "id": "xc6k8oyN0gYz"
      },
      "source": [
        " # Konfiguracja notatnika"
      ]
    },
    {
      "cell_type": "markdown",
      "metadata": {
        "id": "v7v9Z5Wz0gY0"
      },
      "source": [
        " Tutaj zaimportuj wymagane biblioteki"
      ]
    },
    {
      "cell_type": "code",
      "execution_count": null,
      "metadata": {
        "id": "x_WrHBfD0gY1"
      },
      "outputs": [],
      "source": [
        "import requests\n",
        "import pandas as pd\n",
        "from time import sleep"
      ]
    },
    {
      "cell_type": "markdown",
      "metadata": {
        "id": "bTbynKqU0gY2"
      },
      "source": [
        " Tutaj zdefiniuj paramatry połączenia do API"
      ]
    },
    {
      "cell_type": "code",
      "execution_count": null,
      "metadata": {
        "id": "R9v0w5lB0gY3"
      },
      "outputs": [],
      "source": [
        "API_KEY = \"iKRsQ8vdqgT903o2vH1rsejOeQ0F7YC9TvutH6Wk\"\n",
        "API_URL = \"https://api-datalab.coderslab.com/api/v2\"\n",
        "REQUEST_OFFSET = 60/990\n",
        "headers = {\n",
        "    \"accept\": \"application/json\",\n",
        "    'authorization': API_KEY\n",
        "    }"
      ]
    },
    {
      "cell_type": "markdown",
      "metadata": {
        "id": "pZQH2mVQ0gY4"
      },
      "source": [
        " Tutaj wczytaj plik `airports.csv` i dostosuj do dalszych kroków w celu pobierania z kolejnych endpointów. Lista lotnisk jest dostępna w kolumnie `origin_airport_id`."
      ]
    },
    {
      "cell_type": "code",
      "execution_count": 6,
      "metadata": {
        "colab": {
          "base_uri": "https://localhost:8080/",
          "height": 441
        },
        "id": "G_Ib4OeS0gY4",
        "outputId": "092336e4-20ca-4564-ed0e-8d3e8e147a55"
      },
      "outputs": [
        {
          "output_type": "stream",
          "name": "stdout",
          "text": [
            "Mounted at /content/drive\n"
          ]
        },
        {
          "output_type": "execute_result",
          "data": {
            "text/plain": [
              "     origin_airport_id\n",
              "0                10874\n",
              "1                11233\n",
              "2                13360\n",
              "3                15008\n",
              "4                11638\n",
              "..                 ...\n",
              "359              13303\n",
              "360              13795\n",
              "361              10693\n",
              "362              12945\n",
              "363              12511\n",
              "\n",
              "[364 rows x 1 columns]"
            ],
            "text/html": [
              "\n",
              "  <div id=\"df-7461eae9-6c7d-4d30-b57b-d7aab229fc3d\" class=\"colab-df-container\">\n",
              "    <div>\n",
              "<style scoped>\n",
              "    .dataframe tbody tr th:only-of-type {\n",
              "        vertical-align: middle;\n",
              "    }\n",
              "\n",
              "    .dataframe tbody tr th {\n",
              "        vertical-align: top;\n",
              "    }\n",
              "\n",
              "    .dataframe thead th {\n",
              "        text-align: right;\n",
              "    }\n",
              "</style>\n",
              "<table border=\"1\" class=\"dataframe\">\n",
              "  <thead>\n",
              "    <tr style=\"text-align: right;\">\n",
              "      <th></th>\n",
              "      <th>origin_airport_id</th>\n",
              "    </tr>\n",
              "  </thead>\n",
              "  <tbody>\n",
              "    <tr>\n",
              "      <th>0</th>\n",
              "      <td>10874</td>\n",
              "    </tr>\n",
              "    <tr>\n",
              "      <th>1</th>\n",
              "      <td>11233</td>\n",
              "    </tr>\n",
              "    <tr>\n",
              "      <th>2</th>\n",
              "      <td>13360</td>\n",
              "    </tr>\n",
              "    <tr>\n",
              "      <th>3</th>\n",
              "      <td>15008</td>\n",
              "    </tr>\n",
              "    <tr>\n",
              "      <th>4</th>\n",
              "      <td>11638</td>\n",
              "    </tr>\n",
              "    <tr>\n",
              "      <th>...</th>\n",
              "      <td>...</td>\n",
              "    </tr>\n",
              "    <tr>\n",
              "      <th>359</th>\n",
              "      <td>13303</td>\n",
              "    </tr>\n",
              "    <tr>\n",
              "      <th>360</th>\n",
              "      <td>13795</td>\n",
              "    </tr>\n",
              "    <tr>\n",
              "      <th>361</th>\n",
              "      <td>10693</td>\n",
              "    </tr>\n",
              "    <tr>\n",
              "      <th>362</th>\n",
              "      <td>12945</td>\n",
              "    </tr>\n",
              "    <tr>\n",
              "      <th>363</th>\n",
              "      <td>12511</td>\n",
              "    </tr>\n",
              "  </tbody>\n",
              "</table>\n",
              "<p>364 rows × 1 columns</p>\n",
              "</div>\n",
              "    <div class=\"colab-df-buttons\">\n",
              "\n",
              "  <div class=\"colab-df-container\">\n",
              "    <button class=\"colab-df-convert\" onclick=\"convertToInteractive('df-7461eae9-6c7d-4d30-b57b-d7aab229fc3d')\"\n",
              "            title=\"Convert this dataframe to an interactive table.\"\n",
              "            style=\"display:none;\">\n",
              "\n",
              "  <svg xmlns=\"http://www.w3.org/2000/svg\" height=\"24px\" viewBox=\"0 -960 960 960\">\n",
              "    <path d=\"M120-120v-720h720v720H120Zm60-500h600v-160H180v160Zm220 220h160v-160H400v160Zm0 220h160v-160H400v160ZM180-400h160v-160H180v160Zm440 0h160v-160H620v160ZM180-180h160v-160H180v160Zm440 0h160v-160H620v160Z\"/>\n",
              "  </svg>\n",
              "    </button>\n",
              "\n",
              "  <style>\n",
              "    .colab-df-container {\n",
              "      display:flex;\n",
              "      gap: 12px;\n",
              "    }\n",
              "\n",
              "    .colab-df-convert {\n",
              "      background-color: #E8F0FE;\n",
              "      border: none;\n",
              "      border-radius: 50%;\n",
              "      cursor: pointer;\n",
              "      display: none;\n",
              "      fill: #1967D2;\n",
              "      height: 32px;\n",
              "      padding: 0 0 0 0;\n",
              "      width: 32px;\n",
              "    }\n",
              "\n",
              "    .colab-df-convert:hover {\n",
              "      background-color: #E2EBFA;\n",
              "      box-shadow: 0px 1px 2px rgba(60, 64, 67, 0.3), 0px 1px 3px 1px rgba(60, 64, 67, 0.15);\n",
              "      fill: #174EA6;\n",
              "    }\n",
              "\n",
              "    .colab-df-buttons div {\n",
              "      margin-bottom: 4px;\n",
              "    }\n",
              "\n",
              "    [theme=dark] .colab-df-convert {\n",
              "      background-color: #3B4455;\n",
              "      fill: #D2E3FC;\n",
              "    }\n",
              "\n",
              "    [theme=dark] .colab-df-convert:hover {\n",
              "      background-color: #434B5C;\n",
              "      box-shadow: 0px 1px 3px 1px rgba(0, 0, 0, 0.15);\n",
              "      filter: drop-shadow(0px 1px 2px rgba(0, 0, 0, 0.3));\n",
              "      fill: #FFFFFF;\n",
              "    }\n",
              "  </style>\n",
              "\n",
              "    <script>\n",
              "      const buttonEl =\n",
              "        document.querySelector('#df-7461eae9-6c7d-4d30-b57b-d7aab229fc3d button.colab-df-convert');\n",
              "      buttonEl.style.display =\n",
              "        google.colab.kernel.accessAllowed ? 'block' : 'none';\n",
              "\n",
              "      async function convertToInteractive(key) {\n",
              "        const element = document.querySelector('#df-7461eae9-6c7d-4d30-b57b-d7aab229fc3d');\n",
              "        const dataTable =\n",
              "          await google.colab.kernel.invokeFunction('convertToInteractive',\n",
              "                                                    [key], {});\n",
              "        if (!dataTable) return;\n",
              "\n",
              "        const docLinkHtml = 'Like what you see? Visit the ' +\n",
              "          '<a target=\"_blank\" href=https://colab.research.google.com/notebooks/data_table.ipynb>data table notebook</a>'\n",
              "          + ' to learn more about interactive tables.';\n",
              "        element.innerHTML = '';\n",
              "        dataTable['output_type'] = 'display_data';\n",
              "        await google.colab.output.renderOutput(dataTable, element);\n",
              "        const docLink = document.createElement('div');\n",
              "        docLink.innerHTML = docLinkHtml;\n",
              "        element.appendChild(docLink);\n",
              "      }\n",
              "    </script>\n",
              "  </div>\n",
              "\n",
              "\n",
              "<div id=\"df-7996f3cd-add8-4753-adfa-4c8c68f08402\">\n",
              "  <button class=\"colab-df-quickchart\" onclick=\"quickchart('df-7996f3cd-add8-4753-adfa-4c8c68f08402')\"\n",
              "            title=\"Suggest charts\"\n",
              "            style=\"display:none;\">\n",
              "\n",
              "<svg xmlns=\"http://www.w3.org/2000/svg\" height=\"24px\"viewBox=\"0 0 24 24\"\n",
              "     width=\"24px\">\n",
              "    <g>\n",
              "        <path d=\"M19 3H5c-1.1 0-2 .9-2 2v14c0 1.1.9 2 2 2h14c1.1 0 2-.9 2-2V5c0-1.1-.9-2-2-2zM9 17H7v-7h2v7zm4 0h-2V7h2v10zm4 0h-2v-4h2v4z\"/>\n",
              "    </g>\n",
              "</svg>\n",
              "  </button>\n",
              "\n",
              "<style>\n",
              "  .colab-df-quickchart {\n",
              "      --bg-color: #E8F0FE;\n",
              "      --fill-color: #1967D2;\n",
              "      --hover-bg-color: #E2EBFA;\n",
              "      --hover-fill-color: #174EA6;\n",
              "      --disabled-fill-color: #AAA;\n",
              "      --disabled-bg-color: #DDD;\n",
              "  }\n",
              "\n",
              "  [theme=dark] .colab-df-quickchart {\n",
              "      --bg-color: #3B4455;\n",
              "      --fill-color: #D2E3FC;\n",
              "      --hover-bg-color: #434B5C;\n",
              "      --hover-fill-color: #FFFFFF;\n",
              "      --disabled-bg-color: #3B4455;\n",
              "      --disabled-fill-color: #666;\n",
              "  }\n",
              "\n",
              "  .colab-df-quickchart {\n",
              "    background-color: var(--bg-color);\n",
              "    border: none;\n",
              "    border-radius: 50%;\n",
              "    cursor: pointer;\n",
              "    display: none;\n",
              "    fill: var(--fill-color);\n",
              "    height: 32px;\n",
              "    padding: 0;\n",
              "    width: 32px;\n",
              "  }\n",
              "\n",
              "  .colab-df-quickchart:hover {\n",
              "    background-color: var(--hover-bg-color);\n",
              "    box-shadow: 0 1px 2px rgba(60, 64, 67, 0.3), 0 1px 3px 1px rgba(60, 64, 67, 0.15);\n",
              "    fill: var(--button-hover-fill-color);\n",
              "  }\n",
              "\n",
              "  .colab-df-quickchart-complete:disabled,\n",
              "  .colab-df-quickchart-complete:disabled:hover {\n",
              "    background-color: var(--disabled-bg-color);\n",
              "    fill: var(--disabled-fill-color);\n",
              "    box-shadow: none;\n",
              "  }\n",
              "\n",
              "  .colab-df-spinner {\n",
              "    border: 2px solid var(--fill-color);\n",
              "    border-color: transparent;\n",
              "    border-bottom-color: var(--fill-color);\n",
              "    animation:\n",
              "      spin 1s steps(1) infinite;\n",
              "  }\n",
              "\n",
              "  @keyframes spin {\n",
              "    0% {\n",
              "      border-color: transparent;\n",
              "      border-bottom-color: var(--fill-color);\n",
              "      border-left-color: var(--fill-color);\n",
              "    }\n",
              "    20% {\n",
              "      border-color: transparent;\n",
              "      border-left-color: var(--fill-color);\n",
              "      border-top-color: var(--fill-color);\n",
              "    }\n",
              "    30% {\n",
              "      border-color: transparent;\n",
              "      border-left-color: var(--fill-color);\n",
              "      border-top-color: var(--fill-color);\n",
              "      border-right-color: var(--fill-color);\n",
              "    }\n",
              "    40% {\n",
              "      border-color: transparent;\n",
              "      border-right-color: var(--fill-color);\n",
              "      border-top-color: var(--fill-color);\n",
              "    }\n",
              "    60% {\n",
              "      border-color: transparent;\n",
              "      border-right-color: var(--fill-color);\n",
              "    }\n",
              "    80% {\n",
              "      border-color: transparent;\n",
              "      border-right-color: var(--fill-color);\n",
              "      border-bottom-color: var(--fill-color);\n",
              "    }\n",
              "    90% {\n",
              "      border-color: transparent;\n",
              "      border-bottom-color: var(--fill-color);\n",
              "    }\n",
              "  }\n",
              "</style>\n",
              "\n",
              "  <script>\n",
              "    async function quickchart(key) {\n",
              "      const quickchartButtonEl =\n",
              "        document.querySelector('#' + key + ' button');\n",
              "      quickchartButtonEl.disabled = true;  // To prevent multiple clicks.\n",
              "      quickchartButtonEl.classList.add('colab-df-spinner');\n",
              "      try {\n",
              "        const charts = await google.colab.kernel.invokeFunction(\n",
              "            'suggestCharts', [key], {});\n",
              "      } catch (error) {\n",
              "        console.error('Error during call to suggestCharts:', error);\n",
              "      }\n",
              "      quickchartButtonEl.classList.remove('colab-df-spinner');\n",
              "      quickchartButtonEl.classList.add('colab-df-quickchart-complete');\n",
              "    }\n",
              "    (() => {\n",
              "      let quickchartButtonEl =\n",
              "        document.querySelector('#df-7996f3cd-add8-4753-adfa-4c8c68f08402 button');\n",
              "      quickchartButtonEl.style.display =\n",
              "        google.colab.kernel.accessAllowed ? 'block' : 'none';\n",
              "    })();\n",
              "  </script>\n",
              "</div>\n",
              "\n",
              "  <div id=\"id_bd775df9-9657-4dc6-bd33-df84e278f57a\">\n",
              "    <style>\n",
              "      .colab-df-generate {\n",
              "        background-color: #E8F0FE;\n",
              "        border: none;\n",
              "        border-radius: 50%;\n",
              "        cursor: pointer;\n",
              "        display: none;\n",
              "        fill: #1967D2;\n",
              "        height: 32px;\n",
              "        padding: 0 0 0 0;\n",
              "        width: 32px;\n",
              "      }\n",
              "\n",
              "      .colab-df-generate:hover {\n",
              "        background-color: #E2EBFA;\n",
              "        box-shadow: 0px 1px 2px rgba(60, 64, 67, 0.3), 0px 1px 3px 1px rgba(60, 64, 67, 0.15);\n",
              "        fill: #174EA6;\n",
              "      }\n",
              "\n",
              "      [theme=dark] .colab-df-generate {\n",
              "        background-color: #3B4455;\n",
              "        fill: #D2E3FC;\n",
              "      }\n",
              "\n",
              "      [theme=dark] .colab-df-generate:hover {\n",
              "        background-color: #434B5C;\n",
              "        box-shadow: 0px 1px 3px 1px rgba(0, 0, 0, 0.15);\n",
              "        filter: drop-shadow(0px 1px 2px rgba(0, 0, 0, 0.3));\n",
              "        fill: #FFFFFF;\n",
              "      }\n",
              "    </style>\n",
              "    <button class=\"colab-df-generate\" onclick=\"generateWithVariable('df')\"\n",
              "            title=\"Generate code using this dataframe.\"\n",
              "            style=\"display:none;\">\n",
              "\n",
              "  <svg xmlns=\"http://www.w3.org/2000/svg\" height=\"24px\"viewBox=\"0 0 24 24\"\n",
              "       width=\"24px\">\n",
              "    <path d=\"M7,19H8.4L18.45,9,17,7.55,7,17.6ZM5,21V16.75L18.45,3.32a2,2,0,0,1,2.83,0l1.4,1.43a1.91,1.91,0,0,1,.58,1.4,1.91,1.91,0,0,1-.58,1.4L9.25,21ZM18.45,9,17,7.55Zm-12,3A5.31,5.31,0,0,0,4.9,8.1,5.31,5.31,0,0,0,1,6.5,5.31,5.31,0,0,0,4.9,4.9,5.31,5.31,0,0,0,6.5,1,5.31,5.31,0,0,0,8.1,4.9,5.31,5.31,0,0,0,12,6.5,5.46,5.46,0,0,0,6.5,12Z\"/>\n",
              "  </svg>\n",
              "    </button>\n",
              "    <script>\n",
              "      (() => {\n",
              "      const buttonEl =\n",
              "        document.querySelector('#id_bd775df9-9657-4dc6-bd33-df84e278f57a button.colab-df-generate');\n",
              "      buttonEl.style.display =\n",
              "        google.colab.kernel.accessAllowed ? 'block' : 'none';\n",
              "\n",
              "      buttonEl.onclick = () => {\n",
              "        google.colab.notebook.generateWithVariable('df');\n",
              "      }\n",
              "      })();\n",
              "    </script>\n",
              "  </div>\n",
              "\n",
              "    </div>\n",
              "  </div>\n"
            ],
            "application/vnd.google.colaboratory.intrinsic+json": {
              "type": "dataframe",
              "variable_name": "df",
              "summary": "{\n  \"name\": \"df\",\n  \"rows\": 364,\n  \"fields\": [\n    {\n      \"column\": \"origin_airport_id\",\n      \"properties\": {\n        \"dtype\": \"number\",\n        \"std\": 1647,\n        \"min\": 10135,\n        \"max\": 16869,\n        \"num_unique_values\": 364,\n        \"samples\": [\n          11111,\n          11525,\n          11641\n        ],\n        \"semantic_type\": \"\",\n        \"description\": \"\"\n      }\n    }\n  ]\n}"
            }
          },
          "metadata": {},
          "execution_count": 6
        }
      ],
      "source": [
        "import os\n",
        "from google.colab import drive\n",
        "drive.mount('/content/drive')\n",
        "df = pd.read_csv('/content/drive/My Drive/Colab Notebooks/portfolio/Pliki_do_Portfolio_Lab/data/airports.csv')\n",
        "df"
      ]
    },
    {
      "cell_type": "markdown",
      "metadata": {
        "id": "GthBtLeP0gY5"
      },
      "source": [
        " # Pobieranie `Airport`\n",
        " Zapoznaj się z dokumentacją endpointu `airport`, a następnie pobierz dane dot. poszczególnych lotnisk. Wyniki tego kroku zapisz do ramki `airport_df`, a następnie zapisz do pliku `csv`.\n",
        "\n",
        " ### Wskazówki\n",
        " - Nie wszystkie lotniska dostępne w pliku `airports.csv`, są dostępne w endpoint. Zadbaj o odpowiednie obsłużenie takiej sytuacji,\n",
        " - Do skonwertowania wyników przydatna może okazać się metoda `Pandas` - [from_records](https://pandas.pydata.org/docs/reference/api/pandas.DataFrame.from_records.html),\n",
        " - Artykuł LMS: `Python - analiza danych > Dzień 4 - API > Uwierzytelnianie`\n",
        " - Artykuł LMS: `Python - analiza danych > Przygotowanie do zjazdu 2`"
      ]
    },
    {
      "cell_type": "markdown",
      "metadata": {
        "id": "rF4sMiBI0gY5"
      },
      "source": [
        " Tutaj pobierz dane z endpoint'u `airport`"
      ]
    },
    {
      "cell_type": "code",
      "execution_count": 7,
      "metadata": {
        "id": "YKyxiljp0gY6",
        "colab": {
          "base_uri": "https://localhost:8080/"
        },
        "outputId": "1fb7bde7-7203-4b8e-f05d-8a80d40e4c4f"
      },
      "outputs": [
        {
          "output_type": "stream",
          "name": "stdout",
          "text": [
            "Brak danych dla lotniska 10874.\n",
            "Brak danych dla lotniska 11233.\n",
            "Brak danych dla lotniska 13360.\n",
            "Brak danych dla lotniska 15008.\n",
            "Pobieranie danych dla lotniska 11638 - <Response [200]>.\n",
            "Brak danych dla lotniska 14150.\n",
            "Brak danych dla lotniska 15323.\n",
            "Brak danych dla lotniska 14814.\n",
            "Brak danych dla lotniska 12007.\n",
            "Brak danych dla lotniska 11337.\n",
            "Pobieranie danych dla lotniska 13342 - <Response [200]>.\n",
            "Brak danych dla lotniska 15070.\n",
            "Pobieranie danych dla lotniska 13244 - <Response [200]>.\n",
            "Brak danych dla lotniska 12280.\n",
            "Pobieranie danych dla lotniska 15096 - <Response [200]>.\n",
            "Brak danych dla lotniska 11641.\n",
            "Brak danych dla lotniska 13832.\n",
            "Brak danych dla lotniska 10268.\n",
            "Pobieranie danych dla lotniska 10397 - <Response [200]>.\n",
            "Brak danych dla lotniska 15041.\n",
            "Pobieranie danych dla lotniska 10529 - <Response [200]>.\n",
            "Brak danych dla lotniska 12119.\n",
            "Brak danych dla lotniska 11537.\n",
            "Brak danych dla lotniska 11092.\n",
            "Brak danych dla lotniska 10581.\n",
            "Brak danych dla lotniska 13829.\n",
            "Brak danych dla lotniska 15389.\n",
            "Pobieranie danych dla lotniska 10140 - <Response [200]>.\n",
            "Brak danych dla lotniska 12389.\n",
            "Brak danych dla lotniska 11648.\n",
            "Brak danych dla lotniska 15023.\n",
            "Brak danych dla lotniska 11982.\n",
            "Brak danych dla lotniska 10967.\n",
            "Brak danych dla lotniska 11525.\n",
            "Pobieranie danych dla lotniska 10792 - <Response [200]>.\n",
            "Brak danych dla lotniska 14259.\n",
            "Brak danych dla lotniska 11637.\n",
            "Brak danych dla lotniska 10466.\n",
            "Pobieranie danych dla lotniska 10599 - <Response [200]>.\n",
            "Brak danych dla lotniska 10208.\n",
            "Brak danych dla lotniska 15841.\n",
            "Pobieranie danych dla lotniska 14831 - <Response [200]>.\n",
            "Brak danych dla lotniska 12898.\n",
            "Brak danych dla lotniska 13241.\n",
            "Brak danych dla lotniska 13367.\n",
            "Brak danych dla lotniska 11481.\n",
            "Brak danych dla lotniska 14108.\n",
            "Pobieranie danych dla lotniska 13931 - <Response [200]>.\n",
            "Brak danych dla lotniska 13873.\n",
            "Brak danych dla lotniska 10157.\n",
            "Brak danych dla lotniska 10245.\n",
            "Brak danych dla lotniska 11146.\n",
            "Brak danych dla lotniska 13277.\n",
            "Pobieranie danych dla lotniska 11292 - <Response [200]>.\n",
            "Brak danych dla lotniska 11109.\n",
            "Brak danych dla lotniska 13459.\n",
            "Brak danych dla lotniska 11775.\n",
            "Brak danych dla lotniska 16218.\n",
            "Brak danych dla lotniska 14698.\n",
            "Brak danych dla lotniska 14252.\n",
            "Brak danych dla lotniska 13256.\n",
            "Brak danych dla lotniska 13139.\n",
            "Brak danych dla lotniska 12250.\n",
            "Pobieranie danych dla lotniska 11259 - <Response [200]>.\n",
            "Brak danych dla lotniska 11468.\n",
            "Brak danych dla lotniska 14952.\n",
            "Brak danych dla lotniska 12402.\n",
            "Brak danych dla lotniska 14574.\n",
            "Pobieranie danych dla lotniska 11996 - <Response [200]>.\n",
            "Brak danych dla lotniska 11977.\n",
            "Brak danych dla lotniska 11867.\n",
            "Brak danych dla lotniska 11203.\n",
            "Pobieranie danych dla lotniska 11995 - <Response [200]>.\n",
            "Pobieranie danych dla lotniska 15016 - <Response [200]>.\n",
            "Brak danych dla lotniska 10747.\n",
            "Brak danych dla lotniska 14905.\n",
            "Brak danych dla lotniska 12012.\n",
            "Brak danych dla lotniska 14783.\n",
            "Pobieranie danych dla lotniska 14730 - <Response [200]>.\n",
            "Brak danych dla lotniska 10431.\n",
            "Brak danych dla lotniska 10434.\n",
            "Brak danych dla lotniska 16869.\n",
            "Brak danych dla lotniska 10408.\n",
            "Pobieranie danych dla lotniska 12264 - <Response [200]>.\n",
            "Pobieranie danych dla lotniska 11618 - <Response [200]>.\n",
            "Pobieranie danych dla lotniska 15304 - <Response [200]>.\n",
            "Pobieranie danych dla lotniska 13577 - <Response [200]>.\n",
            "Pobieranie danych dla lotniska 12954 - <Response [200]>.\n",
            "Brak danych dla lotniska 11624.\n",
            "Brak danych dla lotniska 13541.\n",
            "Brak danych dla lotniska 13422.\n",
            "Pobieranie danych dla lotniska 14057 - <Response [200]>.\n",
            "Pobieranie danych dla lotniska 13232 - <Response [200]>.\n",
            "Pobieranie danych dla lotniska 10800 - <Response [200]>.\n",
            "Brak danych dla lotniska 14689.\n",
            "Brak danych dla lotniska 12391.\n",
            "Brak danych dla lotniska 10868.\n",
            "Brak danych dla lotniska 14711.\n",
            "Pobieranie danych dla lotniska 10257 - <Response [200]>.\n",
            "Brak danych dla lotniska 11067.\n",
            "Brak danych dla lotniska 10562.\n",
            "Brak danych dla lotniska 11695.\n",
            "Pobieranie danych dla lotniska 13796 - <Response [200]>.\n",
            "Brak danych dla lotniska 14109.\n",
            "Brak danych dla lotniska 13970.\n",
            "Pobieranie danych dla lotniska 14193 - <Response [200]>.\n",
            "Brak danych dla lotniska 11076.\n",
            "Brak danych dla lotniska 14092.\n",
            "Brak danych dla lotniska 11122.\n",
            "Brak danych dla lotniska 11288.\n",
            "Brak danych dla lotniska 11308.\n",
            "Brak danych dla lotniska 10754.\n",
            "Brak danych dla lotniska 12884.\n",
            "Pobieranie danych dla lotniska 15376 - <Response [200]>.\n",
            "Brak danych dla lotniska 14588.\n",
            "Pobieranie danych dla lotniska 11884 - <Response [200]>.\n",
            "Brak danych dla lotniska 12915.\n",
            "Pobieranie danych dla lotniska 13851 - <Response [200]>.\n",
            "Pobieranie danych dla lotniska 14843 - <Response [200]>.\n",
            "Brak danych dla lotniska 11603.\n",
            "Brak danych dla lotniska 14457.\n",
            "Brak danych dla lotniska 12206.\n",
            "Brak danych dla lotniska 11252.\n",
            "Brak danych dla lotniska 11905.\n",
            "Pobieranie danych dla lotniska 15412 - <Response [200]>.\n",
            "Brak danych dla lotniska 14120.\n",
            "Brak danych dla lotniska 11980.\n",
            "Brak danych dla lotniska 14025.\n",
            "Brak danych dla lotniska 11150.\n",
            "Brak danych dla lotniska 14709.\n",
            "Brak danych dla lotniska 15897.\n",
            "Pobieranie danych dla lotniska 14107 - <Response [200]>.\n",
            "Brak danych dla lotniska 14006.\n",
            "Pobieranie danych dla lotniska 14747 - <Response [200]>.\n",
            "Brak danych dla lotniska 12902.\n",
            "Brak danych dla lotniska 13061.\n",
            "Brak danych dla lotniska 12016.\n",
            "Brak danych dla lotniska 14794.\n",
            "Brak danych dla lotniska 11921.\n",
            "Brak danych dla lotniska 10731.\n",
            "Brak danych dla lotniska 14828.\n",
            "Pobieranie danych dla lotniska 12889 - <Response [200]>.\n",
            "Brak danych dla lotniska 12441.\n",
            "Brak danych dla lotniska 14802.\n",
            "Brak danych dla lotniska 13230.\n",
            "Brak danych dla lotniska 10631.\n",
            "Pobieranie danych dla lotniska 14492 - <Response [200]>.\n",
            "Brak danych dla lotniska 10141.\n",
            "Pobieranie danych dla lotniska 13204 - <Response [200]>.\n",
            "Pobieranie danych dla lotniska 12992 - <Response [200]>.\n",
            "Brak danych dla lotniska 13184.\n",
            "Brak danych dla lotniska 10643.\n",
            "Brak danych dla lotniska 10333.\n",
            "Brak danych dla lotniska 12255.\n",
            "Brak danych dla lotniska 14487.\n",
            "Brak danych dla lotniska 12129.\n",
            "Brak danych dla lotniska 10551.\n",
            "Pobieranie danych dla lotniska 13871 - <Response [200]>.\n",
            "Brak danych dla lotniska 14256.\n",
            "Pobieranie danych dla lotniska 11066 - <Response [200]>.\n",
            "Brak danych dla lotniska 13377.\n",
            "Pobieranie danych dla lotniska 13487 - <Response [200]>.\n",
            "Brak danych dla lotniska 10627.\n",
            "Brak danych dla lotniska 12335.\n",
            "Brak danych dla lotniska 14633.\n",
            "Brak danych dla lotniska 11274.\n",
            "Brak danych dla lotniska 14543.\n",
            "Pobieranie danych dla lotniska 10299 - <Response [200]>.\n",
            "Brak danych dla lotniska 10158.\n",
            "Brak danych dla lotniska 12951.\n",
            "Brak danych dla lotniska 14004.\n",
            "Brak danych dla lotniska 12544.\n",
            "Brak danych dla lotniska 10739.\n",
            "Brak danych dla lotniska 10165.\n",
            "Brak danych dla lotniska 13964.\n",
            "Brak danych dla lotniska 14314.\n",
            "Brak danych dla lotniska 10990.\n",
            "Brak danych dla lotniska 14812.\n",
            "Pobieranie danych dla lotniska 12339 - <Response [200]>.\n",
            "Brak danych dla lotniska 10561.\n",
            "Brak danych dla lotniska 10146.\n",
            "Pobieranie danych dla lotniska 12451 - <Response [200]>.\n",
            "Brak danych dla lotniska 15991.\n",
            "Pobieranie danych dla lotniska 11423 - <Response [200]>.\n",
            "Brak danych dla lotniska 15401.\n",
            "Brak danych dla lotniska 11587.\n",
            "Brak danych dla lotniska 14520.\n",
            "Pobieranie danych dla lotniska 11042 - <Response [200]>.\n",
            "Brak danych dla lotniska 10185.\n",
            "Pobieranie danych dla lotniska 11278 - <Response [200]>.\n",
            "Brak danych dla lotniska 14534.\n",
            "Pobieranie danych dla lotniska 14100 - <Response [200]>.\n",
            "Pobieranie danych dla lotniska 14321 - <Response [200]>.\n",
            "Brak danych dla lotniska 11111.\n",
            "Brak danych dla lotniska 15024.\n",
            "Brak danych dla lotniska 12917.\n",
            "Brak danych dla lotniska 12124.\n",
            "Brak danych dla lotniska 12523.\n",
            "Pobieranie danych dla lotniska 10821 - <Response [200]>.\n",
            "Pobieranie danych dla lotniska 10721 - <Response [200]>.\n",
            "Brak danych dla lotniska 11630.\n",
            "Brak danych dla lotniska 10170.\n",
            "Brak danych dla lotniska 12448.\n",
            "Pobieranie danych dla lotniska 12953 - <Response [200]>.\n",
            "Brak danych dla lotniska 10918.\n",
            "Brak danych dla lotniska 15356.\n",
            "Brak danych dla lotniska 13344.\n",
            "Brak danych dla lotniska 10676.\n",
            "Brak danych dla lotniska 10926.\n",
            "Pobieranie danych dla lotniska 14307 - <Response [200]>.\n",
            "Pobieranie danych dla lotniska 14635 - <Response [200]>.\n",
            "Brak danych dla lotniska 12156.\n",
            "Brak danych dla lotniska 12244.\n",
            "Brak danych dla lotniska 10666.\n",
            "Brak danych dla lotniska 11612.\n",
            "Brak danych dla lotniska 13476.\n",
            "Brak danych dla lotniska 13029.\n",
            "Pobieranie danych dla lotniska 11267 - <Response [200]>.\n",
            "Brak danych dla lotniska 15411.\n",
            "Brak danych dla lotniska 14986.\n",
            "Brak danych dla lotniska 11471.\n",
            "Pobieranie danych dla lotniska 12758 - <Response [200]>.\n",
            "Pobieranie danych dla lotniska 14576 - <Response [200]>.\n",
            "Brak danych dla lotniska 10155.\n",
            "Brak danych dla lotniska 13486.\n",
            "Brak danych dla lotniska 14716.\n",
            "Brak danych dla lotniska 13296.\n",
            "Brak danych dla lotniska 11283.\n",
            "Brak danych dla lotniska 10732.\n",
            "Pobieranie danych dla lotniska 12266 - <Response [200]>.\n",
            "Pobieranie danych dla lotniska 12892 - <Response [200]>.\n",
            "Brak danych dla lotniska 11003.\n",
            "Brak danych dla lotniska 12094.\n",
            "Pobieranie danych dla lotniska 14685 - <Response [200]>.\n",
            "Brak danych dla lotniska 13158.\n",
            "Brak danych dla lotniska 13121.\n",
            "Pobieranie danych dla lotniska 11540 - <Response [200]>.\n",
            "Brak danych dla lotniska 14877.\n",
            "Brak danych dla lotniska 12217.\n",
            "Pobieranie danych dla lotniska 11697 - <Response [200]>.\n",
            "Brak danych dla lotniska 10372.\n",
            "Brak danych dla lotniska 13264.\n",
            "Brak danych dla lotniska 10469.\n",
            "Brak danych dla lotniska 11336.\n",
            "Pobieranie danych dla lotniska 14683 - <Response [200]>.\n",
            "Brak danych dla lotniska 14112.\n",
            "Brak danych dla lotniska 13502.\n",
            "Pobieranie danych dla lotniska 14524 - <Response [200]>.\n",
            "Brak danych dla lotniska 15027.\n",
            "Brak danych dla lotniska 11973.\n",
            "Pobieranie danych dla lotniska 12173 - <Response [200]>.\n",
            "Brak danych dla lotniska 10361.\n",
            "Brak danych dla lotniska 13388.\n",
            "Pobieranie danych dla lotniska 13891 - <Response [200]>.\n",
            "Brak danych dla lotniska 10577.\n",
            "Pobieranie danych dla lotniska 11433 - <Response [200]>.\n",
            "Brak danych dla lotniska 13290.\n",
            "Pobieranie danych dla lotniska 11298 - <Response [200]>.\n",
            "Pobieranie danych dla lotniska 14771 - <Response [200]>.\n",
            "Brak danych dla lotniska 11577.\n",
            "Brak danych dla lotniska 11140.\n",
            "Pobieranie danych dla lotniska 11057 - <Response [200]>.\n",
            "Brak danych dla lotniska 15048.\n",
            "Brak danych dla lotniska 14960.\n",
            "Brak danych dla lotniska 15295.\n",
            "Brak danych dla lotniska 11865.\n",
            "Pobieranie danych dla lotniska 14893 - <Response [200]>.\n",
            "Brak danych dla lotniska 11049.\n",
            "Pobieranie danych dla lotniska 13495 - <Response [200]>.\n",
            "Brak danych dla lotniska 11953.\n",
            "Brak danych dla lotniska 12223.\n",
            "Brak danych dla lotniska 14254.\n",
            "Brak danych dla lotniska 11823.\n",
            "Brak danych dla lotniska 15380.\n",
            "Brak danych dla lotniska 11447.\n",
            "Brak danych dla lotniska 12003.\n",
            "Brak danych dla lotniska 14489.\n",
            "Pobieranie danych dla lotniska 14908 - <Response [200]>.\n",
            "Pobieranie danych dla lotniska 11986 - <Response [200]>.\n",
            "Brak danych dla lotniska 14082.\n",
            "Pobieranie danych dla lotniska 12191 - <Response [200]>.\n",
            "Brak danych dla lotniska 14113.\n",
            "Brak danych dla lotniska 12891.\n",
            "Brak danych dla lotniska 15249.\n",
            "Brak danych dla lotniska 12819.\n",
            "Pobieranie danych dla lotniska 14570 - <Response [200]>.\n",
            "Brak danych dla lotniska 12323.\n",
            "Pobieranie danych dla lotniska 14679 - <Response [200]>.\n",
            "Brak danych dla lotniska 12343.\n",
            "Brak danych dla lotniska 13076.\n",
            "Brak danych dla lotniska 11503.\n",
            "Brak danych dla lotniska 11617.\n",
            "Brak danych dla lotniska 10728.\n",
            "Brak danych dla lotniska 10785.\n",
            "Pobieranie danych dla lotniska 14869 - <Response [200]>.\n",
            "Pobieranie danych dla lotniska 14027 - <Response [200]>.\n",
            "Brak danych dla lotniska 14674.\n",
            "Brak danych dla lotniska 12197.\n",
            "Brak danych dla lotniska 14696.\n",
            "Pobieranie danych dla lotniska 13485 - <Response [200]>.\n",
            "Brak danych dla lotniska 10781.\n",
            "Brak danych dla lotniska 10849.\n",
            "Brak danych dla lotniska 14955.\n",
            "Brak danych dla lotniska 13433.\n",
            "Brak danych dla lotniska 15074.\n",
            "Brak danych dla lotniska 13127.\n",
            "Brak danych dla lotniska 11013.\n",
            "Pobieranie danych dla lotniska 14122 - <Response [200]>.\n",
            "Brak danych dla lotniska 10154.\n",
            "Brak danych dla lotniska 10980.\n",
            "Brak danych dla lotniska 14098.\n",
            "Pobieranie danych dla lotniska 12982 - <Response [200]>.\n",
            "Brak danych dla lotniska 14512.\n",
            "Brak danych dla lotniska 12278.\n",
            "Pobieranie danych dla lotniska 15919 - <Response [200]>.\n",
            "Pobieranie danych dla lotniska 12478 - <Response [200]>.\n",
            "Pobieranie danych dla lotniska 13830 - <Response [200]>.\n",
            "Brak danych dla lotniska 13933.\n",
            "Pobieranie danych dla lotniska 13930 - <Response [200]>.\n",
            "Brak danych dla lotniska 11997.\n",
            "Brak danych dla lotniska 11027.\n",
            "Brak danych dla lotniska 15582.\n",
            "Brak danych dla lotniska 11721.\n",
            "Brak danych dla lotniska 12896.\n",
            "Brak danych dla lotniska 10279.\n",
            "Brak danych dla lotniska 11778.\n",
            "Brak danych dla lotniska 12888.\n",
            "Pobieranie danych dla lotniska 14262 - <Response [200]>.\n",
            "Brak danych dla lotniska 11415.\n",
            "Brak danych dla lotniska 10685.\n",
            "Brak danych dla lotniska 14842.\n",
            "Pobieranie danych dla lotniska 14761 - <Response [200]>.\n",
            "Pobieranie danych dla lotniska 11193 - <Response [200]>.\n",
            "Brak danych dla lotniska 12265.\n",
            "Brak danych dla lotniska 14288.\n",
            "Pobieranie danych dla lotniska 10713 - <Response [200]>.\n",
            "Brak danych dla lotniska 12397.\n",
            "Brak danych dla lotniska 15624.\n",
            "Pobieranie danych dla lotniska 10994 - <Response [200]>.\n",
            "Brak danych dla lotniska 10409.\n",
            "Brak danych dla lotniska 12519.\n",
            "Brak danych dla lotniska 10136.\n",
            "Brak danych dla lotniska 15607.\n",
            "Brak danych dla lotniska 14237.\n",
            "Brak danych dla lotniska 10779.\n",
            "Brak danych dla lotniska 11898.\n",
            "Brak danych dla lotniska 11413.\n",
            "Brak danych dla lotniska 13983.\n",
            "Brak danych dla lotniska 10558.\n",
            "Brak danych dla lotniska 10620.\n",
            "Brak danych dla lotniska 14222.\n",
            "Pobieranie danych dla lotniska 13198 - <Response [200]>.\n",
            "Pobieranie danych dla lotniska 10423 - <Response [200]>.\n",
            "Brak danych dla lotniska 11097.\n",
            "Brak danych dla lotniska 15454.\n",
            "Pobieranie danych dla lotniska 15370 - <Response [200]>.\n",
            "Brak danych dla lotniska 12899.\n",
            "Brak danych dla lotniska 10135.\n",
            "Brak danych dla lotniska 12177.\n",
            "Pobieranie danych dla lotniska 13303 - <Response [200]>.\n",
            "Brak danych dla lotniska 13795.\n",
            "Pobieranie danych dla lotniska 10693 - <Response [200]>.\n",
            "Brak danych dla lotniska 12945.\n",
            "Brak danych dla lotniska 12511.\n",
            "Pobieranie danych zakończone.\n"
          ]
        }
      ],
      "source": [
        "API_URL_airport = f\"{API_URL}/airport\"\n",
        "\n",
        "airports = []\n",
        "\n",
        "for airport_id in df[\"origin_airport_id\"]:\n",
        "    response = requests.get(f\"{API_URL_airport}/{airport_id}\", headers=headers)\n",
        "    if response.status_code == 200:\n",
        "        print(f\"Pobieranie danych dla lotniska {airport_id} - {response}.\")\n",
        "        data = response.json()\n",
        "        airports.append(data)\n",
        "    elif response.status_code == 400:\n",
        "        print(f\"Brak danych dla lotniska {airport_id}.\")\n",
        "    else:\n",
        "        print(f\"Błąd: {response.status_code}.\")\n",
        "    sleep(REQUEST_OFFSET)\n",
        "airport_df=pd.DataFrame.from_records(airports)\n",
        "\n",
        "print(\"Pobieranie danych zakończone.\")"
      ]
    },
    {
      "cell_type": "markdown",
      "metadata": {
        "id": "t5S0FNog0gY6"
      },
      "source": [
        " ## Sprawdzenie\n",
        " Uruchom kod poniżej, aby sprawdzić czy ta część została poprawnie wykonana"
      ]
    },
    {
      "cell_type": "code",
      "execution_count": 8,
      "metadata": {
        "id": "P46QuC3L0gY6"
      },
      "outputs": [],
      "source": [
        "airport_df_expected_shape = (97, 4)\n",
        "assert airport_df_expected_shape == airport_df.shape"
      ]
    },
    {
      "cell_type": "markdown",
      "metadata": {
        "id": "16cTWTiR0gY7"
      },
      "source": [
        " Tutaj zapisz ramkę `airport_df` do pliku `airport_list.csv`"
      ]
    },
    {
      "cell_type": "code",
      "execution_count": 9,
      "metadata": {
        "id": "nsA9vA7o0gY7"
      },
      "outputs": [],
      "source": [
        "airport_df.to_csv('/content/drive/My Drive/Colab Notebooks/portfolio/Pliki_do_Portfolio_Lab/data/airport_list.csv', index=False)"
      ]
    },
    {
      "cell_type": "markdown",
      "metadata": {
        "id": "6AHl5F0B0gY7"
      },
      "source": [
        " # Pobieranie `Weather`\n",
        " Zapoznaj się z dokumentacją endpotu `Weather`, następnie pobierz dane dotyczące zarejestrowanej pogody na poszczególnych lotniskach. Wyniki zapisz do ramki `weather_df`, a później do pliku `airport_weather.csv`.\n",
        "\n",
        " Wskazówki:\n",
        " - Ze względu na wolumen danych, które tutaj się pobiorą, odradzamy zapisywanie danych bezpośrednio do ramki. Rekomendujemy podejście podobne do tego z warsztatu na kursie `Python - analiza danych` - `Dzień 10 - Warsztat > Warsztat > Scrapowanie danych`, czyli stworzenie listy, a następnie przekonwertowanie jej w postać ramki.\n",
        " - Data początkowa danych to `2019-01-01`, zaś data końcowa to `2020-03-31`, czyli 15 miesięcy,\n",
        " - Ze względu na czas, jaki ten krok będzie się wykonywał, warto dodać w pętli instrukcję (lub kilka) `print`, aby monitorować przebieg wykonywania tego kroku.\n",
        " - Przy dodawaniu miesięcy do daty może przydać się metoda [relativedelta](https://www.geeksforgeeks.org/python-get-month-from-year-and-weekday/)."
      ]
    },
    {
      "cell_type": "code",
      "execution_count": null,
      "metadata": {
        "id": "C90wMA060gY7"
      },
      "outputs": [],
      "source": []
    },
    {
      "cell_type": "markdown",
      "metadata": {
        "id": "KI-xIYR60gY8"
      },
      "source": [
        " ## Sprawdzenie\n",
        " Uruchom kod poniżej, aby sprawdzić, czy ta część została poprawnie wykonana"
      ]
    },
    {
      "cell_type": "code",
      "execution_count": null,
      "metadata": {
        "id": "vZbqv7qz0gY8"
      },
      "outputs": [],
      "source": [
        "airport_weather_df_expected_shape = (46226, 33)\n",
        "assert airport_weather_df_expected_shape == airport_weather_df.shape"
      ]
    },
    {
      "cell_type": "markdown",
      "metadata": {
        "id": "pd8AewPe0gY8"
      },
      "source": [
        " ## Zapis do pliku\n",
        " Tutaj zapisz ramkę `weather_df` do pliku `airport_weather.csv` w katalogu `data/raw`"
      ]
    },
    {
      "cell_type": "code",
      "execution_count": null,
      "metadata": {
        "id": "gP5NlA0S0gY8"
      },
      "outputs": [],
      "source": []
    },
    {
      "cell_type": "markdown",
      "metadata": {
        "id": "g3PnUAk30gY8"
      },
      "source": [
        " # Pobranie `Aircraft`\n",
        " Zapoznaj się z dokumentacją endpointu `aircraft`, a następnie pobierz dane produkcyjne samolotów. Wyniki zapisz do ramki `aircraft_df`, a następnie zapisz do pliku `aircraft.csv`.\n"
      ]
    },
    {
      "cell_type": "code",
      "execution_count": null,
      "metadata": {
        "id": "31SLhCwg0gY8"
      },
      "outputs": [],
      "source": []
    },
    {
      "cell_type": "markdown",
      "metadata": {
        "id": "4s2yv-980gY8"
      },
      "source": [
        " ## Sprawdzenie\n",
        " Uruchom kod poniżej, aby sprawdzić, czy ta część została poprawnie wykonana"
      ]
    },
    {
      "cell_type": "code",
      "execution_count": null,
      "metadata": {
        "id": "6tZWvTM00gY9"
      },
      "outputs": [],
      "source": [
        "aircraft_df_expected_shape = (7383, 3)\n",
        "assert aircraft_df_expected_shape == aircraft_df.shape"
      ]
    },
    {
      "cell_type": "markdown",
      "metadata": {
        "id": "5_xCHEpi0gY9"
      },
      "source": [
        " ## Zapis do pliku\n",
        " Tutaj zapisz ramkę `aircraft_df` do pliku `aircraft.csv` w katalogu `data/raw`"
      ]
    },
    {
      "cell_type": "code",
      "execution_count": null,
      "metadata": {
        "id": "tSIjf75_0gY9"
      },
      "outputs": [],
      "source": []
    },
    {
      "cell_type": "markdown",
      "metadata": {
        "id": "JyYAaDgL0gY9"
      },
      "source": [
        " # Pobranie `Flight`\n",
        " Zapoznaj się z dokumentacją endpointu `flights`, następnie pobierz dane dotyczące ruchu lotniczego. Wyniki zapisz do ramki `flight_df`, a później do pliku `flight.csv`.\n",
        "\n",
        " Wskazówki:\n",
        " - Zwróć szczególną uwagę na konstrukcję endpointa,\n",
        " - Ze względu na wolumen danych, które tutaj się pobiorą, odradzamy zapisywanie danych bezpośrednio do ramki. Rekomendujemy podejście podobne do tego, z warsztatu na kursie `Python - analiza danych` - `Dzień 10 - Warsztat > Warsztat > Scrapowanie danych`,\n",
        " - Data początkowa danych to `2019-01-01`, zaś końcowa to `2020-03-31`, czyli 456 dni,\n",
        " - Ze względu na czas, jaki ten krok będzie się wykonywał, warto dodać w pętli instrukcję (lub kilka) `print`, aby monitorować przebieg wykonywania tego kroku,\n",
        " - W przypadku, gdy nie ma dostępnych danych dla danego lotniska, API zwraca kod [204](https://developer.mozilla.org/en-US/docs/Web/HTTP/Status/204), w ten sposób możesz pominąć lotniska, dla których dane nie są dostępne,\n",
        " - Pobranie całości danych zajmuje dłuższą chwilę, zanim włączysz pętle dla wszystkich danych, sprawdź pobieranie danych dla jednego, dwóch lotnisk aby uniknąć frustracji."
      ]
    },
    {
      "cell_type": "code",
      "execution_count": null,
      "metadata": {
        "id": "VYIdXHZK0gY9"
      },
      "outputs": [],
      "source": []
    },
    {
      "cell_type": "markdown",
      "metadata": {
        "id": "eFXdRVCh0gY9"
      },
      "source": [
        " ## Sprawdzenie\n",
        " Uruchom kod poniżej, aby sprawdzić, czy ta część została poprawnie wykonana"
      ]
    },
    {
      "cell_type": "code",
      "execution_count": null,
      "metadata": {
        "id": "ocyJQqqe0gY9"
      },
      "outputs": [],
      "source": [
        "flight_df_expected_shape = (1386120, 27)\n",
        "assert flight_df_expected_shape == flight_df.shape"
      ]
    },
    {
      "cell_type": "markdown",
      "metadata": {
        "id": "5WEch1qZ0gY9"
      },
      "source": [
        " ## Zapis do pliku\n",
        " Tutaj zapisz ramkę `flight_df` do pliku `flight.csv` w katalogu `data/raw`"
      ]
    },
    {
      "cell_type": "code",
      "execution_count": null,
      "metadata": {
        "id": "NVKCgsjY0gY-"
      },
      "outputs": [],
      "source": []
    },
    {
      "cell_type": "markdown",
      "metadata": {
        "id": "kaiNhQTa0gY-"
      },
      "source": [
        " # Podsumowanie\n",
        " W tym notatniku wykonaliśmy podstawowy krok w analizie danych - pozyskaliśmy je. Są gotowe do dalszej pracy, czyli możemy załadować je na bazę danych, a następnie zapoznać się z tym, jakie informacje ze sobą niosą. Kolejne notatniki będą służyły właśnie tym celom."
      ]
    },
    {
      "cell_type": "code",
      "execution_count": null,
      "metadata": {
        "id": "4MMtjs_90gY-"
      },
      "outputs": [],
      "source": [
        "msg = \"Wszystko wygląda OK :) Możesz przejść do kolejnego kroku.\"\n",
        "print(msg)"
      ]
    }
  ],
  "metadata": {
    "kernelspec": {
      "display_name": "Python 3 (ipykernel)",
      "language": "python",
      "name": "python3"
    },
    "language_info": {
      "codemirror_mode": {
        "name": "ipython",
        "version": 3
      },
      "file_extension": ".py",
      "mimetype": "text/x-python",
      "name": "python",
      "nbconvert_exporter": "python",
      "pygments_lexer": "ipython3",
      "version": "3.9.12"
    },
    "vscode": {
      "interpreter": {
        "hash": "38d75d0df746d7f75dd34c5d1915af59cb55786647bd68b8d9064425d7680b12"
      }
    },
    "colab": {
      "provenance": [],
      "include_colab_link": true
    }
  },
  "nbformat": 4,
  "nbformat_minor": 0
}