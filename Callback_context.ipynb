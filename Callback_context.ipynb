{
  "nbformat": 4,
  "nbformat_minor": 0,
  "metadata": {
    "colab": {
      "provenance": [],
      "include_colab_link": true
    },
    "kernelspec": {
      "name": "python3",
      "display_name": "Python 3"
    },
    "language_info": {
      "name": "python"
    }
  },
  "cells": [
    {
      "cell_type": "markdown",
      "metadata": {
        "id": "view-in-github",
        "colab_type": "text"
      },
      "source": [
        "<a href=\"https://colab.research.google.com/github/PaulinaTarkowsk/sql_recap/blob/main/Callback_context.ipynb\" target=\"_parent\"><img src=\"https://colab.research.google.com/assets/colab-badge.svg\" alt=\"Open In Colab\"/></a>"
      ]
    },
    {
      "cell_type": "code",
      "execution_count": 6,
      "metadata": {
        "id": "hu3Cn40bP03i",
        "colab": {
          "base_uri": "https://localhost:8080/"
        },
        "outputId": "f3cf7e33-94a8-46f6-e6bd-555f99951260"
      },
      "outputs": [
        {
          "output_type": "stream",
          "name": "stdout",
          "text": [
            "Requirement already satisfied: dash in /usr/local/lib/python3.10/dist-packages (2.17.1)\n",
            "Requirement already satisfied: Flask<3.1,>=1.0.4 in /usr/local/lib/python3.10/dist-packages (from dash) (2.2.5)\n",
            "Requirement already satisfied: Werkzeug<3.1 in /usr/local/lib/python3.10/dist-packages (from dash) (3.0.3)\n",
            "Requirement already satisfied: plotly>=5.0.0 in /usr/local/lib/python3.10/dist-packages (from dash) (5.15.0)\n",
            "Requirement already satisfied: dash-html-components==2.0.0 in /usr/local/lib/python3.10/dist-packages (from dash) (2.0.0)\n",
            "Requirement already satisfied: dash-core-components==2.0.0 in /usr/local/lib/python3.10/dist-packages (from dash) (2.0.0)\n",
            "Requirement already satisfied: dash-table==5.0.0 in /usr/local/lib/python3.10/dist-packages (from dash) (5.0.0)\n",
            "Requirement already satisfied: importlib-metadata in /usr/local/lib/python3.10/dist-packages (from dash) (8.1.0)\n",
            "Requirement already satisfied: typing-extensions>=4.1.1 in /usr/local/lib/python3.10/dist-packages (from dash) (4.12.2)\n",
            "Requirement already satisfied: requests in /usr/local/lib/python3.10/dist-packages (from dash) (2.31.0)\n",
            "Requirement already satisfied: retrying in /usr/local/lib/python3.10/dist-packages (from dash) (1.3.4)\n",
            "Requirement already satisfied: nest-asyncio in /usr/local/lib/python3.10/dist-packages (from dash) (1.6.0)\n",
            "Requirement already satisfied: setuptools in /usr/local/lib/python3.10/dist-packages (from dash) (71.0.4)\n",
            "Requirement already satisfied: Jinja2>=3.0 in /usr/local/lib/python3.10/dist-packages (from Flask<3.1,>=1.0.4->dash) (3.1.4)\n",
            "Requirement already satisfied: itsdangerous>=2.0 in /usr/local/lib/python3.10/dist-packages (from Flask<3.1,>=1.0.4->dash) (2.2.0)\n",
            "Requirement already satisfied: click>=8.0 in /usr/local/lib/python3.10/dist-packages (from Flask<3.1,>=1.0.4->dash) (8.1.7)\n",
            "Requirement already satisfied: tenacity>=6.2.0 in /usr/local/lib/python3.10/dist-packages (from plotly>=5.0.0->dash) (8.5.0)\n",
            "Requirement already satisfied: packaging in /usr/local/lib/python3.10/dist-packages (from plotly>=5.0.0->dash) (24.1)\n",
            "Requirement already satisfied: MarkupSafe>=2.1.1 in /usr/local/lib/python3.10/dist-packages (from Werkzeug<3.1->dash) (2.1.5)\n",
            "Requirement already satisfied: zipp>=0.5 in /usr/local/lib/python3.10/dist-packages (from importlib-metadata->dash) (3.19.2)\n",
            "Requirement already satisfied: charset-normalizer<4,>=2 in /usr/local/lib/python3.10/dist-packages (from requests->dash) (3.3.2)\n",
            "Requirement already satisfied: idna<4,>=2.5 in /usr/local/lib/python3.10/dist-packages (from requests->dash) (3.7)\n",
            "Requirement already satisfied: urllib3<3,>=1.21.1 in /usr/local/lib/python3.10/dist-packages (from requests->dash) (2.0.7)\n",
            "Requirement already satisfied: certifi>=2017.4.17 in /usr/local/lib/python3.10/dist-packages (from requests->dash) (2024.7.4)\n",
            "Requirement already satisfied: six>=1.7.0 in /usr/local/lib/python3.10/dist-packages (from retrying->dash) (1.16.0)\n"
          ]
        }
      ],
      "source": [
        "!pip install dash"
      ]
    },
    {
      "cell_type": "code",
      "source": [
        "import dash\n",
        "import json\n",
        "import threading\n",
        "from dash import dcc\n",
        "from dash import html\n",
        "from dash.dependencies import Input, Output\n",
        "from google.colab import output, drive"
      ],
      "metadata": {
        "id": "DLFj8fFEP-E-"
      },
      "execution_count": 7,
      "outputs": []
    },
    {
      "cell_type": "code",
      "source": [
        "app = dash.Dash()\n",
        "\n",
        "app.layout = html.Div(\n",
        "    children=[\n",
        "              html.Button('My Button', id='button'),\n",
        "              dcc.Slider(id='slider', max=10, min=0, step=2, value=4),\n",
        "              dcc.Input(id='input', type=\"text\", placeholder=\"type something here\"),\n",
        "              html.Div(id='result')\n",
        "              ],\n",
        "    style={\n",
        "        \"display\": \"inline-flex\",\n",
        "        \"flex-direction\": \"column\",\n",
        "        \"justify-content\": \"center\",\n",
        "        \"align-content\": \"center\",\n",
        "        \"height\": \"100%\",\n",
        "        \"fontFamily\": \"verdana\",\n",
        "        \"color\": \"#444\"\n",
        "        }\n",
        ")\n",
        "\n",
        "@app.callback(\n",
        "    Output('result', 'children'),\n",
        "    Input('button', 'n_clicks'),\n",
        "    Input('slider', 'value'),\n",
        "    Input('input', 'value')\n",
        ")\n",
        "def show_context(clicks, slider_value, input_value):\n",
        "  context = dash.callback_context\n",
        "\n",
        "  if not context.triggered:\n",
        "    return \"no interaction happened\"\n",
        "  else:\n",
        "    children = [\n",
        "                html.H4(\"Check below callback context triggered content:\"),\n",
        "                html.Div(json.dumps(context.triggered)),\n",
        "                html.Br(),\n",
        "                html.H4(\"And below callback context inputs content:\"),\n",
        "                html.Div(json.dumps(context.inputs))\n",
        "    ]\n",
        "\n",
        "    return children"
      ],
      "metadata": {
        "id": "1vfHHRGNQCrK"
      },
      "execution_count": 8,
      "outputs": []
    },
    {
      "cell_type": "code",
      "source": [
        "thread = threading.Thread(target=app.run_server)\n",
        "thread.start()\n",
        "output.serve_kernel_port_as_window(port=8050)"
      ],
      "metadata": {
        "id": "wszIM-RROFGS"
      },
      "execution_count": null,
      "outputs": []
    },
    {
      "cell_type": "code",
      "source": [
        "app = dash.Dash()\n",
        "\n",
        "app.layout = html.Div(\n",
        "    children=[\n",
        "              html.Button('My Button', id='button'),\n",
        "              dcc.Slider(id='slider', max=10, min=0, step=2, value=4),\n",
        "              dcc.Input(id='input', type=\"text\", placeholder=\"type something here\"),\n",
        "              html.Div(id='result')\n",
        "              ],\n",
        "    style={\n",
        "        \"display\": \"inline-flex\",\n",
        "        \"flex-direction\": \"column\",\n",
        "        \"justify-content\": \"center\",\n",
        "        \"align-content\": \"center\",\n",
        "        \"height\": \"100%\",\n",
        "        \"fontFamily\": \"verdana\",\n",
        "        \"color\": \"#444\"\n",
        "        }\n",
        ")\n",
        "\n",
        "@app.callback(\n",
        "    Output('result', 'children'),\n",
        "    Input('button', 'n_clicks'),\n",
        "    Input('slider', 'value'),\n",
        "    Input('input', 'value')\n",
        ")\n",
        "def show_context(clicks, slider_value, input_value):\n",
        "  context = dash.callback_context\n",
        "\n",
        "  x = context.triggered\n",
        "\n",
        "\n",
        "  if not context.triggered:\n",
        "    return \"no interaction happened\"\n",
        "  else:\n",
        "    children = [\n",
        "                html.H4(\"Check below callback context triggered content:\"),\n",
        "                html.Div(\n",
        "                  \"Zmiana wywołana przez: \"+ str(json.dumps(context.triggered[0][\"prop_id\"])).replace(\"\"\"slider.value\"\"\",\"zmiane slidera\").replace(\"\"\"input.value\"\"\",\"zmiane pola tekstowego\").replace(\"\"\"button.n_clicks\"\"\",\"kliknięcie przycisku\"),\n",
        "\n",
        "                        ),\n",
        "                \"Wartość: \"+ str(json.dumps(context.triggered[0][\"value\"]))\n",
        "    ]\n",
        "\n",
        "    return children\n",
        ""
      ],
      "metadata": {
        "id": "e-Z3-uSvOHFG"
      },
      "execution_count": 30,
      "outputs": []
    },
    {
      "cell_type": "code",
      "source": [
        "thread = threading.Thread(target=app.run_server)\n",
        "thread.start()\n",
        "output.serve_kernel_port_as_window(port=8050)"
      ],
      "metadata": {
        "id": "ASDjRobpQ5eb",
        "colab": {
          "base_uri": "https://localhost:8080/",
          "height": 34
        },
        "outputId": "44a3fb57-e2e9-498d-e644-b3e1292765a8"
      },
      "execution_count": 31,
      "outputs": [
        {
          "output_type": "display_data",
          "data": {
            "text/plain": [
              "<IPython.core.display.Javascript object>"
            ],
            "application/javascript": [
              "(async (port, path, text, element) => {\n",
              "    if (!google.colab.kernel.accessAllowed) {\n",
              "      return;\n",
              "    }\n",
              "    element.appendChild(document.createTextNode(''));\n",
              "    const url = await google.colab.kernel.proxyPort(port);\n",
              "    const anchor = document.createElement('a');\n",
              "    anchor.href = new URL(path, url).toString();\n",
              "    anchor.target = '_blank';\n",
              "    anchor.setAttribute('data-href', url + path);\n",
              "    anchor.textContent = text;\n",
              "    element.appendChild(anchor);\n",
              "  })(8050, \"/\", \"https://localhost:8050/\", window.element)"
            ]
          },
          "metadata": {}
        }
      ]
    },
    {
      "cell_type": "code",
      "source": [
        "import random\n",
        "app = dash.Dash()\n",
        "\n",
        "app.layout = html.Div(\n",
        "    children=[\n",
        "              dcc.Dropdown(options=[random.randint(1, 49) for _ in range(6)],id='input'),\n",
        "              html.Div(id='result')\n",
        "              ],\n",
        "    style={\n",
        "        \"display\": \"inline-flex\",\n",
        "        \"flex-direction\": \"column\",\n",
        "        \"justify-content\": \"center\",\n",
        "        \"align-content\": \"center\",\n",
        "        \"height\": \"100%\",\n",
        "        \"fontFamily\": \"verdana\",\n",
        "        \"color\": \"#444\"\n",
        "        }\n",
        ")\n",
        "\n",
        "@app.callback(\n",
        "    Output('result', 'children'),\n",
        "    Input('input', 'value')\n",
        ")\n",
        "def show_context(input_value):\n",
        "  context = dash.callback_context\n",
        "\n",
        "  if not context.triggered:\n",
        "    return \"no interaction happened\"\n",
        "  else:\n",
        "    children = [\n",
        "                html.H4(\"Check below callback context triggered content:\"),\n",
        "                html.Div(str(json.dumps(context.triggered[0][\"prop_id\"])).replace(\"\"\"input.value\"\"\",\"Twoje szczęśliwe numery totolotka to:\")),\n",
        "                \"Liczba: \"+ str(json.dumps(context.triggered[0][\"value\"]))\n",
        "    ]\n",
        "\n",
        "    return children\n"
      ],
      "metadata": {
        "id": "DgHJiJD1OOQu"
      },
      "execution_count": 32,
      "outputs": []
    },
    {
      "cell_type": "code",
      "source": [
        "thread = threading.Thread(target=app.run_server)\n",
        "thread.start()\n",
        "output.serve_kernel_port_as_window(port=8050)"
      ],
      "metadata": {
        "colab": {
          "base_uri": "https://localhost:8080/",
          "height": 689
        },
        "id": "LZep3S6pOOgS",
        "outputId": "330b2d53-986e-4c4a-d072-68143109d47d"
      },
      "execution_count": 33,
      "outputs": [
        {
          "output_type": "display_data",
          "data": {
            "text/plain": [
              "<IPython.core.display.Javascript object>"
            ],
            "application/javascript": [
              "(async (port, path, text, element) => {\n",
              "    if (!google.colab.kernel.accessAllowed) {\n",
              "      return;\n",
              "    }\n",
              "    element.appendChild(document.createTextNode(''));\n",
              "    const url = await google.colab.kernel.proxyPort(port);\n",
              "    const anchor = document.createElement('a');\n",
              "    anchor.href = new URL(path, url).toString();\n",
              "    anchor.target = '_blank';\n",
              "    anchor.setAttribute('data-href', url + path);\n",
              "    anchor.textContent = text;\n",
              "    element.appendChild(anchor);\n",
              "  })(8050, \"/\", \"https://localhost:8050/\", window.element)"
            ]
          },
          "metadata": {}
        },
        {
          "output_type": "display_data",
          "data": {
            "text/plain": [
              "<IPython.core.display.Javascript object>"
            ],
            "application/javascript": [
              "(async (port, path, width, height, cache, element) => {\n",
              "    if (!google.colab.kernel.accessAllowed && !cache) {\n",
              "      return;\n",
              "    }\n",
              "    element.appendChild(document.createTextNode(''));\n",
              "    const url = await google.colab.kernel.proxyPort(port, {cache});\n",
              "    const iframe = document.createElement('iframe');\n",
              "    iframe.src = new URL(path, url).toString();\n",
              "    iframe.height = height;\n",
              "    iframe.width = width;\n",
              "    iframe.style.border = 0;\n",
              "    iframe.allow = [\n",
              "        'accelerometer',\n",
              "        'autoplay',\n",
              "        'camera',\n",
              "        'clipboard-read',\n",
              "        'clipboard-write',\n",
              "        'gyroscope',\n",
              "        'magnetometer',\n",
              "        'microphone',\n",
              "        'serial',\n",
              "        'usb',\n",
              "        'xr-spatial-tracking',\n",
              "    ].join('; ');\n",
              "    element.appendChild(iframe);\n",
              "  })(8050, \"/\", \"100%\", 650, false, window.element)"
            ]
          },
          "metadata": {}
        }
      ]
    },
    {
      "cell_type": "code",
      "source": [],
      "metadata": {
        "id": "S0kJbTZaQH_r"
      },
      "execution_count": null,
      "outputs": []
    }
  ]
}