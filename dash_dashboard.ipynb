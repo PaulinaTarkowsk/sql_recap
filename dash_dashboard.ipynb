{
  "nbformat": 4,
  "nbformat_minor": 0,
  "metadata": {
    "colab": {
      "provenance": [],
      "include_colab_link": true
    },
    "kernelspec": {
      "name": "python3",
      "display_name": "Python 3"
    },
    "language_info": {
      "name": "python"
    }
  },
  "cells": [
    {
      "cell_type": "markdown",
      "metadata": {
        "id": "view-in-github",
        "colab_type": "text"
      },
      "source": [
        "<a href=\"https://colab.research.google.com/github/PaulinaTarkowsk/sql_recap/blob/main/dash_dashboard.ipynb\" target=\"_parent\"><img src=\"https://colab.research.google.com/assets/colab-badge.svg\" alt=\"Open In Colab\"/></a>"
      ]
    },
    {
      "cell_type": "markdown",
      "source": [
        "## Tworzenie dashboardu w dash"
      ],
      "metadata": {
        "id": "W2ga6wwq6OiE"
      }
    },
    {
      "cell_type": "markdown",
      "source": [
        "### Przygotowanie notatnika"
      ],
      "metadata": {
        "id": "nYeuSZs_8plq"
      }
    },
    {
      "cell_type": "markdown",
      "source": [
        "Zaczynamy od zainstalowania i importu potrzebnych bibliotek."
      ],
      "metadata": {
        "id": "10Bxeeot6Uxi"
      }
    },
    {
      "cell_type": "code",
      "source": [
        "!pip install dash"
      ],
      "metadata": {
        "id": "FmaZ2sHS2KXi",
        "colab": {
          "base_uri": "https://localhost:8080/"
        },
        "outputId": "2735ec89-046d-44de-9971-7ed8a74c3cbd"
      },
      "execution_count": 1,
      "outputs": [
        {
          "output_type": "stream",
          "name": "stdout",
          "text": [
            "Collecting dash\n",
            "  Downloading dash-2.17.1-py3-none-any.whl.metadata (10 kB)\n",
            "Requirement already satisfied: Flask<3.1,>=1.0.4 in /usr/local/lib/python3.10/dist-packages (from dash) (2.2.5)\n",
            "Requirement already satisfied: Werkzeug<3.1 in /usr/local/lib/python3.10/dist-packages (from dash) (3.0.3)\n",
            "Requirement already satisfied: plotly>=5.0.0 in /usr/local/lib/python3.10/dist-packages (from dash) (5.15.0)\n",
            "Collecting dash-html-components==2.0.0 (from dash)\n",
            "  Downloading dash_html_components-2.0.0-py3-none-any.whl.metadata (3.8 kB)\n",
            "Collecting dash-core-components==2.0.0 (from dash)\n",
            "  Downloading dash_core_components-2.0.0-py3-none-any.whl.metadata (2.9 kB)\n",
            "Collecting dash-table==5.0.0 (from dash)\n",
            "  Downloading dash_table-5.0.0-py3-none-any.whl.metadata (2.4 kB)\n",
            "Requirement already satisfied: importlib-metadata in /usr/local/lib/python3.10/dist-packages (from dash) (8.1.0)\n",
            "Requirement already satisfied: typing-extensions>=4.1.1 in /usr/local/lib/python3.10/dist-packages (from dash) (4.12.2)\n",
            "Requirement already satisfied: requests in /usr/local/lib/python3.10/dist-packages (from dash) (2.31.0)\n",
            "Collecting retrying (from dash)\n",
            "  Downloading retrying-1.3.4-py3-none-any.whl.metadata (6.9 kB)\n",
            "Requirement already satisfied: nest-asyncio in /usr/local/lib/python3.10/dist-packages (from dash) (1.6.0)\n",
            "Requirement already satisfied: setuptools in /usr/local/lib/python3.10/dist-packages (from dash) (71.0.4)\n",
            "Requirement already satisfied: Jinja2>=3.0 in /usr/local/lib/python3.10/dist-packages (from Flask<3.1,>=1.0.4->dash) (3.1.4)\n",
            "Requirement already satisfied: itsdangerous>=2.0 in /usr/local/lib/python3.10/dist-packages (from Flask<3.1,>=1.0.4->dash) (2.2.0)\n",
            "Requirement already satisfied: click>=8.0 in /usr/local/lib/python3.10/dist-packages (from Flask<3.1,>=1.0.4->dash) (8.1.7)\n",
            "Requirement already satisfied: tenacity>=6.2.0 in /usr/local/lib/python3.10/dist-packages (from plotly>=5.0.0->dash) (8.5.0)\n",
            "Requirement already satisfied: packaging in /usr/local/lib/python3.10/dist-packages (from plotly>=5.0.0->dash) (24.1)\n",
            "Requirement already satisfied: MarkupSafe>=2.1.1 in /usr/local/lib/python3.10/dist-packages (from Werkzeug<3.1->dash) (2.1.5)\n",
            "Requirement already satisfied: zipp>=0.5 in /usr/local/lib/python3.10/dist-packages (from importlib-metadata->dash) (3.19.2)\n",
            "Requirement already satisfied: charset-normalizer<4,>=2 in /usr/local/lib/python3.10/dist-packages (from requests->dash) (3.3.2)\n",
            "Requirement already satisfied: idna<4,>=2.5 in /usr/local/lib/python3.10/dist-packages (from requests->dash) (3.7)\n",
            "Requirement already satisfied: urllib3<3,>=1.21.1 in /usr/local/lib/python3.10/dist-packages (from requests->dash) (2.0.7)\n",
            "Requirement already satisfied: certifi>=2017.4.17 in /usr/local/lib/python3.10/dist-packages (from requests->dash) (2024.7.4)\n",
            "Requirement already satisfied: six>=1.7.0 in /usr/local/lib/python3.10/dist-packages (from retrying->dash) (1.16.0)\n",
            "Downloading dash-2.17.1-py3-none-any.whl (7.5 MB)\n",
            "\u001b[2K   \u001b[90m━━━━━━━━━━━━━━━━━━━━━━━━━━━━━━━━━━━━━━━━\u001b[0m \u001b[32m7.5/7.5 MB\u001b[0m \u001b[31m19.3 MB/s\u001b[0m eta \u001b[36m0:00:00\u001b[0m\n",
            "\u001b[?25hDownloading dash_core_components-2.0.0-py3-none-any.whl (3.8 kB)\n",
            "Downloading dash_html_components-2.0.0-py3-none-any.whl (4.1 kB)\n",
            "Downloading dash_table-5.0.0-py3-none-any.whl (3.9 kB)\n",
            "Downloading retrying-1.3.4-py3-none-any.whl (11 kB)\n",
            "Installing collected packages: dash-table, dash-html-components, dash-core-components, retrying, dash\n",
            "Successfully installed dash-2.17.1 dash-core-components-2.0.0 dash-html-components-2.0.0 dash-table-5.0.0 retrying-1.3.4\n"
          ]
        }
      ]
    },
    {
      "cell_type": "code",
      "source": [
        "import dash\n",
        "import pandas as pd\n",
        "import numpy as np\n",
        "import plotly.express as px\n",
        "import threading\n",
        "from dash import dcc\n",
        "from dash import html\n",
        "from dash.dependencies import Input, Output\n",
        "from google.colab import output"
      ],
      "metadata": {
        "id": "timT-qnW2aXg"
      },
      "execution_count": 2,
      "outputs": []
    },
    {
      "cell_type": "markdown",
      "source": [
        "### Tworzenie wizualizacji"
      ],
      "metadata": {
        "id": "dDUGR24R8tha"
      }
    },
    {
      "cell_type": "markdown",
      "source": [
        "#### Rozwiązania wspierające"
      ],
      "metadata": {
        "id": "J1CYsUcUsCzn"
      }
    },
    {
      "cell_type": "markdown",
      "source": [
        "W celu stworzenia prostej wizualizacji wykorzystamy poniższą funkcję."
      ],
      "metadata": {
        "id": "TAc4FXJIfXE6"
      }
    },
    {
      "cell_type": "code",
      "source": [
        "def find_special_points(value, points):\n",
        "\n",
        "    if value == points.max():\n",
        "      special_point_name = \"max\"\n",
        "    elif value == points.min():\n",
        "      special_point_name = \"min\"\n",
        "    elif value == points.median():\n",
        "      special_point_name =\"median\"\n",
        "    else:\n",
        "      special_point_name = \"not special\"\n",
        "\n",
        "    return special_point_name"
      ],
      "metadata": {
        "id": "ZIsURmkl_pFd"
      },
      "execution_count": 3,
      "outputs": []
    },
    {
      "cell_type": "markdown",
      "source": [
        "Poniżej mamy pełny kod aplikacji wykorzystanej w prezentacji **Dashboard**."
      ],
      "metadata": {
        "id": "nCC2INKaGVdh"
      }
    },
    {
      "cell_type": "code",
      "source": [
        "app = dash.Dash()\n",
        "app.layout = html.Div(\n",
        "        children=[\n",
        "         html.Div(children=[\n",
        "                            html.H2(\"Random points generator\"),\n",
        "                            html.H4(\"Please select value from dropdown to generate new points. After selection chart will refresh with selected number of points.\")\n",
        "         ]),\n",
        "         html.Div(\n",
        "             children=[\n",
        "                dcc.Graph(id='graph'),\n",
        "                html.Div(\n",
        "                    children=[\n",
        "                              html.P(\"Choose value\"),\n",
        "                              dcc.Dropdown(\n",
        "                                  id='number-dropdown',\n",
        "                                  clearable=False,\n",
        "                                  value=7,\n",
        "                                  options=[45, 75, 95],\n",
        "                                  ),\n",
        "                              ],\n",
        "                    ),\n",
        "             ],\n",
        "             style={\n",
        "             \"display\": \"flex\",\n",
        "             \"flex-direction\": \"row-reverse\",\n",
        "             \"justify-content\": \"center\",\n",
        "             \"align-items\": \"center\",\n",
        "             \"height\": \"100%\"\n",
        "             }\n",
        "\n",
        "         )\n",
        "         ],\n",
        "         style={\n",
        "             \"display\": \"flex\",\n",
        "             \"flex-direction\": \"row\",\n",
        "             \"justify-content\": \"space-around\",\n",
        "             \"height\": \"100%\",\n",
        "             \"fontFamily\": \"verdana\",\n",
        "             \"color\": \"#444\",\n",
        "             \"align-items\": \"stretch\",\n",
        "             }\n",
        ")\n",
        "\n",
        "@app.callback(\n",
        "    Output('graph', 'figure'),\n",
        "    [Input(\"number-dropdown\", \"value\")]\n",
        ")\n",
        "def update_figure(points_number):\n",
        "    numbers = pd.DataFrame(np.random.randn(points_number), columns = [\"sample\",])\n",
        "    numbers[\"special_points\"]=numbers[\"sample\"].apply(lambda x: find_special_points(x,numbers[\"sample\"]))\n",
        "\n",
        "    chart = px.scatter(\n",
        "            numbers,\n",
        "            x=numbers.index,\n",
        "            y=\"sample\",\n",
        "            color=\"special_points\",\n",
        "            color_discrete_map={\n",
        "                \"max\": \"#800E13\",\n",
        "                \"median\": \"#169873\",\n",
        "                \"min\": \"#2C497F\",\n",
        "                \"not special\": \"#E4DFDA\",\n",
        "                    },\n",
        "            render_mode=\"webgl\",\n",
        "            template='none',\n",
        "            size=[10 for item in numbers[\"sample\"]],\n",
        "            title=\"Here're your points\"\n",
        "        )\n",
        "    chart\n",
        "    return chart"
      ],
      "metadata": {
        "id": "mbLKjo7YjV8X"
      },
      "execution_count": 12,
      "outputs": []
    },
    {
      "cell_type": "markdown",
      "source": [
        "### Wyświetlenie wizualizacji"
      ],
      "metadata": {
        "id": "88JUU3UV9lPy"
      }
    },
    {
      "cell_type": "markdown",
      "source": [
        "Aby zbudować wizualizację z wykorzystaniem powyższego kodu, potrzebujemy jeszcze uruchomić serwer i przejść na stronę aplikacji.\n"
      ],
      "metadata": {
        "id": "T7om4tW49rvR"
      }
    },
    {
      "cell_type": "code",
      "source": [
        "thread = threading.Thread(target=app.run_server)\n",
        "thread.start()\n",
        "output.serve_kernel_port_as_window(port=8050)"
      ],
      "metadata": {
        "id": "Mj8cDlQv32hQ",
        "colab": {
          "base_uri": "https://localhost:8080/",
          "height": 689
        },
        "outputId": "8bb94c7b-eeb0-42e3-c050-1c09fa205614"
      },
      "execution_count": 13,
      "outputs": [
        {
          "output_type": "display_data",
          "data": {
            "text/plain": [
              "<IPython.core.display.Javascript object>"
            ],
            "application/javascript": [
              "(async (port, path, text, element) => {\n",
              "    if (!google.colab.kernel.accessAllowed) {\n",
              "      return;\n",
              "    }\n",
              "    element.appendChild(document.createTextNode(''));\n",
              "    const url = await google.colab.kernel.proxyPort(port);\n",
              "    const anchor = document.createElement('a');\n",
              "    anchor.href = new URL(path, url).toString();\n",
              "    anchor.target = '_blank';\n",
              "    anchor.setAttribute('data-href', url + path);\n",
              "    anchor.textContent = text;\n",
              "    element.appendChild(anchor);\n",
              "  })(8050, \"/\", \"https://localhost:8050/\", window.element)"
            ]
          },
          "metadata": {}
        },
        {
          "output_type": "display_data",
          "data": {
            "text/plain": [
              "<IPython.core.display.Javascript object>"
            ],
            "application/javascript": [
              "(async (port, path, width, height, cache, element) => {\n",
              "    if (!google.colab.kernel.accessAllowed && !cache) {\n",
              "      return;\n",
              "    }\n",
              "    element.appendChild(document.createTextNode(''));\n",
              "    const url = await google.colab.kernel.proxyPort(port, {cache});\n",
              "    const iframe = document.createElement('iframe');\n",
              "    iframe.src = new URL(path, url).toString();\n",
              "    iframe.height = height;\n",
              "    iframe.width = width;\n",
              "    iframe.style.border = 0;\n",
              "    iframe.allow = [\n",
              "        'accelerometer',\n",
              "        'autoplay',\n",
              "        'camera',\n",
              "        'clipboard-read',\n",
              "        'clipboard-write',\n",
              "        'gyroscope',\n",
              "        'magnetometer',\n",
              "        'microphone',\n",
              "        'serial',\n",
              "        'usb',\n",
              "        'xr-spatial-tracking',\n",
              "    ].join('; ');\n",
              "    element.appendChild(iframe);\n",
              "  })(8050, \"/\", \"100%\", 650, false, window.element)"
            ]
          },
          "metadata": {}
        }
      ]
    },
    {
      "cell_type": "code",
      "source": [],
      "metadata": {
        "id": "fBKcpkBPTnFA"
      },
      "execution_count": null,
      "outputs": []
    }
  ]
}