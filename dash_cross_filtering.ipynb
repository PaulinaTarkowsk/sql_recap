{
  "nbformat": 4,
  "nbformat_minor": 0,
  "metadata": {
    "colab": {
      "provenance": [],
      "include_colab_link": true
    },
    "kernelspec": {
      "name": "python3",
      "display_name": "Python 3"
    },
    "language_info": {
      "name": "python"
    }
  },
  "cells": [
    {
      "cell_type": "markdown",
      "metadata": {
        "id": "view-in-github",
        "colab_type": "text"
      },
      "source": [
        "<a href=\"https://colab.research.google.com/github/PaulinaTarkowsk/sql_recap/blob/main/dash_cross_filtering.ipynb\" target=\"_parent\"><img src=\"https://colab.research.google.com/assets/colab-badge.svg\" alt=\"Open In Colab\"/></a>"
      ]
    },
    {
      "cell_type": "markdown",
      "source": [
        "## Cross filtering w dash"
      ],
      "metadata": {
        "id": "W2ga6wwq6OiE"
      }
    },
    {
      "cell_type": "markdown",
      "source": [
        "### Przygotowanie notatnika"
      ],
      "metadata": {
        "id": "nYeuSZs_8plq"
      }
    },
    {
      "cell_type": "markdown",
      "source": [
        "Zaczynamy od zainstalowania i importu potrzebnych bibliotek."
      ],
      "metadata": {
        "id": "10Bxeeot6Uxi"
      }
    },
    {
      "cell_type": "code",
      "source": [
        "!pip install dash"
      ],
      "metadata": {
        "id": "FmaZ2sHS2KXi",
        "colab": {
          "base_uri": "https://localhost:8080/"
        },
        "outputId": "7e22721b-defb-4b86-fc2a-a4fd8f5e6855"
      },
      "execution_count": 28,
      "outputs": [
        {
          "output_type": "stream",
          "name": "stdout",
          "text": [
            "Requirement already satisfied: dash in /usr/local/lib/python3.10/dist-packages (2.17.1)\n",
            "Requirement already satisfied: Flask<3.1,>=1.0.4 in /usr/local/lib/python3.10/dist-packages (from dash) (2.2.5)\n",
            "Requirement already satisfied: Werkzeug<3.1 in /usr/local/lib/python3.10/dist-packages (from dash) (3.0.3)\n",
            "Requirement already satisfied: plotly>=5.0.0 in /usr/local/lib/python3.10/dist-packages (from dash) (5.15.0)\n",
            "Requirement already satisfied: dash-html-components==2.0.0 in /usr/local/lib/python3.10/dist-packages (from dash) (2.0.0)\n",
            "Requirement already satisfied: dash-core-components==2.0.0 in /usr/local/lib/python3.10/dist-packages (from dash) (2.0.0)\n",
            "Requirement already satisfied: dash-table==5.0.0 in /usr/local/lib/python3.10/dist-packages (from dash) (5.0.0)\n",
            "Requirement already satisfied: importlib-metadata in /usr/local/lib/python3.10/dist-packages (from dash) (8.1.0)\n",
            "Requirement already satisfied: typing-extensions>=4.1.1 in /usr/local/lib/python3.10/dist-packages (from dash) (4.12.2)\n",
            "Requirement already satisfied: requests in /usr/local/lib/python3.10/dist-packages (from dash) (2.31.0)\n",
            "Requirement already satisfied: retrying in /usr/local/lib/python3.10/dist-packages (from dash) (1.3.4)\n",
            "Requirement already satisfied: nest-asyncio in /usr/local/lib/python3.10/dist-packages (from dash) (1.6.0)\n",
            "Requirement already satisfied: setuptools in /usr/local/lib/python3.10/dist-packages (from dash) (71.0.4)\n",
            "Requirement already satisfied: Jinja2>=3.0 in /usr/local/lib/python3.10/dist-packages (from Flask<3.1,>=1.0.4->dash) (3.1.4)\n",
            "Requirement already satisfied: itsdangerous>=2.0 in /usr/local/lib/python3.10/dist-packages (from Flask<3.1,>=1.0.4->dash) (2.2.0)\n",
            "Requirement already satisfied: click>=8.0 in /usr/local/lib/python3.10/dist-packages (from Flask<3.1,>=1.0.4->dash) (8.1.7)\n",
            "Requirement already satisfied: tenacity>=6.2.0 in /usr/local/lib/python3.10/dist-packages (from plotly>=5.0.0->dash) (8.5.0)\n",
            "Requirement already satisfied: packaging in /usr/local/lib/python3.10/dist-packages (from plotly>=5.0.0->dash) (24.1)\n",
            "Requirement already satisfied: MarkupSafe>=2.1.1 in /usr/local/lib/python3.10/dist-packages (from Werkzeug<3.1->dash) (2.1.5)\n",
            "Requirement already satisfied: zipp>=0.5 in /usr/local/lib/python3.10/dist-packages (from importlib-metadata->dash) (3.19.2)\n",
            "Requirement already satisfied: charset-normalizer<4,>=2 in /usr/local/lib/python3.10/dist-packages (from requests->dash) (3.3.2)\n",
            "Requirement already satisfied: idna<4,>=2.5 in /usr/local/lib/python3.10/dist-packages (from requests->dash) (3.7)\n",
            "Requirement already satisfied: urllib3<3,>=1.21.1 in /usr/local/lib/python3.10/dist-packages (from requests->dash) (2.0.7)\n",
            "Requirement already satisfied: certifi>=2017.4.17 in /usr/local/lib/python3.10/dist-packages (from requests->dash) (2024.7.4)\n",
            "Requirement already satisfied: six>=1.7.0 in /usr/local/lib/python3.10/dist-packages (from retrying->dash) (1.16.0)\n"
          ]
        }
      ]
    },
    {
      "cell_type": "code",
      "source": [
        "import dash\n",
        "import json\n",
        "import pandas as pd\n",
        "import numpy as np\n",
        "import plotly.express as px\n",
        "import threading\n",
        "from dash import dcc, html, Input, Output\n",
        "from google.colab import output, drive"
      ],
      "metadata": {
        "id": "timT-qnW2aXg"
      },
      "execution_count": 29,
      "outputs": []
    },
    {
      "cell_type": "code",
      "source": [
        "drive.mount('/content/drive')"
      ],
      "metadata": {
        "id": "5YRMNtiRHz9-",
        "colab": {
          "base_uri": "https://localhost:8080/"
        },
        "outputId": "777873e4-de6e-4aa8-819e-7acca2d87107"
      },
      "execution_count": 30,
      "outputs": [
        {
          "output_type": "stream",
          "name": "stdout",
          "text": [
            "Drive already mounted at /content/drive; to attempt to forcibly remount, call drive.mount(\"/content/drive\", force_remount=True).\n"
          ]
        }
      ]
    },
    {
      "cell_type": "markdown",
      "source": [
        "### Tworzenie wizualizacji"
      ],
      "metadata": {
        "id": "dDUGR24R8tha"
      }
    },
    {
      "cell_type": "markdown",
      "source": [
        "#### Rozwiązania wspierające"
      ],
      "metadata": {
        "id": "J1CYsUcUsCzn"
      }
    },
    {
      "cell_type": "markdown",
      "source": [
        "Przygotowanie potrzebnych danych"
      ],
      "metadata": {
        "id": "RlLmRPmYk2_n"
      }
    },
    {
      "cell_type": "code",
      "source": [
        "population = pd.read_csv('/content/drive/My Drive/Dash/Dash_crossfiltering/population.csv')\n",
        "new_books = pd.read_csv(\"/content/drive/My Drive/Dash/Dash_crossfiltering/new-books-per-million.csv\")\n",
        "new_books = new_books[(new_books[\"Year\"]>=1940) & (new_books[\"Year\"]<=1996)]\n",
        "selected_books = new_books[new_books[\"Year\"]==1996][[\"Entity\", \"Book titles per capita (Fink-Jensen 2015)\"]]\n",
        "selected_pops = population[population[\"Year\"]==1996][[\"Entity\", \"Population (historical estimates)\"]]\n",
        "data = pd.merge(selected_books, selected_pops, how=\"inner\", on=\"Entity\")"
      ],
      "metadata": {
        "id": "WwiE1VJQHTlg"
      },
      "execution_count": 31,
      "outputs": []
    },
    {
      "cell_type": "markdown",
      "source": [
        "Stworzenie wykresu wykorzystywanego w aplikacji"
      ],
      "metadata": {
        "id": "LuocsUhlk7p_"
      }
    },
    {
      "cell_type": "code",
      "source": [
        "scatter_figure = px.scatter(data_frame=data,\n",
        "                 x=\"Book titles per capita (Fink-Jensen 2015)\",\n",
        "                 y=\"Population (historical estimates)\",\n",
        "                 text=\"Entity\",\n",
        "                 log_x=True,\n",
        "                 log_y=True,\n",
        "                 template=\"none\",\n",
        "                 title=\"Country population vs number of new book titles per capita in 1996\")\n",
        "scatter_figure.update_traces(textposition=\"bottom right\")"
      ],
      "metadata": {
        "id": "fow3oHgBQ6Zx",
        "colab": {
          "base_uri": "https://localhost:8080/",
          "height": 542
        },
        "outputId": "e59acacf-40a1-4cb5-f691-8a77a21369ea"
      },
      "execution_count": 32,
      "outputs": [
        {
          "output_type": "display_data",
          "data": {
            "text/html": [
              "<html>\n",
              "<head><meta charset=\"utf-8\" /></head>\n",
              "<body>\n",
              "    <div>            <script src=\"https://cdnjs.cloudflare.com/ajax/libs/mathjax/2.7.5/MathJax.js?config=TeX-AMS-MML_SVG\"></script><script type=\"text/javascript\">if (window.MathJax && window.MathJax.Hub && window.MathJax.Hub.Config) {window.MathJax.Hub.Config({SVG: {font: \"STIX-Web\"}});}</script>                <script type=\"text/javascript\">window.PlotlyConfig = {MathJaxConfig: 'local'};</script>\n",
              "        <script charset=\"utf-8\" src=\"https://cdn.plot.ly/plotly-2.24.1.min.js\"></script>                <div id=\"72751912-69bf-489e-bc72-e468ce166a90\" class=\"plotly-graph-div\" style=\"height:525px; width:100%;\"></div>            <script type=\"text/javascript\">                                    window.PLOTLYENV=window.PLOTLYENV || {};                                    if (document.getElementById(\"72751912-69bf-489e-bc72-e468ce166a90\")) {                    Plotly.newPlot(                        \"72751912-69bf-489e-bc72-e468ce166a90\",                        [{\"hovertemplate\":\"Book titles per capita (Fink-Jensen 2015)=%{x}\\u003cbr\\u003ePopulation (historical estimates)=%{y}\\u003cbr\\u003eEntity=%{text}\\u003cextra\\u003e\\u003c\\u002fextra\\u003e\",\"legendgroup\":\"\",\"marker\":{\"color\":\"#1F77B4\",\"symbol\":\"circle\"},\"mode\":\"markers+text\",\"name\":\"\",\"orientation\":\"v\",\"showlegend\":false,\"text\":[\"Algeria\",\"Argentina\",\"Austria\",\"Belgium\",\"Brazil\",\"Bulgaria\",\"Canada\",\"Croatia\",\"Cyprus\",\"Denmark\",\"Egypt\",\"Estonia\",\"Finland\",\"France\",\"Germany\",\"Greece\",\"Hungary\",\"Iceland\",\"India\",\"Indonesia\",\"Italy\",\"Japan\",\"Jordan\",\"Latvia\",\"Lithuania\",\"Malaysia\",\"Mexico\",\"Morocco\",\"Netherlands\",\"North Macedonia\",\"Norway\",\"Philippines\",\"Poland\",\"Portugal\",\"Romania\",\"Russia\",\"Saudi Arabia\",\"Slovenia\",\"South Korea\",\"Spain\",\"Sweden\",\"Switzerland\",\"Thailand\",\"Tunisia\",\"Turkey\",\"United Kingdom\",\"United States\"],\"x\":[23.423261410169832,276.041812627862,985.4721152738148,1148.548561175463,113.69411028021626,593.0626859907076,662.7589422500499,384.8540444396655,1259.0553835448231,3151.9885216383277,29.62564451424166,1840.5591153550115,2559.2200472237027,818.9760090695387,873.2985408459305,403.1711678699776,894.8185692811793,5676.579925650557,12.734676235594184,20.39989533148654,614.2203766093389,447.45800342680513,117.10691379968624,798.6905539498194,993.6439499759564,291.3841550253469,65.4988673081615,32.73155758572031,3313.667755702044,452.538732140701,4810.013153699253,20.27286495993089,365.1063341134039,779.0162256762877,318.1518185653408,242.26625546007577,189.0829240617281,1714.132853515616,670.5159845604716,1163.9583719445684,2673.1139011424048,1517.3323470301727,136.70407319037355,79.04393723120944,103.87541462690564,1403.1708638595187,252.81143466100428],\"xaxis\":\"x\",\"y\":[29266415,35246376,8017852,10208265,164614682,8291969,29457820,4574888,873426,5254857,63601632,1417741,5136984,58012055,81323666,10832139,10332451,270144,982365248,199901231,57065231,126644099,4732848,2478832,3603756,21017619,93147045,27383472,15563252,1989441,4393217,71401743,38509672,10134016,22805706,148020852,19033843,1988580,45751023,39908962,8859180,7038027,60130190,9267335,59423278,58113554,268335007],\"yaxis\":\"y\",\"type\":\"scatter\",\"textposition\":\"bottom right\"}],                        {\"template\":{\"data\":{\"scatter\":[{\"type\":\"scatter\"}]}},\"xaxis\":{\"anchor\":\"y\",\"domain\":[0.0,1.0],\"title\":{\"text\":\"Book titles per capita (Fink-Jensen 2015)\"},\"type\":\"log\"},\"yaxis\":{\"anchor\":\"x\",\"domain\":[0.0,1.0],\"title\":{\"text\":\"Population (historical estimates)\"},\"type\":\"log\"},\"legend\":{\"tracegroupgap\":0},\"title\":{\"text\":\"Country population vs number of new book titles per capita in 1996\"}},                        {\"responsive\": true}                    ).then(function(){\n",
              "                            \n",
              "var gd = document.getElementById('72751912-69bf-489e-bc72-e468ce166a90');\n",
              "var x = new MutationObserver(function (mutations, observer) {{\n",
              "        var display = window.getComputedStyle(gd).display;\n",
              "        if (!display || display === 'none') {{\n",
              "            console.log([gd, 'removed!']);\n",
              "            Plotly.purge(gd);\n",
              "            observer.disconnect();\n",
              "        }}\n",
              "}});\n",
              "\n",
              "// Listen for the removal of the full notebook cells\n",
              "var notebookContainer = gd.closest('#notebook-container');\n",
              "if (notebookContainer) {{\n",
              "    x.observe(notebookContainer, {childList: true});\n",
              "}}\n",
              "\n",
              "// Listen for the clearing of the current output cell\n",
              "var outputEl = gd.closest('.output');\n",
              "if (outputEl) {{\n",
              "    x.observe(outputEl, {childList: true});\n",
              "}}\n",
              "\n",
              "                        })                };                            </script>        </div>\n",
              "</body>\n",
              "</html>"
            ]
          },
          "metadata": {}
        }
      ]
    },
    {
      "cell_type": "markdown",
      "source": [
        "Poniżej mamy kod pierwszej aplikacji wykorzystanej w prezentacji **dash Crossfiltering**."
      ],
      "metadata": {
        "id": "nCC2INKaGVdh"
      }
    },
    {
      "cell_type": "code",
      "source": [
        "app = dash.Dash()\n",
        "app.layout = html.Div(\n",
        "        children=[\n",
        "                  html.P(id='div_value'),\n",
        "                  dcc.Graph(id='scatter', figure=scatter_figure),\n",
        "                  ],\n",
        ")\n",
        "\n",
        "@app.callback(\n",
        "    Output('div_value', 'children'),\n",
        "    Input('scatter', 'clickData')\n",
        ")\n",
        "def show_me(data):\n",
        "   return json.dumps(data)"
      ],
      "metadata": {
        "id": "AVo_oiLvDkxo"
      },
      "execution_count": 37,
      "outputs": []
    },
    {
      "cell_type": "markdown",
      "source": [
        "Poniżej mamy kod drugiej aplikacji wykorzystanej w prezentacji **dash Crossfiltering**."
      ],
      "metadata": {
        "id": "WnqL_0dFlKEc"
      }
    },
    {
      "cell_type": "code",
      "source": [
        "app = dash.Dash()\n",
        "app.layout = html.Div(\n",
        "    children=[\n",
        "              dcc.Graph(\n",
        "                  id='scatter',\n",
        "                  figure=scatter_figure\n",
        "                  ),\n",
        "              dcc.Graph(id='line')\n",
        "              ],\n",
        ")\n",
        "\n",
        "@app.callback(\n",
        "    Output('line', 'figure'),\n",
        "    Input('scatter','hoverData')\n",
        ")\n",
        "def build_line_chart(country):\n",
        "\n",
        "  selected_country = country[\"points\"][0][\"text\"]\n",
        "  selected_data = new_books[new_books[\"Entity\"]==selected_country]\n",
        "\n",
        "  fig = px.line(data_frame=selected_data,\n",
        "                x=\"Year\",\n",
        "                y=\"Book titles per capita (Fink-Jensen 2015)\",\n",
        "                template=\"none\",\n",
        "                title=\"Book titles per capita in %s for years 1940-1996\" % selected_country\n",
        "                )\n",
        "  return fig"
      ],
      "metadata": {
        "id": "mbLKjo7YjV8X"
      },
      "execution_count": 39,
      "outputs": []
    },
    {
      "cell_type": "markdown",
      "source": [
        "### Wyświetlenie wizualizacji"
      ],
      "metadata": {
        "id": "88JUU3UV9lPy"
      }
    },
    {
      "cell_type": "markdown",
      "source": [
        "Aby zbudować wizualizację z wykorzystaniem powyższego kodu, potrzebujemy jeszcze uruchomić serwer i przejść na stronę aplikacji.\n"
      ],
      "metadata": {
        "id": "T7om4tW49rvR"
      }
    },
    {
      "cell_type": "code",
      "source": [
        "thread = threading.Thread(target=app.run_server)\n",
        "thread.start()\n",
        "output.serve_kernel_port_as_window(port=8050)"
      ],
      "metadata": {
        "id": "Mj8cDlQv32hQ",
        "colab": {
          "base_uri": "https://localhost:8080/",
          "height": 34
        },
        "outputId": "dfcc549e-c33e-4195-e21f-8ecb0b186663"
      },
      "execution_count": 40,
      "outputs": [
        {
          "output_type": "display_data",
          "data": {
            "text/plain": [
              "<IPython.core.display.Javascript object>"
            ],
            "application/javascript": [
              "(async (port, path, text, element) => {\n",
              "    if (!google.colab.kernel.accessAllowed) {\n",
              "      return;\n",
              "    }\n",
              "    element.appendChild(document.createTextNode(''));\n",
              "    const url = await google.colab.kernel.proxyPort(port);\n",
              "    const anchor = document.createElement('a');\n",
              "    anchor.href = new URL(path, url).toString();\n",
              "    anchor.target = '_blank';\n",
              "    anchor.setAttribute('data-href', url + path);\n",
              "    anchor.textContent = text;\n",
              "    element.appendChild(anchor);\n",
              "  })(8050, \"/\", \"https://localhost:8050/\", window.element)"
            ]
          },
          "metadata": {}
        }
      ]
    },
    {
      "cell_type": "code",
      "source": [
        "thread = threading.Thread(target=app.run_server)\n",
        "thread.start()\n",
        "output.serve_kernel_port_as_window(port=8050)"
      ],
      "metadata": {
        "colab": {
          "base_uri": "https://localhost:8080/",
          "height": 689
        },
        "id": "QS5j372aZ4J9",
        "outputId": "4d86a411-3e2d-45f6-dcb2-431d5f6f8653"
      },
      "execution_count": 38,
      "outputs": [
        {
          "output_type": "display_data",
          "data": {
            "text/plain": [
              "<IPython.core.display.Javascript object>"
            ],
            "application/javascript": [
              "(async (port, path, text, element) => {\n",
              "    if (!google.colab.kernel.accessAllowed) {\n",
              "      return;\n",
              "    }\n",
              "    element.appendChild(document.createTextNode(''));\n",
              "    const url = await google.colab.kernel.proxyPort(port);\n",
              "    const anchor = document.createElement('a');\n",
              "    anchor.href = new URL(path, url).toString();\n",
              "    anchor.target = '_blank';\n",
              "    anchor.setAttribute('data-href', url + path);\n",
              "    anchor.textContent = text;\n",
              "    element.appendChild(anchor);\n",
              "  })(8050, \"/\", \"https://localhost:8050/\", window.element)"
            ]
          },
          "metadata": {}
        },
        {
          "output_type": "display_data",
          "data": {
            "text/plain": [
              "<IPython.core.display.Javascript object>"
            ],
            "application/javascript": [
              "(async (port, path, width, height, cache, element) => {\n",
              "    if (!google.colab.kernel.accessAllowed && !cache) {\n",
              "      return;\n",
              "    }\n",
              "    element.appendChild(document.createTextNode(''));\n",
              "    const url = await google.colab.kernel.proxyPort(port, {cache});\n",
              "    const iframe = document.createElement('iframe');\n",
              "    iframe.src = new URL(path, url).toString();\n",
              "    iframe.height = height;\n",
              "    iframe.width = width;\n",
              "    iframe.style.border = 0;\n",
              "    iframe.allow = [\n",
              "        'accelerometer',\n",
              "        'autoplay',\n",
              "        'camera',\n",
              "        'clipboard-read',\n",
              "        'clipboard-write',\n",
              "        'gyroscope',\n",
              "        'magnetometer',\n",
              "        'microphone',\n",
              "        'serial',\n",
              "        'usb',\n",
              "        'xr-spatial-tracking',\n",
              "    ].join('; ');\n",
              "    element.appendChild(iframe);\n",
              "  })(8050, \"/\", \"100%\", 650, false, window.element)"
            ]
          },
          "metadata": {}
        }
      ]
    },
    {
      "cell_type": "code",
      "source": [],
      "metadata": {
        "id": "MSAjItuCigeo",
        "colab": {
          "base_uri": "https://localhost:8080/",
          "height": 671
        },
        "outputId": "d6bc886b-b1c1-4e2c-8e9c-0c83d7139264"
      },
      "execution_count": 36,
      "outputs": [
        {
          "output_type": "display_data",
          "data": {
            "text/plain": [
              "<IPython.core.display.Javascript object>"
            ],
            "application/javascript": [
              "(async (port, path, width, height, cache, element) => {\n",
              "    if (!google.colab.kernel.accessAllowed && !cache) {\n",
              "      return;\n",
              "    }\n",
              "    element.appendChild(document.createTextNode(''));\n",
              "    const url = await google.colab.kernel.proxyPort(port, {cache});\n",
              "    const iframe = document.createElement('iframe');\n",
              "    iframe.src = new URL(path, url).toString();\n",
              "    iframe.height = height;\n",
              "    iframe.width = width;\n",
              "    iframe.style.border = 0;\n",
              "    iframe.allow = [\n",
              "        'accelerometer',\n",
              "        'autoplay',\n",
              "        'camera',\n",
              "        'clipboard-read',\n",
              "        'clipboard-write',\n",
              "        'gyroscope',\n",
              "        'magnetometer',\n",
              "        'microphone',\n",
              "        'serial',\n",
              "        'usb',\n",
              "        'xr-spatial-tracking',\n",
              "    ].join('; ');\n",
              "    element.appendChild(iframe);\n",
              "  })(8050, \"/\", \"100%\", 650, false, window.element)"
            ]
          },
          "metadata": {}
        }
      ]
    }
  ]
}