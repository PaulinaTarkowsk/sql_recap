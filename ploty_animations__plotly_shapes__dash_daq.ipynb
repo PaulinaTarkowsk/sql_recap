{
  "nbformat": 4,
  "nbformat_minor": 0,
  "metadata": {
    "colab": {
      "provenance": [],
      "include_colab_link": true
    },
    "kernelspec": {
      "name": "python3",
      "display_name": "Python 3"
    },
    "language_info": {
      "name": "python"
    }
  },
  "cells": [
    {
      "cell_type": "markdown",
      "metadata": {
        "id": "view-in-github",
        "colab_type": "text"
      },
      "source": [
        "<a href=\"https://colab.research.google.com/github/PaulinaTarkowsk/sql_recap/blob/main/ploty_animations__plotly_shapes__dash_daq.ipynb\" target=\"_parent\"><img src=\"https://colab.research.google.com/assets/colab-badge.svg\" alt=\"Open In Colab\"/></a>"
      ]
    },
    {
      "cell_type": "code",
      "source": [
        "import plotly.express as px\n",
        "import pandas as pd\n",
        "import numpy as np\n",
        "from google.colab import output, drive"
      ],
      "metadata": {
        "id": "7f1CkOA04NOD"
      },
      "execution_count": null,
      "outputs": []
    },
    {
      "cell_type": "code",
      "source": [
        "drive.mount('/content/drive')"
      ],
      "metadata": {
        "id": "xbGjjOI44PGu",
        "colab": {
          "base_uri": "https://localhost:8080/"
        },
        "outputId": "fbbb7ba3-d1bb-4550-f16d-d2ae0bfffd21"
      },
      "execution_count": null,
      "outputs": [
        {
          "output_type": "stream",
          "name": "stdout",
          "text": [
            "Mounted at /content/drive\n"
          ]
        }
      ]
    },
    {
      "cell_type": "code",
      "source": [
        "population = pd.read_csv('/content/drive/My Drive/Dash/Dash_crossfiltering/population.csv')\n",
        "new_books = pd.read_csv(\"/content/drive/My Drive/Dash/Dash_crossfiltering/new-books-per-million.csv\")\n",
        "data = pd.merge(new_books, population, how=\"inner\", on=[\"Entity\",\"Year\"])\n",
        "data = data[(data[\"Year\"]>=1980) & (data[\"Year\"]<=1996)]\n",
        "countries_list = data[[\"Entity\", \"Year\"]].groupby(\"Entity\").count().sort_values(by=\"Year\", ascending=False)\n",
        "countries_list=countries_list[countries_list[\"Year\"]==countries_list[\"Year\"].max()]\n",
        "data = pd.merge(data, countries_list, how=\"inner\", on=[\"Entity\"], suffixes=(\"\",\"_z\"))\n",
        "data = data[data[\"Entity\"]!=\"Russia\"]"
      ],
      "metadata": {
        "id": "f4WsWrBA4Rf6"
      },
      "execution_count": null,
      "outputs": []
    },
    {
      "cell_type": "code",
      "source": [
        "fig = px.scatter(data_frame=data,\n",
        "                 x=\"Population (historical estimates)\",\n",
        "                 y=\"Book titles per capita (Fink-Jensen 2015)\",\n",
        "                 size=\"Population (historical estimates)\",\n",
        "                 animation_frame=\"Year\",\n",
        "                 animation_group=\"Entity\",\n",
        "                 text=\"Entity\",\n",
        "                 hover_name=\"Entity\",\n",
        "                 size_max=30,\n",
        "                 range_x=[1,100000000],\n",
        "                 range_y=[1,5000],\n",
        "                 template=\"plotly_white\",\n",
        "                 title=\"Population vs Book titles per capita in 1980-1996\"\n",
        "                 )\n",
        "\n",
        "fig.update_traces(textposition=\"top right\")\n",
        "fig.update_yaxes(visible=True, showticklabels=True, title='# of Books')\n",
        "fig.update_xaxes(visible=True, showticklabels=True, title='Population')\n",
        "fig.update_layout(\n",
        "    updatemenus=[\n",
        "                 {\n",
        "                     \"type\": \"buttons\",\n",
        "                     \"showactive\": True,\n",
        "                     \"buttons\": [{\"label\": \"Start\"}, {\"label\": \"Stop\"}]\n",
        "                 }\n",
        "    ]\n",
        ")\n",
        "fig"
      ],
      "metadata": {
        "id": "ZBDHKQle4WC0",
        "colab": {
          "base_uri": "https://localhost:8080/",
          "height": 542
        },
        "outputId": "0132a7d8-63bc-4d57-8575-39a3f9d45060"
      },
      "execution_count": null,
      "outputs": [
        {
          "output_type": "display_data",
          "data": {
            "text/html": [
              "<html>\n",
              "<head><meta charset=\"utf-8\" /></head>\n",
              "<body>\n",
              "    <div>            <script src=\"https://cdnjs.cloudflare.com/ajax/libs/mathjax/2.7.5/MathJax.js?config=TeX-AMS-MML_SVG\"></script><script type=\"text/javascript\">if (window.MathJax && window.MathJax.Hub && window.MathJax.Hub.Config) {window.MathJax.Hub.Config({SVG: {font: \"STIX-Web\"}});}</script>                <script type=\"text/javascript\">window.PlotlyConfig = {MathJaxConfig: 'local'};</script>\n",
              "        <script charset=\"utf-8\" src=\"https://cdn.plot.ly/plotly-2.24.1.min.js\"></script>                <div id=\"3603571b-b3c6-41e6-9e6c-e440dac62bef\" class=\"plotly-graph-div\" style=\"height:525px; width:100%;\"></div>            <script type=\"text/javascript\">                                    window.PLOTLYENV=window.PLOTLYENV || {};                                    if (document.getElementById(\"3603571b-b3c6-41e6-9e6c-e440dac62bef\")) {                    Plotly.newPlot(                        \"3603571b-b3c6-41e6-9e6c-e440dac62bef\",                        [{\"hovertemplate\":\"\\u003cb\\u003e%{hovertext}\\u003c\\u002fb\\u003e\\u003cbr\\u003e\\u003cbr\\u003eYear=1980\\u003cbr\\u003ePopulation (historical estimates)=%{marker.size}\\u003cbr\\u003eBook titles per capita (Fink-Jensen 2015)=%{y}\\u003cbr\\u003eEntity=%{text}\\u003cextra\\u003e\\u003c\\u002fextra\\u003e\",\"hovertext\":[\"Belgium\",\"Bulgaria\",\"Denmark\",\"Estonia\",\"Finland\",\"France\",\"Germany\",\"Hungary\",\"Italy\",\"Latvia\",\"Netherlands\",\"Norway\",\"Poland\",\"South Korea\",\"Spain\",\"Sweden\",\"Switzerland\"],\"ids\":[\"Belgium\",\"Bulgaria\",\"Denmark\",\"Estonia\",\"Finland\",\"France\",\"Germany\",\"Hungary\",\"Italy\",\"Latvia\",\"Netherlands\",\"Norway\",\"Poland\",\"South Korea\",\"Spain\",\"Sweden\",\"Switzerland\"],\"legendgroup\":\"\",\"marker\":{\"color\":\"#636efa\",\"size\":[9868999,8878787,5123945,1474438,4788247,53868006,78283101,10754286,56349352,2521381,14148410,4086070,35539723,38045605,37698200,8316331,6283833],\"sizemode\":\"area\",\"sizeref\":90359.6288888889,\"symbol\":\"circle\"},\"mode\":\"markers+text\",\"name\":\"\",\"orientation\":\"v\",\"showlegend\":false,\"text\":[\"Belgium\",\"Bulgaria\",\"Denmark\",\"Estonia\",\"Finland\",\"France\",\"Germany\",\"Hungary\",\"Italy\",\"Latvia\",\"Netherlands\",\"Norway\",\"Poland\",\"South Korea\",\"Spain\",\"Sweden\",\"Switzerland\"],\"x\":[9868999,8878787,5123945,1474438,4788247,53868006,78283101,10754286,56349352,2521381,14148410,4086070,35539723,38045605,37698200,8316331,6283833],\"xaxis\":\"x\",\"y\":[1006.4183287971726,529.3136404385218,2040.2000614090064,1430.3101614091524,1362.2664129460293,586.4271457085829,827.1102633858501,863.961777300268,213.0865240231097,1008.4993600822012,2503.19908206371,2035.676347775858,335.0102490256904,550.2570559227782,762.8767969577757,2367.9903730445244,1223.918515686751],\"yaxis\":\"y\",\"type\":\"scatter\",\"textposition\":\"top right\"}],                        {\"template\":{\"data\":{\"barpolar\":[{\"marker\":{\"line\":{\"color\":\"white\",\"width\":0.5},\"pattern\":{\"fillmode\":\"overlay\",\"size\":10,\"solidity\":0.2}},\"type\":\"barpolar\"}],\"bar\":[{\"error_x\":{\"color\":\"#2a3f5f\"},\"error_y\":{\"color\":\"#2a3f5f\"},\"marker\":{\"line\":{\"color\":\"white\",\"width\":0.5},\"pattern\":{\"fillmode\":\"overlay\",\"size\":10,\"solidity\":0.2}},\"type\":\"bar\"}],\"carpet\":[{\"aaxis\":{\"endlinecolor\":\"#2a3f5f\",\"gridcolor\":\"#C8D4E3\",\"linecolor\":\"#C8D4E3\",\"minorgridcolor\":\"#C8D4E3\",\"startlinecolor\":\"#2a3f5f\"},\"baxis\":{\"endlinecolor\":\"#2a3f5f\",\"gridcolor\":\"#C8D4E3\",\"linecolor\":\"#C8D4E3\",\"minorgridcolor\":\"#C8D4E3\",\"startlinecolor\":\"#2a3f5f\"},\"type\":\"carpet\"}],\"choropleth\":[{\"colorbar\":{\"outlinewidth\":0,\"ticks\":\"\"},\"type\":\"choropleth\"}],\"contourcarpet\":[{\"colorbar\":{\"outlinewidth\":0,\"ticks\":\"\"},\"type\":\"contourcarpet\"}],\"contour\":[{\"colorbar\":{\"outlinewidth\":0,\"ticks\":\"\"},\"colorscale\":[[0.0,\"#0d0887\"],[0.1111111111111111,\"#46039f\"],[0.2222222222222222,\"#7201a8\"],[0.3333333333333333,\"#9c179e\"],[0.4444444444444444,\"#bd3786\"],[0.5555555555555556,\"#d8576b\"],[0.6666666666666666,\"#ed7953\"],[0.7777777777777778,\"#fb9f3a\"],[0.8888888888888888,\"#fdca26\"],[1.0,\"#f0f921\"]],\"type\":\"contour\"}],\"heatmapgl\":[{\"colorbar\":{\"outlinewidth\":0,\"ticks\":\"\"},\"colorscale\":[[0.0,\"#0d0887\"],[0.1111111111111111,\"#46039f\"],[0.2222222222222222,\"#7201a8\"],[0.3333333333333333,\"#9c179e\"],[0.4444444444444444,\"#bd3786\"],[0.5555555555555556,\"#d8576b\"],[0.6666666666666666,\"#ed7953\"],[0.7777777777777778,\"#fb9f3a\"],[0.8888888888888888,\"#fdca26\"],[1.0,\"#f0f921\"]],\"type\":\"heatmapgl\"}],\"heatmap\":[{\"colorbar\":{\"outlinewidth\":0,\"ticks\":\"\"},\"colorscale\":[[0.0,\"#0d0887\"],[0.1111111111111111,\"#46039f\"],[0.2222222222222222,\"#7201a8\"],[0.3333333333333333,\"#9c179e\"],[0.4444444444444444,\"#bd3786\"],[0.5555555555555556,\"#d8576b\"],[0.6666666666666666,\"#ed7953\"],[0.7777777777777778,\"#fb9f3a\"],[0.8888888888888888,\"#fdca26\"],[1.0,\"#f0f921\"]],\"type\":\"heatmap\"}],\"histogram2dcontour\":[{\"colorbar\":{\"outlinewidth\":0,\"ticks\":\"\"},\"colorscale\":[[0.0,\"#0d0887\"],[0.1111111111111111,\"#46039f\"],[0.2222222222222222,\"#7201a8\"],[0.3333333333333333,\"#9c179e\"],[0.4444444444444444,\"#bd3786\"],[0.5555555555555556,\"#d8576b\"],[0.6666666666666666,\"#ed7953\"],[0.7777777777777778,\"#fb9f3a\"],[0.8888888888888888,\"#fdca26\"],[1.0,\"#f0f921\"]],\"type\":\"histogram2dcontour\"}],\"histogram2d\":[{\"colorbar\":{\"outlinewidth\":0,\"ticks\":\"\"},\"colorscale\":[[0.0,\"#0d0887\"],[0.1111111111111111,\"#46039f\"],[0.2222222222222222,\"#7201a8\"],[0.3333333333333333,\"#9c179e\"],[0.4444444444444444,\"#bd3786\"],[0.5555555555555556,\"#d8576b\"],[0.6666666666666666,\"#ed7953\"],[0.7777777777777778,\"#fb9f3a\"],[0.8888888888888888,\"#fdca26\"],[1.0,\"#f0f921\"]],\"type\":\"histogram2d\"}],\"histogram\":[{\"marker\":{\"pattern\":{\"fillmode\":\"overlay\",\"size\":10,\"solidity\":0.2}},\"type\":\"histogram\"}],\"mesh3d\":[{\"colorbar\":{\"outlinewidth\":0,\"ticks\":\"\"},\"type\":\"mesh3d\"}],\"parcoords\":[{\"line\":{\"colorbar\":{\"outlinewidth\":0,\"ticks\":\"\"}},\"type\":\"parcoords\"}],\"pie\":[{\"automargin\":true,\"type\":\"pie\"}],\"scatter3d\":[{\"line\":{\"colorbar\":{\"outlinewidth\":0,\"ticks\":\"\"}},\"marker\":{\"colorbar\":{\"outlinewidth\":0,\"ticks\":\"\"}},\"type\":\"scatter3d\"}],\"scattercarpet\":[{\"marker\":{\"colorbar\":{\"outlinewidth\":0,\"ticks\":\"\"}},\"type\":\"scattercarpet\"}],\"scattergeo\":[{\"marker\":{\"colorbar\":{\"outlinewidth\":0,\"ticks\":\"\"}},\"type\":\"scattergeo\"}],\"scattergl\":[{\"marker\":{\"colorbar\":{\"outlinewidth\":0,\"ticks\":\"\"}},\"type\":\"scattergl\"}],\"scattermapbox\":[{\"marker\":{\"colorbar\":{\"outlinewidth\":0,\"ticks\":\"\"}},\"type\":\"scattermapbox\"}],\"scatterpolargl\":[{\"marker\":{\"colorbar\":{\"outlinewidth\":0,\"ticks\":\"\"}},\"type\":\"scatterpolargl\"}],\"scatterpolar\":[{\"marker\":{\"colorbar\":{\"outlinewidth\":0,\"ticks\":\"\"}},\"type\":\"scatterpolar\"}],\"scatter\":[{\"fillpattern\":{\"fillmode\":\"overlay\",\"size\":10,\"solidity\":0.2},\"type\":\"scatter\"}],\"scatterternary\":[{\"marker\":{\"colorbar\":{\"outlinewidth\":0,\"ticks\":\"\"}},\"type\":\"scatterternary\"}],\"surface\":[{\"colorbar\":{\"outlinewidth\":0,\"ticks\":\"\"},\"colorscale\":[[0.0,\"#0d0887\"],[0.1111111111111111,\"#46039f\"],[0.2222222222222222,\"#7201a8\"],[0.3333333333333333,\"#9c179e\"],[0.4444444444444444,\"#bd3786\"],[0.5555555555555556,\"#d8576b\"],[0.6666666666666666,\"#ed7953\"],[0.7777777777777778,\"#fb9f3a\"],[0.8888888888888888,\"#fdca26\"],[1.0,\"#f0f921\"]],\"type\":\"surface\"}],\"table\":[{\"cells\":{\"fill\":{\"color\":\"#EBF0F8\"},\"line\":{\"color\":\"white\"}},\"header\":{\"fill\":{\"color\":\"#C8D4E3\"},\"line\":{\"color\":\"white\"}},\"type\":\"table\"}]},\"layout\":{\"annotationdefaults\":{\"arrowcolor\":\"#2a3f5f\",\"arrowhead\":0,\"arrowwidth\":1},\"autotypenumbers\":\"strict\",\"coloraxis\":{\"colorbar\":{\"outlinewidth\":0,\"ticks\":\"\"}},\"colorscale\":{\"diverging\":[[0,\"#8e0152\"],[0.1,\"#c51b7d\"],[0.2,\"#de77ae\"],[0.3,\"#f1b6da\"],[0.4,\"#fde0ef\"],[0.5,\"#f7f7f7\"],[0.6,\"#e6f5d0\"],[0.7,\"#b8e186\"],[0.8,\"#7fbc41\"],[0.9,\"#4d9221\"],[1,\"#276419\"]],\"sequential\":[[0.0,\"#0d0887\"],[0.1111111111111111,\"#46039f\"],[0.2222222222222222,\"#7201a8\"],[0.3333333333333333,\"#9c179e\"],[0.4444444444444444,\"#bd3786\"],[0.5555555555555556,\"#d8576b\"],[0.6666666666666666,\"#ed7953\"],[0.7777777777777778,\"#fb9f3a\"],[0.8888888888888888,\"#fdca26\"],[1.0,\"#f0f921\"]],\"sequentialminus\":[[0.0,\"#0d0887\"],[0.1111111111111111,\"#46039f\"],[0.2222222222222222,\"#7201a8\"],[0.3333333333333333,\"#9c179e\"],[0.4444444444444444,\"#bd3786\"],[0.5555555555555556,\"#d8576b\"],[0.6666666666666666,\"#ed7953\"],[0.7777777777777778,\"#fb9f3a\"],[0.8888888888888888,\"#fdca26\"],[1.0,\"#f0f921\"]]},\"colorway\":[\"#636efa\",\"#EF553B\",\"#00cc96\",\"#ab63fa\",\"#FFA15A\",\"#19d3f3\",\"#FF6692\",\"#B6E880\",\"#FF97FF\",\"#FECB52\"],\"font\":{\"color\":\"#2a3f5f\"},\"geo\":{\"bgcolor\":\"white\",\"lakecolor\":\"white\",\"landcolor\":\"white\",\"showlakes\":true,\"showland\":true,\"subunitcolor\":\"#C8D4E3\"},\"hoverlabel\":{\"align\":\"left\"},\"hovermode\":\"closest\",\"mapbox\":{\"style\":\"light\"},\"paper_bgcolor\":\"white\",\"plot_bgcolor\":\"white\",\"polar\":{\"angularaxis\":{\"gridcolor\":\"#EBF0F8\",\"linecolor\":\"#EBF0F8\",\"ticks\":\"\"},\"bgcolor\":\"white\",\"radialaxis\":{\"gridcolor\":\"#EBF0F8\",\"linecolor\":\"#EBF0F8\",\"ticks\":\"\"}},\"scene\":{\"xaxis\":{\"backgroundcolor\":\"white\",\"gridcolor\":\"#DFE8F3\",\"gridwidth\":2,\"linecolor\":\"#EBF0F8\",\"showbackground\":true,\"ticks\":\"\",\"zerolinecolor\":\"#EBF0F8\"},\"yaxis\":{\"backgroundcolor\":\"white\",\"gridcolor\":\"#DFE8F3\",\"gridwidth\":2,\"linecolor\":\"#EBF0F8\",\"showbackground\":true,\"ticks\":\"\",\"zerolinecolor\":\"#EBF0F8\"},\"zaxis\":{\"backgroundcolor\":\"white\",\"gridcolor\":\"#DFE8F3\",\"gridwidth\":2,\"linecolor\":\"#EBF0F8\",\"showbackground\":true,\"ticks\":\"\",\"zerolinecolor\":\"#EBF0F8\"}},\"shapedefaults\":{\"line\":{\"color\":\"#2a3f5f\"}},\"ternary\":{\"aaxis\":{\"gridcolor\":\"#DFE8F3\",\"linecolor\":\"#A2B1C6\",\"ticks\":\"\"},\"baxis\":{\"gridcolor\":\"#DFE8F3\",\"linecolor\":\"#A2B1C6\",\"ticks\":\"\"},\"bgcolor\":\"white\",\"caxis\":{\"gridcolor\":\"#DFE8F3\",\"linecolor\":\"#A2B1C6\",\"ticks\":\"\"}},\"title\":{\"x\":0.05},\"xaxis\":{\"automargin\":true,\"gridcolor\":\"#EBF0F8\",\"linecolor\":\"#EBF0F8\",\"ticks\":\"\",\"title\":{\"standoff\":15},\"zerolinecolor\":\"#EBF0F8\",\"zerolinewidth\":2},\"yaxis\":{\"automargin\":true,\"gridcolor\":\"#EBF0F8\",\"linecolor\":\"#EBF0F8\",\"ticks\":\"\",\"title\":{\"standoff\":15},\"zerolinecolor\":\"#EBF0F8\",\"zerolinewidth\":2}}},\"xaxis\":{\"anchor\":\"y\",\"domain\":[0.0,1.0],\"title\":{\"text\":\"Population\"},\"range\":[1,100000000],\"visible\":true,\"showticklabels\":true},\"yaxis\":{\"anchor\":\"x\",\"domain\":[0.0,1.0],\"title\":{\"text\":\"# of Books\"},\"range\":[1,5000],\"visible\":true,\"showticklabels\":true},\"legend\":{\"tracegroupgap\":0,\"itemsizing\":\"constant\"},\"title\":{\"text\":\"Population vs Book titles per capita in 1980-1996\"},\"updatemenus\":[{\"buttons\":[{\"args\":[null,{\"frame\":{\"duration\":500,\"redraw\":false},\"mode\":\"immediate\",\"fromcurrent\":true,\"transition\":{\"duration\":500,\"easing\":\"linear\"}}],\"label\":\"Start\",\"method\":\"animate\"},{\"args\":[[null],{\"frame\":{\"duration\":0,\"redraw\":false},\"mode\":\"immediate\",\"fromcurrent\":true,\"transition\":{\"duration\":0,\"easing\":\"linear\"}}],\"label\":\"Stop\",\"method\":\"animate\"}],\"direction\":\"left\",\"pad\":{\"r\":10,\"t\":70},\"showactive\":true,\"type\":\"buttons\",\"x\":0.1,\"xanchor\":\"right\",\"y\":0,\"yanchor\":\"top\"}],\"sliders\":[{\"active\":0,\"currentvalue\":{\"prefix\":\"Year=\"},\"len\":0.9,\"pad\":{\"b\":10,\"t\":60},\"steps\":[{\"args\":[[\"1980\"],{\"frame\":{\"duration\":0,\"redraw\":false},\"mode\":\"immediate\",\"fromcurrent\":true,\"transition\":{\"duration\":0,\"easing\":\"linear\"}}],\"label\":\"1980\",\"method\":\"animate\"},{\"args\":[[\"1981\"],{\"frame\":{\"duration\":0,\"redraw\":false},\"mode\":\"immediate\",\"fromcurrent\":true,\"transition\":{\"duration\":0,\"easing\":\"linear\"}}],\"label\":\"1981\",\"method\":\"animate\"},{\"args\":[[\"1982\"],{\"frame\":{\"duration\":0,\"redraw\":false},\"mode\":\"immediate\",\"fromcurrent\":true,\"transition\":{\"duration\":0,\"easing\":\"linear\"}}],\"label\":\"1982\",\"method\":\"animate\"},{\"args\":[[\"1983\"],{\"frame\":{\"duration\":0,\"redraw\":false},\"mode\":\"immediate\",\"fromcurrent\":true,\"transition\":{\"duration\":0,\"easing\":\"linear\"}}],\"label\":\"1983\",\"method\":\"animate\"},{\"args\":[[\"1984\"],{\"frame\":{\"duration\":0,\"redraw\":false},\"mode\":\"immediate\",\"fromcurrent\":true,\"transition\":{\"duration\":0,\"easing\":\"linear\"}}],\"label\":\"1984\",\"method\":\"animate\"},{\"args\":[[\"1985\"],{\"frame\":{\"duration\":0,\"redraw\":false},\"mode\":\"immediate\",\"fromcurrent\":true,\"transition\":{\"duration\":0,\"easing\":\"linear\"}}],\"label\":\"1985\",\"method\":\"animate\"},{\"args\":[[\"1986\"],{\"frame\":{\"duration\":0,\"redraw\":false},\"mode\":\"immediate\",\"fromcurrent\":true,\"transition\":{\"duration\":0,\"easing\":\"linear\"}}],\"label\":\"1986\",\"method\":\"animate\"},{\"args\":[[\"1987\"],{\"frame\":{\"duration\":0,\"redraw\":false},\"mode\":\"immediate\",\"fromcurrent\":true,\"transition\":{\"duration\":0,\"easing\":\"linear\"}}],\"label\":\"1987\",\"method\":\"animate\"},{\"args\":[[\"1988\"],{\"frame\":{\"duration\":0,\"redraw\":false},\"mode\":\"immediate\",\"fromcurrent\":true,\"transition\":{\"duration\":0,\"easing\":\"linear\"}}],\"label\":\"1988\",\"method\":\"animate\"},{\"args\":[[\"1989\"],{\"frame\":{\"duration\":0,\"redraw\":false},\"mode\":\"immediate\",\"fromcurrent\":true,\"transition\":{\"duration\":0,\"easing\":\"linear\"}}],\"label\":\"1989\",\"method\":\"animate\"},{\"args\":[[\"1990\"],{\"frame\":{\"duration\":0,\"redraw\":false},\"mode\":\"immediate\",\"fromcurrent\":true,\"transition\":{\"duration\":0,\"easing\":\"linear\"}}],\"label\":\"1990\",\"method\":\"animate\"},{\"args\":[[\"1991\"],{\"frame\":{\"duration\":0,\"redraw\":false},\"mode\":\"immediate\",\"fromcurrent\":true,\"transition\":{\"duration\":0,\"easing\":\"linear\"}}],\"label\":\"1991\",\"method\":\"animate\"},{\"args\":[[\"1992\"],{\"frame\":{\"duration\":0,\"redraw\":false},\"mode\":\"immediate\",\"fromcurrent\":true,\"transition\":{\"duration\":0,\"easing\":\"linear\"}}],\"label\":\"1992\",\"method\":\"animate\"},{\"args\":[[\"1993\"],{\"frame\":{\"duration\":0,\"redraw\":false},\"mode\":\"immediate\",\"fromcurrent\":true,\"transition\":{\"duration\":0,\"easing\":\"linear\"}}],\"label\":\"1993\",\"method\":\"animate\"},{\"args\":[[\"1994\"],{\"frame\":{\"duration\":0,\"redraw\":false},\"mode\":\"immediate\",\"fromcurrent\":true,\"transition\":{\"duration\":0,\"easing\":\"linear\"}}],\"label\":\"1994\",\"method\":\"animate\"},{\"args\":[[\"1995\"],{\"frame\":{\"duration\":0,\"redraw\":false},\"mode\":\"immediate\",\"fromcurrent\":true,\"transition\":{\"duration\":0,\"easing\":\"linear\"}}],\"label\":\"1995\",\"method\":\"animate\"},{\"args\":[[\"1996\"],{\"frame\":{\"duration\":0,\"redraw\":false},\"mode\":\"immediate\",\"fromcurrent\":true,\"transition\":{\"duration\":0,\"easing\":\"linear\"}}],\"label\":\"1996\",\"method\":\"animate\"}],\"x\":0.1,\"xanchor\":\"left\",\"y\":0,\"yanchor\":\"top\"}]},                        {\"responsive\": true}                    ).then(function(){\n",
              "                            Plotly.addFrames('3603571b-b3c6-41e6-9e6c-e440dac62bef', [{\"data\":[{\"hovertemplate\":\"\\u003cb\\u003e%{hovertext}\\u003c\\u002fb\\u003e\\u003cbr\\u003e\\u003cbr\\u003eYear=1980\\u003cbr\\u003ePopulation (historical estimates)=%{marker.size}\\u003cbr\\u003eBook titles per capita (Fink-Jensen 2015)=%{y}\\u003cbr\\u003eEntity=%{text}\\u003cextra\\u003e\\u003c\\u002fextra\\u003e\",\"hovertext\":[\"Belgium\",\"Bulgaria\",\"Denmark\",\"Estonia\",\"Finland\",\"France\",\"Germany\",\"Hungary\",\"Italy\",\"Latvia\",\"Netherlands\",\"Norway\",\"Poland\",\"South Korea\",\"Spain\",\"Sweden\",\"Switzerland\"],\"ids\":[\"Belgium\",\"Bulgaria\",\"Denmark\",\"Estonia\",\"Finland\",\"France\",\"Germany\",\"Hungary\",\"Italy\",\"Latvia\",\"Netherlands\",\"Norway\",\"Poland\",\"South Korea\",\"Spain\",\"Sweden\",\"Switzerland\"],\"legendgroup\":\"\",\"marker\":{\"color\":\"#636efa\",\"size\":[9868999,8878787,5123945,1474438,4788247,53868006,78283101,10754286,56349352,2521381,14148410,4086070,35539723,38045605,37698200,8316331,6283833],\"sizemode\":\"area\",\"sizeref\":90359.6288888889,\"symbol\":\"circle\"},\"mode\":\"markers+text\",\"name\":\"\",\"orientation\":\"v\",\"showlegend\":false,\"text\":[\"Belgium\",\"Bulgaria\",\"Denmark\",\"Estonia\",\"Finland\",\"France\",\"Germany\",\"Hungary\",\"Italy\",\"Latvia\",\"Netherlands\",\"Norway\",\"Poland\",\"South Korea\",\"Spain\",\"Sweden\",\"Switzerland\"],\"x\":[9868999,8878787,5123945,1474438,4788247,53868006,78283101,10754286,56349352,2521381,14148410,4086070,35539723,38045605,37698200,8316331,6283833],\"xaxis\":\"x\",\"y\":[1006.4183287971726,529.3136404385218,2040.2000614090064,1430.3101614091524,1362.2664129460293,586.4271457085829,827.1102633858501,863.961777300268,213.0865240231097,1008.4993600822012,2503.19908206371,2035.676347775858,335.0102490256904,550.2570559227782,762.8767969577757,2367.9903730445244,1223.918515686751],\"yaxis\":\"y\",\"type\":\"scatter\"}],\"name\":\"1980\"},{\"data\":[{\"hovertemplate\":\"\\u003cb\\u003e%{hovertext}\\u003c\\u002fb\\u003e\\u003cbr\\u003e\\u003cbr\\u003eYear=1981\\u003cbr\\u003ePopulation (historical estimates)=%{marker.size}\\u003cbr\\u003eBook titles per capita (Fink-Jensen 2015)=%{y}\\u003cbr\\u003eEntity=%{text}\\u003cextra\\u003e\\u003c\\u002fextra\\u003e\",\"hovertext\":[\"Belgium\",\"Bulgaria\",\"Denmark\",\"Estonia\",\"Finland\",\"France\",\"Germany\",\"Hungary\",\"Italy\",\"Latvia\",\"Netherlands\",\"Norway\",\"Poland\",\"South Korea\",\"Spain\",\"Sweden\",\"Switzerland\"],\"ids\":[\"Belgium\",\"Bulgaria\",\"Denmark\",\"Estonia\",\"Finland\",\"France\",\"Germany\",\"Hungary\",\"Italy\",\"Latvia\",\"Netherlands\",\"Norway\",\"Poland\",\"South Korea\",\"Spain\",\"Sweden\",\"Switzerland\"],\"legendgroup\":\"\",\"marker\":{\"color\":\"#636efa\",\"size\":[9880594,8905097,5125296,1483879,4809807,54121009,78107860,10746489,56505476,2531016,14223757,4098974,35878440,38602287,37971968,8325493,6295921],\"sizemode\":\"area\",\"sizeref\":90359.6288888889,\"symbol\":\"circle\"},\"mode\":\"markers+text\",\"name\":\"\",\"orientation\":\"v\",\"showlegend\":false,\"text\":[\"Belgium\",\"Bulgaria\",\"Denmark\",\"Estonia\",\"Finland\",\"France\",\"Germany\",\"Hungary\",\"Italy\",\"Latvia\",\"Netherlands\",\"Norway\",\"Poland\",\"South Korea\",\"Spain\",\"Sweden\",\"Switzerland\"],\"x\":[9880594,8905097,5125296,1483879,4809807,54121009,78107860,10746489,56505476,2531016,14223757,4098974,35878440,38602287,37971968,8325493,6295921],\"xaxis\":\"x\",\"y\":[980.1672688887988,567.792265600504,2022.4259270395885,1410.282337720432,1713.971188117244,673.441758876514,797.7747458190707,822.4537913532754,238.1664991784698,905.8028140589424,2441.0276842372223,2038.9286831091624,290.65264707964,664.901996229631,784.7515814234399,2298.918269230769,1210.1876133189116],\"yaxis\":\"y\",\"type\":\"scatter\"}],\"name\":\"1981\"},{\"data\":[{\"hovertemplate\":\"\\u003cb\\u003e%{hovertext}\\u003c\\u002fb\\u003e\\u003cbr\\u003e\\u003cbr\\u003eYear=1982\\u003cbr\\u003ePopulation (historical estimates)=%{marker.size}\\u003cbr\\u003eBook titles per capita (Fink-Jensen 2015)=%{y}\\u003cbr\\u003eEntity=%{text}\\u003cextra\\u003e\\u003c\\u002fextra\\u003e\",\"hovertext\":[\"Belgium\",\"Bulgaria\",\"Denmark\",\"Estonia\",\"Finland\",\"France\",\"Germany\",\"Hungary\",\"Italy\",\"Latvia\",\"Netherlands\",\"Norway\",\"Poland\",\"South Korea\",\"Spain\",\"Sweden\",\"Switzerland\"],\"ids\":[\"Belgium\",\"Bulgaria\",\"Denmark\",\"Estonia\",\"Finland\",\"France\",\"Germany\",\"Hungary\",\"Italy\",\"Latvia\",\"Netherlands\",\"Norway\",\"Poland\",\"South Korea\",\"Spain\",\"Sweden\",\"Switzerland\"],\"legendgroup\":\"\",\"marker\":{\"color\":\"#636efa\",\"size\":[9889819,8930708,5123349,1492640,4835102,54391469,77926016,10715857,56644860,2540444,14295209,4111649,36221543,39175221,38209686,8329428,6321409],\"sizemode\":\"area\",\"sizeref\":90359.6288888889,\"symbol\":\"circle\"},\"mode\":\"markers+text\",\"name\":\"\",\"orientation\":\"v\",\"showlegend\":false,\"text\":[\"Belgium\",\"Bulgaria\",\"Denmark\",\"Estonia\",\"Finland\",\"France\",\"Germany\",\"Hungary\",\"Italy\",\"Latvia\",\"Netherlands\",\"Norway\",\"Poland\",\"South Korea\",\"Spain\",\"Sweden\",\"Switzerland\"],\"x\":[9889819,8930708,5123349,1492640,4835102,54391469,77926016,10715857,56644860,2540444,14295209,4111649,36221543,39175221,38209686,8329428,6321409],\"xaxis\":\"x\",\"y\":[857.8267125107659,570.1691546809312,2081.945207031914,1459.399764501414,1540.522729443313,757.4196096737705,823.7669097849237,825.3674384325492,228.6345553802561,890.9858794018877,2539.481598034884,2069.8519753270334,270.90006865249245,773.9409042363831,846.1084618481118,2344.864864864865,1277.9590255353714],\"yaxis\":\"y\",\"type\":\"scatter\"}],\"name\":\"1982\"},{\"data\":[{\"hovertemplate\":\"\\u003cb\\u003e%{hovertext}\\u003c\\u002fb\\u003e\\u003cbr\\u003e\\u003cbr\\u003eYear=1983\\u003cbr\\u003ePopulation (historical estimates)=%{marker.size}\\u003cbr\\u003eBook titles per capita (Fink-Jensen 2015)=%{y}\\u003cbr\\u003eEntity=%{text}\\u003cextra\\u003e\\u003c\\u002fextra\\u003e\",\"hovertext\":[\"Belgium\",\"Bulgaria\",\"Denmark\",\"Estonia\",\"Finland\",\"France\",\"Germany\",\"Hungary\",\"Italy\",\"Latvia\",\"Netherlands\",\"Norway\",\"Poland\",\"South Korea\",\"Spain\",\"Sweden\",\"Switzerland\"],\"ids\":[\"Belgium\",\"Bulgaria\",\"Denmark\",\"Estonia\",\"Finland\",\"France\",\"Germany\",\"Hungary\",\"Italy\",\"Latvia\",\"Netherlands\",\"Norway\",\"Poland\",\"South Korea\",\"Spain\",\"Sweden\",\"Switzerland\"],\"legendgroup\":\"\",\"marker\":{\"color\":\"#636efa\",\"size\":[9897877,8953122,5119607,1501422,4862171,54675370,77770210,10669203,56765250,2550932,14365388,4124587,36555782,39747794,38413300,8332441,6356743],\"sizemode\":\"area\",\"sizeref\":90359.6288888889,\"symbol\":\"circle\"},\"mode\":\"markers+text\",\"name\":\"\",\"orientation\":\"v\",\"showlegend\":false,\"text\":[\"Belgium\",\"Bulgaria\",\"Denmark\",\"Estonia\",\"Finland\",\"France\",\"Germany\",\"Hungary\",\"Italy\",\"Latvia\",\"Netherlands\",\"Norway\",\"Poland\",\"South Korea\",\"Spain\",\"Sweden\",\"Switzerland\"],\"x\":[9897877,8953122,5119607,1501422,4862171,54675370,77770210,10669203,56765250,2550932,14365388,4124587,36555782,39747794,38413300,8332441,6356743],\"xaxis\":\"x\",\"y\":[885.5950776823546,552.6198716000523,2169.995211463081,1437.2758176528102,1769.84698875795,671.8518121189364,827.7346402863585,792.2755333920891,242.2385440796012,859.5912719382558,2552.710445433804,2114.6042855980186,240.32428821873955,889.8020546229016,850.012018070527,2399.4477128106614,1256.8694429365737],\"yaxis\":\"y\",\"type\":\"scatter\"}],\"name\":\"1983\"},{\"data\":[{\"hovertemplate\":\"\\u003cb\\u003e%{hovertext}\\u003c\\u002fb\\u003e\\u003cbr\\u003e\\u003cbr\\u003eYear=1984\\u003cbr\\u003ePopulation (historical estimates)=%{marker.size}\\u003cbr\\u003eBook titles per capita (Fink-Jensen 2015)=%{y}\\u003cbr\\u003eEntity=%{text}\\u003cextra\\u003e\\u003c\\u002fextra\\u003e\",\"hovertext\":[\"Belgium\",\"Bulgaria\",\"Denmark\",\"Estonia\",\"Finland\",\"France\",\"Germany\",\"Hungary\",\"Italy\",\"Latvia\",\"Netherlands\",\"Norway\",\"Poland\",\"South Korea\",\"Spain\",\"Sweden\",\"Switzerland\"],\"ids\":[\"Belgium\",\"Bulgaria\",\"Denmark\",\"Estonia\",\"Finland\",\"France\",\"Germany\",\"Hungary\",\"Italy\",\"Latvia\",\"Netherlands\",\"Norway\",\"Poland\",\"South Korea\",\"Spain\",\"Sweden\",\"Switzerland\"],\"legendgroup\":\"\",\"marker\":{\"color\":\"#636efa\",\"size\":[9906370,8968909,5116055,1511193,4888197,54965167,77682293,10616742,56863131,2564118,14437510,4138265,36863949,40296230,38586704,8340443,6396144],\"sizemode\":\"area\",\"sizeref\":90359.6288888889,\"symbol\":\"circle\"},\"mode\":\"markers+text\",\"name\":\"\",\"orientation\":\"v\",\"showlegend\":false,\"text\":[\"Belgium\",\"Bulgaria\",\"Denmark\",\"Estonia\",\"Finland\",\"France\",\"Germany\",\"Hungary\",\"Italy\",\"Latvia\",\"Netherlands\",\"Norway\",\"Poland\",\"South Korea\",\"Spain\",\"Sweden\",\"Switzerland\"],\"x\":[9906370,8968909,5116055,1511193,4888197,54965167,77682293,10616742,56863131,2564118,14437510,4138265,36863949,40296230,38586704,8340443,6396144],\"xaxis\":\"x\",\"y\":[917.4758759246296,601.1242266279776,2316.8784684461034,1269.225123973874,1754.0704348488712,661.1847953632258,706.5789200911402,976.837945293888,252.4297465456836,945.1328363722356,2643.823983070206,2080.628584609773,249.159077950454,877.2459535712518,801.9214208241665,2395.226100515773,1294.8559225836962],\"yaxis\":\"y\",\"type\":\"scatter\"}],\"name\":\"1984\"},{\"data\":[{\"hovertemplate\":\"\\u003cb\\u003e%{hovertext}\\u003c\\u002fb\\u003e\\u003cbr\\u003e\\u003cbr\\u003eYear=1985\\u003cbr\\u003ePopulation (historical estimates)=%{marker.size}\\u003cbr\\u003eBook titles per capita (Fink-Jensen 2015)=%{y}\\u003cbr\\u003eEntity=%{text}\\u003cextra\\u003e\\u003c\\u002fextra\\u003e\",\"hovertext\":[\"Belgium\",\"Bulgaria\",\"Denmark\",\"Estonia\",\"Finland\",\"France\",\"Germany\",\"Hungary\",\"Italy\",\"Latvia\",\"Netherlands\",\"Norway\",\"Poland\",\"South Korea\",\"Spain\",\"Sweden\",\"Switzerland\"],\"ids\":[\"Belgium\",\"Bulgaria\",\"Denmark\",\"Estonia\",\"Finland\",\"France\",\"Germany\",\"Hungary\",\"Italy\",\"Latvia\",\"Netherlands\",\"Norway\",\"Poland\",\"South Korea\",\"Spain\",\"Sweden\",\"Switzerland\"],\"legendgroup\":\"\",\"marker\":{\"color\":\"#636efa\",\"size\":[9916577,8975353,5114250,1522405,4911220,55254838,77691591,10566321,56936776,2580763,14513947,4153111,37133860,40804406,38733866,8357650,6435424],\"sizemode\":\"area\",\"sizeref\":90359.6288888889,\"symbol\":\"circle\"},\"mode\":\"markers+text\",\"name\":\"\",\"orientation\":\"v\",\"showlegend\":false,\"text\":[\"Belgium\",\"Bulgaria\",\"Denmark\",\"Estonia\",\"Finland\",\"France\",\"Germany\",\"Hungary\",\"Italy\",\"Latvia\",\"Netherlands\",\"Norway\",\"Poland\",\"South Korea\",\"Spain\",\"Sweden\",\"Switzerland\"],\"x\":[9916577,8975353,5114250,1522405,4911220,55254838,77691591,10566321,56936776,2580763,14513947,4153111,37133860,40804406,38733866,8357650,6435424],\"xaxis\":\"x\",\"y\":[909.0909090909092,578.1805549079769,2365.023619925412,1284.5983419840022,1821.7860725372789,670.2071163037706,780.8466578971381,881.7027935676359,274.0114062425774,884.7435452280056,2787.864233772077,2107.205462647194,259.2020070385608,878.2286918590404,900.0683095897626,2427.6646706586826,1288.5887226395805],\"yaxis\":\"y\",\"type\":\"scatter\"}],\"name\":\"1985\"},{\"data\":[{\"hovertemplate\":\"\\u003cb\\u003e%{hovertext}\\u003c\\u002fb\\u003e\\u003cbr\\u003e\\u003cbr\\u003eYear=1986\\u003cbr\\u003ePopulation (historical estimates)=%{marker.size}\\u003cbr\\u003eBook titles per capita (Fink-Jensen 2015)=%{y}\\u003cbr\\u003eEntity=%{text}\\u003cextra\\u003e\\u003c\\u002fextra\\u003e\",\"hovertext\":[\"Belgium\",\"Bulgaria\",\"Denmark\",\"Estonia\",\"Finland\",\"France\",\"Germany\",\"Hungary\",\"Italy\",\"Latvia\",\"Netherlands\",\"Norway\",\"Poland\",\"South Korea\",\"Spain\",\"Sweden\",\"Switzerland\"],\"ids\":[\"Belgium\",\"Bulgaria\",\"Denmark\",\"Estonia\",\"Finland\",\"France\",\"Germany\",\"Hungary\",\"Italy\",\"Latvia\",\"Netherlands\",\"Norway\",\"Poland\",\"South Korea\",\"Spain\",\"Sweden\",\"Switzerland\"],\"legendgroup\":\"\",\"marker\":{\"color\":\"#636efa\",\"size\":[9928539,8972555,5114645,1536034,4930342,55545271,77806136,10519296,56983931,2602152,14595749,4169318,37359519,41265123,38855631,8384986,6473047],\"sizemode\":\"area\",\"sizeref\":90359.6288888889,\"symbol\":\"circle\"},\"mode\":\"markers+text\",\"name\":\"\",\"orientation\":\"v\",\"showlegend\":false,\"text\":[\"Belgium\",\"Bulgaria\",\"Denmark\",\"Estonia\",\"Finland\",\"France\",\"Germany\",\"Hungary\",\"Italy\",\"Latvia\",\"Netherlands\",\"Norway\",\"Poland\",\"South Korea\",\"Spain\",\"Sweden\",\"Switzerland\"],\"x\":[9928539,8972555,5114645,1536034,4930342,55545271,77806136,10519296,56983931,2602152,14595749,4169318,37359519,41265123,38855631,8384986,6473047],\"xaxis\":\"x\",\"y\":[879.6568577744429,549.6290227341476,2155.829841184533,1393.4836575333277,1768.0125172195144,580.5905685323931,903.4468084914736,927.2321701117804,287.2536392878655,802.5294143400737,2763.2682822217457,2160.756646432724,263.46329851730235,1007.9827243169796,992.1835416320266,2424.014336917563,1209.5665247958866],\"yaxis\":\"y\",\"type\":\"scatter\"}],\"name\":\"1986\"},{\"data\":[{\"hovertemplate\":\"\\u003cb\\u003e%{hovertext}\\u003c\\u002fb\\u003e\\u003cbr\\u003e\\u003cbr\\u003eYear=1987\\u003cbr\\u003ePopulation (historical estimates)=%{marker.size}\\u003cbr\\u003eBook titles per capita (Fink-Jensen 2015)=%{y}\\u003cbr\\u003eEntity=%{text}\\u003cextra\\u003e\\u003c\\u002fextra\\u003e\",\"hovertext\":[\"Belgium\",\"Bulgaria\",\"Denmark\",\"Estonia\",\"Finland\",\"France\",\"Germany\",\"Hungary\",\"Italy\",\"Latvia\",\"Netherlands\",\"Norway\",\"Poland\",\"South Korea\",\"Spain\",\"Sweden\",\"Switzerland\"],\"ids\":[\"Belgium\",\"Bulgaria\",\"Denmark\",\"Estonia\",\"Finland\",\"France\",\"Germany\",\"Hungary\",\"Italy\",\"Latvia\",\"Netherlands\",\"Norway\",\"Poland\",\"South Korea\",\"Spain\",\"Sweden\",\"Switzerland\"],\"legendgroup\":\"\",\"marker\":{\"color\":\"#636efa\",\"size\":[9942281,8960554,5117282,1551209,4946368,55837622,78015742,10474544,57007737,2626906,14682662,4186971,37544332,41686566,38954490,8421056,6510593],\"sizemode\":\"area\",\"sizeref\":90359.6288888889,\"symbol\":\"circle\"},\"mode\":\"markers+text\",\"name\":\"\",\"orientation\":\"v\",\"showlegend\":false,\"text\":[\"Belgium\",\"Bulgaria\",\"Denmark\",\"Estonia\",\"Finland\",\"France\",\"Germany\",\"Hungary\",\"Italy\",\"Latvia\",\"Netherlands\",\"Norway\",\"Poland\",\"South Korea\",\"Spain\",\"Sweden\",\"Switzerland\"],\"x\":[9942281,8960554,5117282,1551209,4946368,55837622,78015742,10474544,57007737,2626906,14682662,4186971,37544332,41686566,38954490,8421056,6510593],\"xaxis\":\"x\",\"y\":[921.5618731130068,510.8138045229369,2163.633328028111,1440.254406538371,1846.4112687457075,763.3929354787766,928.803150063837,858.496486298543,301.5880411007969,817.300341831621,2825.1765837647263,2385.726062653796,275.9884485480003,1064.0526644562972,985.115958040058,2397.9518933079307,1398.2076836158872],\"yaxis\":\"y\",\"type\":\"scatter\"}],\"name\":\"1987\"},{\"data\":[{\"hovertemplate\":\"\\u003cb\\u003e%{hovertext}\\u003c\\u002fb\\u003e\\u003cbr\\u003e\\u003cbr\\u003eYear=1988\\u003cbr\\u003ePopulation (historical estimates)=%{marker.size}\\u003cbr\\u003eBook titles per capita (Fink-Jensen 2015)=%{y}\\u003cbr\\u003eEntity=%{text}\\u003cextra\\u003e\\u003c\\u002fextra\\u003e\",\"hovertext\":[\"Belgium\",\"Bulgaria\",\"Denmark\",\"Estonia\",\"Finland\",\"France\",\"Germany\",\"Hungary\",\"Italy\",\"Latvia\",\"Netherlands\",\"Norway\",\"Poland\",\"South Korea\",\"Spain\",\"Sweden\",\"Switzerland\"],\"ids\":[\"Belgium\",\"Bulgaria\",\"Denmark\",\"Estonia\",\"Finland\",\"France\",\"Germany\",\"Hungary\",\"Italy\",\"Latvia\",\"Netherlands\",\"Norway\",\"Poland\",\"South Korea\",\"Spain\",\"Sweden\",\"Switzerland\"],\"legendgroup\":\"\",\"marker\":{\"color\":\"#636efa\",\"size\":[9959011,8936652,5122442,1564200,4961097,56126337,78307525,10434539,57018193,2649835,14774031,4205959,37697360,42086668,39038686,8464790,6550730],\"sizemode\":\"area\",\"sizeref\":90359.6288888889,\"symbol\":\"circle\"},\"mode\":\"markers+text\",\"name\":\"\",\"orientation\":\"v\",\"showlegend\":false,\"text\":[\"Belgium\",\"Bulgaria\",\"Denmark\",\"Estonia\",\"Finland\",\"France\",\"Germany\",\"Hungary\",\"Italy\",\"Latvia\",\"Netherlands\",\"Norway\",\"Poland\",\"South Korea\",\"Spain\",\"Sweden\",\"Switzerland\"],\"x\":[9959011,8936652,5122442,1564200,4961097,56126337,78307525,10434539,57018193,2649835,14774031,4205959,37697360,42086668,39038686,8464790,6550730],\"xaxis\":\"x\",\"y\":[947.0861999190612,487.5292598272661,2694.4062558728738,1347.8317115805828,2099.6099771298987,681.6173259977294,962.9174575319016,825.5685898970553,345.824208812112,741.7228088772508,2973.4429918586657,2573.9362168483644,283.30856231996125,1019.2952820537224,907.1057496180724,2425.320056899004,1302.782531079433],\"yaxis\":\"y\",\"type\":\"scatter\"}],\"name\":\"1988\"},{\"data\":[{\"hovertemplate\":\"\\u003cb\\u003e%{hovertext}\\u003c\\u002fb\\u003e\\u003cbr\\u003e\\u003cbr\\u003eYear=1989\\u003cbr\\u003ePopulation (historical estimates)=%{marker.size}\\u003cbr\\u003eBook titles per capita (Fink-Jensen 2015)=%{y}\\u003cbr\\u003eEntity=%{text}\\u003cextra\\u003e\\u003c\\u002fextra\\u003e\",\"hovertext\":[\"Belgium\",\"Bulgaria\",\"Denmark\",\"Estonia\",\"Finland\",\"France\",\"Germany\",\"Hungary\",\"Italy\",\"Latvia\",\"Netherlands\",\"Norway\",\"Poland\",\"South Korea\",\"Spain\",\"Sweden\",\"Switzerland\"],\"ids\":[\"Belgium\",\"Bulgaria\",\"Denmark\",\"Estonia\",\"Finland\",\"France\",\"Germany\",\"Hungary\",\"Italy\",\"Latvia\",\"Netherlands\",\"Norway\",\"Poland\",\"South Korea\",\"Spain\",\"Sweden\",\"Switzerland\"],\"legendgroup\":\"\",\"marker\":{\"color\":\"#636efa\",\"size\":[9980175,8897541,5130362,1569967,4977118,56404303,78660301,10401614,57028707,2663943,14868659,4226116,37832568,42491200,39118555,8514204,6597360],\"sizemode\":\"area\",\"sizeref\":90359.6288888889,\"symbol\":\"circle\"},\"mode\":\"markers+text\",\"name\":\"\",\"orientation\":\"v\",\"showlegend\":false,\"text\":[\"Belgium\",\"Bulgaria\",\"Denmark\",\"Estonia\",\"Finland\",\"France\",\"Germany\",\"Hungary\",\"Italy\",\"Latvia\",\"Netherlands\",\"Norway\",\"Poland\",\"South Korea\",\"Spain\",\"Sweden\",\"Switzerland\"],\"x\":[9980175,8897541,5130362,1569967,4977118,56404303,78660301,10401614,57028707,2663943,14868659,4226116,37832568,42491200,39118555,8514204,6597360],\"xaxis\":\"x\",\"y\":[966.1192125298246,505.3361742503244,2669.995458435921,1317.6941498199149,2034.6841403252956,693.7790768060048,915.4819598378606,830.0667467528964,399.1537946603208,722.450979620284,2940.82251306443,2934.3547850498167,270.8969715820228,925.0394591156448,978.030511808087,2345.578711880372,1377.8057508272525],\"yaxis\":\"y\",\"type\":\"scatter\"}],\"name\":\"1989\"},{\"data\":[{\"hovertemplate\":\"\\u003cb\\u003e%{hovertext}\\u003c\\u002fb\\u003e\\u003cbr\\u003e\\u003cbr\\u003eYear=1990\\u003cbr\\u003ePopulation (historical estimates)=%{marker.size}\\u003cbr\\u003eBook titles per capita (Fink-Jensen 2015)=%{y}\\u003cbr\\u003eEntity=%{text}\\u003cextra\\u003e\\u003c\\u002fextra\\u003e\",\"hovertext\":[\"Belgium\",\"Bulgaria\",\"Denmark\",\"Estonia\",\"Finland\",\"France\",\"Germany\",\"Hungary\",\"Italy\",\"Latvia\",\"Netherlands\",\"Norway\",\"Poland\",\"South Korea\",\"Spain\",\"Sweden\",\"Switzerland\"],\"ids\":[\"Belgium\",\"Bulgaria\",\"Denmark\",\"Estonia\",\"Finland\",\"France\",\"Germany\",\"Hungary\",\"Italy\",\"Latvia\",\"Netherlands\",\"Norway\",\"Poland\",\"South Korea\",\"Spain\",\"Sweden\",\"Switzerland\"],\"legendgroup\":\"\",\"marker\":{\"color\":\"#636efa\",\"size\":[10006545,8841466,5141117,1565246,4996220,56666861,79053984,10377135,57048237,2664447,14965442,4247286,37960193,42918416,39202524,8567375,6652873],\"sizemode\":\"area\",\"sizeref\":90359.6288888889,\"symbol\":\"circle\"},\"mode\":\"markers+text\",\"name\":\"\",\"orientation\":\"v\",\"showlegend\":false,\"text\":[\"Belgium\",\"Bulgaria\",\"Denmark\",\"Estonia\",\"Finland\",\"France\",\"Germany\",\"Hungary\",\"Italy\",\"Latvia\",\"Netherlands\",\"Norway\",\"Poland\",\"South Korea\",\"Spain\",\"Sweden\",\"Switzerland\"],\"x\":[10006545,8841466,5141117,1565246,4996220,56666861,79053984,10377135,57048237,2664447,14965442,4247286,37960193,42918416,39202524,8567375,6652873],\"xaxis\":\"x\",\"y\":[989.4365808666798,383.6282053530751,2604.5749485406795,1037.39066934638,2036.1256377557415,717.232842800165,768.6406797124238,802.3619251981174,441.7822526686429,587.1774559898481,3041.2981698838444,3919.3721083845703,268.6820319979786,917.4461732254076,920.92228235743,2483.0003505082373,1430.6764769639294],\"yaxis\":\"y\",\"type\":\"scatter\"}],\"name\":\"1990\"},{\"data\":[{\"hovertemplate\":\"\\u003cb\\u003e%{hovertext}\\u003c\\u002fb\\u003e\\u003cbr\\u003e\\u003cbr\\u003eYear=1991\\u003cbr\\u003ePopulation (historical estimates)=%{marker.size}\\u003cbr\\u003eBook titles per capita (Fink-Jensen 2015)=%{y}\\u003cbr\\u003eEntity=%{text}\\u003cextra\\u003e\\u003c\\u002fextra\\u003e\",\"hovertext\":[\"Belgium\",\"Bulgaria\",\"Denmark\",\"Estonia\",\"Finland\",\"France\",\"Germany\",\"Hungary\",\"Italy\",\"Latvia\",\"Netherlands\",\"Norway\",\"Poland\",\"South Korea\",\"Spain\",\"Sweden\",\"Switzerland\"],\"ids\":[\"Belgium\",\"Bulgaria\",\"Denmark\",\"Estonia\",\"Finland\",\"France\",\"Germany\",\"Hungary\",\"Italy\",\"Latvia\",\"Netherlands\",\"Norway\",\"Poland\",\"South Korea\",\"Spain\",\"Sweden\",\"Switzerland\"],\"legendgroup\":\"\",\"marker\":{\"color\":\"#636efa\",\"size\":[10039450,8767000,5154906,1548220,5019134,56913580,79490831,10363050,57088125,2649161,15064522,4269465,38082940,43373148,39299081,8625140,6718818],\"sizemode\":\"area\",\"sizeref\":90359.6288888889,\"symbol\":\"circle\"},\"mode\":\"markers+text\",\"name\":\"\",\"orientation\":\"v\",\"showlegend\":false,\"text\":[\"Belgium\",\"Bulgaria\",\"Denmark\",\"Estonia\",\"Finland\",\"France\",\"Germany\",\"Hungary\",\"Italy\",\"Latvia\",\"Netherlands\",\"Norway\",\"Poland\",\"South Korea\",\"Spain\",\"Sweden\",\"Switzerland\"],\"x\":[10039450,8767000,5154906,1548220,5019134,56913580,79490831,10363050,57088125,2649161,15064522,4269465,38082940,43373148,39299081,8625140,6718818],\"xaxis\":\"x\",\"y\":[983.4587220714068,371.62143676599067,2668.03664165738,1060.5643818365204,2235.4364546073566,746.5221998154287,848.7921696178062,784.6798235208477,489.0262757478035,523.1380133881089,3122.017334142207,4171.30777549884,279.4013011505279,679.096949649802,990.3850895576028,2380.4108158291747,1508.2590113346284],\"yaxis\":\"y\",\"type\":\"scatter\"}],\"name\":\"1991\"},{\"data\":[{\"hovertemplate\":\"\\u003cb\\u003e%{hovertext}\\u003c\\u002fb\\u003e\\u003cbr\\u003e\\u003cbr\\u003eYear=1992\\u003cbr\\u003ePopulation (historical estimates)=%{marker.size}\\u003cbr\\u003eBook titles per capita (Fink-Jensen 2015)=%{y}\\u003cbr\\u003eEntity=%{text}\\u003cextra\\u003e\\u003c\\u002fextra\\u003e\",\"hovertext\":[\"Belgium\",\"Bulgaria\",\"Denmark\",\"Estonia\",\"Finland\",\"France\",\"Germany\",\"Hungary\",\"Italy\",\"Latvia\",\"Netherlands\",\"Norway\",\"Poland\",\"South Korea\",\"Spain\",\"Sweden\",\"Switzerland\"],\"ids\":[\"Belgium\",\"Bulgaria\",\"Denmark\",\"Estonia\",\"Finland\",\"France\",\"Germany\",\"Hungary\",\"Italy\",\"Latvia\",\"Netherlands\",\"Norway\",\"Poland\",\"South Korea\",\"Spain\",\"Sweden\",\"Switzerland\"],\"legendgroup\":\"\",\"marker\":{\"color\":\"#636efa\",\"size\":[10078098,8676379,5171654,1520811,5044928,57147213,79963166,10358622,57145308,2620254,15165856,4292685,38197588,43848223,39410852,8686735,6792906],\"sizemode\":\"area\",\"sizeref\":90359.6288888889,\"symbol\":\"circle\"},\"mode\":\"markers+text\",\"name\":\"\",\"orientation\":\"v\",\"showlegend\":false,\"text\":[\"Belgium\",\"Bulgaria\",\"Denmark\",\"Estonia\",\"Finland\",\"France\",\"Germany\",\"Hungary\",\"Italy\",\"Latvia\",\"Netherlands\",\"Norway\",\"Poland\",\"South Korea\",\"Spain\",\"Sweden\",\"Switzerland\"],\"x\":[10078098,8676379,5171654,1520811,5044928,57147213,79963166,10358622,57145308,2620254,15165856,4292685,38197588,43848223,39410852,8686735,6792906],\"xaxis\":\"x\",\"y\":[1002.4267287779692,551.2498345557536,2833.279157085915,1018.5024677588694,2188.6361125156936,770.978100205576,834.7253901485407,824.8391776191061,516.3716156446437,576.8637496755381,3174.457982882047,4573.8140803484175,279.5622920271685,636.1960635411341,1057.3095880654485,2399.976926626673,1468.6695503518215],\"yaxis\":\"y\",\"type\":\"scatter\"}],\"name\":\"1992\"},{\"data\":[{\"hovertemplate\":\"\\u003cb\\u003e%{hovertext}\\u003c\\u002fb\\u003e\\u003cbr\\u003e\\u003cbr\\u003eYear=1993\\u003cbr\\u003ePopulation (historical estimates)=%{marker.size}\\u003cbr\\u003eBook titles per capita (Fink-Jensen 2015)=%{y}\\u003cbr\\u003eEntity=%{text}\\u003cextra\\u003e\\u003c\\u002fextra\\u003e\",\"hovertext\":[\"Belgium\",\"Bulgaria\",\"Denmark\",\"Estonia\",\"Finland\",\"France\",\"Germany\",\"Hungary\",\"Italy\",\"Latvia\",\"Netherlands\",\"Norway\",\"Poland\",\"South Korea\",\"Spain\",\"Sweden\",\"Switzerland\"],\"ids\":[\"Belgium\",\"Bulgaria\",\"Denmark\",\"Estonia\",\"Finland\",\"France\",\"Germany\",\"Hungary\",\"Italy\",\"Latvia\",\"Netherlands\",\"Norway\",\"Poland\",\"South Korea\",\"Spain\",\"Sweden\",\"Switzerland\"],\"legendgroup\":\"\",\"marker\":{\"color\":\"#636efa\",\"size\":[10118684,8576042,5190745,1488060,5071782,57370375,80428557,10359052,57197610,2582658,15268005,4316790,38301349,44335037,39533726,8746770,6868937],\"sizemode\":\"area\",\"sizeref\":90359.6288888889,\"symbol\":\"circle\"},\"mode\":\"markers+text\",\"name\":\"\",\"orientation\":\"v\",\"showlegend\":false,\"text\":[\"Belgium\",\"Bulgaria\",\"Denmark\",\"Estonia\",\"Finland\",\"France\",\"Germany\",\"Hungary\",\"Italy\",\"Latvia\",\"Netherlands\",\"Norway\",\"Poland\",\"South Korea\",\"Spain\",\"Sweden\",\"Switzerland\"],\"x\":[10118684,8576042,5190745,1488060,5071782,57370375,80428557,10359052,57197610,2582658,15268005,4316790,38301349,44335037,39533726,8746770,6868937],\"xaxis\":\"x\",\"y\":[994.6035001397064,683.6161458027319,2783.7173255806333,1317.5310072373688,2326.8229675690045,696.8851932599841,828.3510167199557,887.7906231496294,527.9978626169552,629.0661291152384,3314.644337111067,4618.081227023232,254.4469332827559,696.5259108496488,1028.5259104976542,2498.2222731964675,1502.0803430217657],\"yaxis\":\"y\",\"type\":\"scatter\"}],\"name\":\"1993\"},{\"data\":[{\"hovertemplate\":\"\\u003cb\\u003e%{hovertext}\\u003c\\u002fb\\u003e\\u003cbr\\u003e\\u003cbr\\u003eYear=1994\\u003cbr\\u003ePopulation (historical estimates)=%{marker.size}\\u003cbr\\u003eBook titles per capita (Fink-Jensen 2015)=%{y}\\u003cbr\\u003eEntity=%{text}\\u003cextra\\u003e\\u003c\\u002fextra\\u003e\",\"hovertext\":[\"Belgium\",\"Bulgaria\",\"Denmark\",\"Estonia\",\"Finland\",\"France\",\"Germany\",\"Hungary\",\"Italy\",\"Latvia\",\"Netherlands\",\"Norway\",\"Poland\",\"South Korea\",\"Spain\",\"Sweden\",\"Switzerland\"],\"ids\":[\"Belgium\",\"Bulgaria\",\"Denmark\",\"Estonia\",\"Finland\",\"France\",\"Germany\",\"Hungary\",\"Italy\",\"Latvia\",\"Netherlands\",\"Norway\",\"Poland\",\"South Korea\",\"Spain\",\"Sweden\",\"Switzerland\"],\"legendgroup\":\"\",\"marker\":{\"color\":\"#636efa\",\"size\":[10155909,8474822,5211334,1457090,5097090,57587122,80832928,10357586,57213538,2543632,15369121,4341616,38389469,44820070,39660079,8798235,6938407],\"sizemode\":\"area\",\"sizeref\":90359.6288888889,\"symbol\":\"circle\"},\"mode\":\"markers+text\",\"name\":\"\",\"orientation\":\"v\",\"showlegend\":false,\"text\":[\"Belgium\",\"Bulgaria\",\"Denmark\",\"Estonia\",\"Finland\",\"France\",\"Germany\",\"Hungary\",\"Italy\",\"Latvia\",\"Netherlands\",\"Norway\",\"Poland\",\"South Korea\",\"Spain\",\"Sweden\",\"Switzerland\"],\"x\":[10155909,8474822,5211334,1457090,5097090,57587122,80832928,10357586,57213538,2543632,15369121,4341616,38389469,44820070,39660079,8798235,6938407],\"xaxis\":\"x\",\"y\":[1080.6176956556185,709.2975440348077,2910.901964671528,1561.1211998350975,2465.373874075804,762.2339978131046,867.6991389360702,980.1493573854564,571.4114823749647,664.5447729610719,3384.236765122904,4841.307944080184,282.08769591268054,764.8668078731906,1115.1402670395744,2663.81961052272,1475.150150466721],\"yaxis\":\"y\",\"type\":\"scatter\"}],\"name\":\"1994\"},{\"data\":[{\"hovertemplate\":\"\\u003cb\\u003e%{hovertext}\\u003c\\u002fb\\u003e\\u003cbr\\u003e\\u003cbr\\u003eYear=1995\\u003cbr\\u003ePopulation (historical estimates)=%{marker.size}\\u003cbr\\u003eBook titles per capita (Fink-Jensen 2015)=%{y}\\u003cbr\\u003eEntity=%{text}\\u003cextra\\u003e\\u003c\\u002fextra\\u003e\",\"hovertext\":[\"Belgium\",\"Bulgaria\",\"Denmark\",\"Estonia\",\"Finland\",\"France\",\"Germany\",\"Hungary\",\"Italy\",\"Latvia\",\"Netherlands\",\"Norway\",\"Poland\",\"South Korea\",\"Spain\",\"Sweden\",\"Switzerland\"],\"ids\":[\"Belgium\",\"Bulgaria\",\"Denmark\",\"Estonia\",\"Finland\",\"France\",\"Germany\",\"Hungary\",\"Italy\",\"Latvia\",\"Netherlands\",\"Norway\",\"Poland\",\"South Korea\",\"Spain\",\"Sweden\",\"Switzerland\"],\"legendgroup\":\"\",\"marker\":{\"color\":\"#636efa\",\"size\":[10186304,8379305,5232709,1433026,5119012,57801887,81138653,10349308,57174412,2508476,15467852,4366996,38458642,45292521,39787413,8836421,6995519],\"sizemode\":\"area\",\"sizeref\":90359.6288888889,\"symbol\":\"circle\"},\"mode\":\"markers+text\",\"name\":\"\",\"orientation\":\"v\",\"showlegend\":false,\"text\":[\"Belgium\",\"Bulgaria\",\"Denmark\",\"Estonia\",\"Finland\",\"France\",\"Germany\",\"Hungary\",\"Italy\",\"Latvia\",\"Netherlands\",\"Norway\",\"Poland\",\"South Korea\",\"Spain\",\"Sweden\",\"Switzerland\"],\"x\":[10186304,8379305,5232709,1433026,5119012,57801887,81138653,10349308,57174412,2508476,15467852,4366996,38458642,45292521,39787413,8836421,6995519],\"xaxis\":\"x\",\"y\":[1135.4484322175886,654.0847410387665,2994.8713950126626,1821.6271035990787,2643.47005693236,582.2280278670953,908.3972702180728,904.6342253217164,601.8381887753912,790.9942411760735,3401.566486539215,4951.709079463862,308.932685627353,795.1210993334033,1219.304339666335,2664.2120765832105,1507.5925939898054],\"yaxis\":\"y\",\"type\":\"scatter\"}],\"name\":\"1995\"},{\"data\":[{\"hovertemplate\":\"\\u003cb\\u003e%{hovertext}\\u003c\\u002fb\\u003e\\u003cbr\\u003e\\u003cbr\\u003eYear=1996\\u003cbr\\u003ePopulation (historical estimates)=%{marker.size}\\u003cbr\\u003eBook titles per capita (Fink-Jensen 2015)=%{y}\\u003cbr\\u003eEntity=%{text}\\u003cextra\\u003e\\u003c\\u002fextra\\u003e\",\"hovertext\":[\"Belgium\",\"Bulgaria\",\"Denmark\",\"Estonia\",\"Finland\",\"France\",\"Germany\",\"Hungary\",\"Italy\",\"Latvia\",\"Netherlands\",\"Norway\",\"Poland\",\"South Korea\",\"Spain\",\"Sweden\",\"Switzerland\"],\"ids\":[\"Belgium\",\"Bulgaria\",\"Denmark\",\"Estonia\",\"Finland\",\"France\",\"Germany\",\"Hungary\",\"Italy\",\"Latvia\",\"Netherlands\",\"Norway\",\"Poland\",\"South Korea\",\"Spain\",\"Sweden\",\"Switzerland\"],\"legendgroup\":\"\",\"marker\":{\"color\":\"#636efa\",\"size\":[10208265,8291969,5254857,1417741,5136984,58012055,81323666,10332451,57065231,2478832,15563252,4393217,38509672,45751023,39908962,8859180,7038027],\"sizemode\":\"area\",\"sizeref\":90359.6288888889,\"symbol\":\"circle\"},\"mode\":\"markers+text\",\"name\":\"\",\"orientation\":\"v\",\"showlegend\":false,\"text\":[\"Belgium\",\"Bulgaria\",\"Denmark\",\"Estonia\",\"Finland\",\"France\",\"Germany\",\"Hungary\",\"Italy\",\"Latvia\",\"Netherlands\",\"Norway\",\"Poland\",\"South Korea\",\"Spain\",\"Sweden\",\"Switzerland\"],\"x\":[10208265,8291969,5254857,1417741,5136984,58012055,81323666,10332451,57065231,2478832,15563252,4393217,38509672,45751023,39908962,8859180,7038027],\"xaxis\":\"x\",\"y\":[1148.548561175463,593.0626859907076,3151.9885216383277,1840.5591153550115,2559.2200472237027,818.9760090695387,873.2985408459305,894.8185692811793,614.2203766093389,798.6905539498194,3313.667755702044,4810.013153699253,365.1063341134039,670.5159845604716,1163.9583719445684,2673.1139011424048,1517.3323470301727],\"yaxis\":\"y\",\"type\":\"scatter\"}],\"name\":\"1996\"}]);\n",
              "                        }).then(function(){\n",
              "                            \n",
              "var gd = document.getElementById('3603571b-b3c6-41e6-9e6c-e440dac62bef');\n",
              "var x = new MutationObserver(function (mutations, observer) {{\n",
              "        var display = window.getComputedStyle(gd).display;\n",
              "        if (!display || display === 'none') {{\n",
              "            console.log([gd, 'removed!']);\n",
              "            Plotly.purge(gd);\n",
              "            observer.disconnect();\n",
              "        }}\n",
              "}});\n",
              "\n",
              "// Listen for the removal of the full notebook cells\n",
              "var notebookContainer = gd.closest('#notebook-container');\n",
              "if (notebookContainer) {{\n",
              "    x.observe(notebookContainer, {childList: true});\n",
              "}}\n",
              "\n",
              "// Listen for the clearing of the current output cell\n",
              "var outputEl = gd.closest('.output');\n",
              "if (outputEl) {{\n",
              "    x.observe(outputEl, {childList: true});\n",
              "}}\n",
              "\n",
              "                        })                };                            </script>        </div>\n",
              "</body>\n",
              "</html>"
            ]
          },
          "metadata": {}
        }
      ]
    },
    {
      "cell_type": "code",
      "source": [
        "def find_special_points(value, points):\n",
        "\n",
        "    if value == points.max():\n",
        "      special_point_name = \"max\"\n",
        "    elif value == points.min():\n",
        "      special_point_name = \"min\"\n",
        "    elif value == points.median():\n",
        "      special_point_name =\"median\"\n",
        "    else:\n",
        "      special_point_name = \"not special\"\n",
        "\n",
        "    return special_point_name"
      ],
      "metadata": {
        "id": "A4Uf323m45mg"
      },
      "execution_count": null,
      "outputs": []
    },
    {
      "cell_type": "code",
      "source": [
        "numbers = pd.DataFrame(np.random.randn(351), columns = [\"sample\",])\n",
        "numbers[\"special_points\"]=numbers[\"sample\"].apply(lambda x: find_special_points(x,numbers[\"sample\"]))\n",
        "\n",
        "chart = px.scatter(\n",
        "        numbers,\n",
        "        x=numbers.index,\n",
        "        y=\"sample\",\n",
        "        color=\"special_points\",\n",
        "        color_discrete_map={\n",
        "            \"max\": \"#800E13\",\n",
        "            \"median\": \"#169873\",\n",
        "            \"min\": \"#2C497F\",\n",
        "            \"not special\": \"#E4DFDA\",\n",
        "                },\n",
        "        render_mode=\"webgl\",\n",
        "        template='none',\n",
        "        size=[10 for item in numbers[\"sample\"]],\n",
        "        title=\"Here're your points\"\n",
        "    )\n",
        "\n",
        "cluster = [\n",
        "           {\n",
        "               \"type\": \"rectangle\",\n",
        "               \"x0\": min(numbers.index),\n",
        "               \"y0\": min(numbers[\"sample\"]+0.5),\n",
        "               \"x1\": max(numbers.index)/2,\n",
        "               \"y1\": max(numbers[\"sample\"]/2),\n",
        "               \"line\": {\"color\": \"DarkOrange\", \"width\": 2, \"dash\": \"dashdot\"},\n",
        "               \"filcolor\": \"LightSkyBlue\"\n",
        "           }\n",
        "]\n",
        "\n",
        "chart.update_layout(\n",
        "    updatemenus=[\n",
        "        dict(\n",
        "            type=\"buttons\",\n",
        "            buttons=[\n",
        "                dict(label=\"None\",\n",
        "                     method=\"relayout\",\n",
        "                     args=[\"shapes\", []]),\n",
        "                dict(label=\"Cluster\",\n",
        "                     method=\"relayout\",\n",
        "                     args=[\"shapes\", cluster])\n",
        "            ],\n",
        "        )\n",
        "    ]\n",
        ")\n"
      ],
      "metadata": {
        "id": "3ootRDbU46dG",
        "colab": {
          "base_uri": "https://localhost:8080/",
          "height": 542
        },
        "outputId": "816993c4-fd45-4676-b925-2def36627c8d"
      },
      "execution_count": null,
      "outputs": [
        {
          "output_type": "display_data",
          "data": {
            "text/html": [
              "<html>\n",
              "<head><meta charset=\"utf-8\" /></head>\n",
              "<body>\n",
              "    <div>            <script src=\"https://cdnjs.cloudflare.com/ajax/libs/mathjax/2.7.5/MathJax.js?config=TeX-AMS-MML_SVG\"></script><script type=\"text/javascript\">if (window.MathJax && window.MathJax.Hub && window.MathJax.Hub.Config) {window.MathJax.Hub.Config({SVG: {font: \"STIX-Web\"}});}</script>                <script type=\"text/javascript\">window.PlotlyConfig = {MathJaxConfig: 'local'};</script>\n",
              "        <script charset=\"utf-8\" src=\"https://cdn.plot.ly/plotly-2.24.1.min.js\"></script>                <div id=\"73a29b65-2a7a-474d-818f-fc7ca54591bb\" class=\"plotly-graph-div\" style=\"height:525px; width:100%;\"></div>            <script type=\"text/javascript\">                                    window.PLOTLYENV=window.PLOTLYENV || {};                                    if (document.getElementById(\"73a29b65-2a7a-474d-818f-fc7ca54591bb\")) {                    Plotly.newPlot(                        \"73a29b65-2a7a-474d-818f-fc7ca54591bb\",                        [{\"hovertemplate\":\"special_points=not special\\u003cbr\\u003eindex=%{x}\\u003cbr\\u003esample=%{y}\\u003cbr\\u003esize=%{marker.size}\\u003cextra\\u003e\\u003c\\u002fextra\\u003e\",\"legendgroup\":\"not special\",\"marker\":{\"color\":\"#E4DFDA\",\"size\":[10,10,10,10,10,10,10,10,10,10,10,10,10,10,10,10,10,10,10,10,10,10,10,10,10,10,10,10,10,10,10,10,10,10,10,10,10,10,10,10,10,10,10,10,10,10,10,10,10,10,10,10,10,10,10,10,10,10,10,10,10,10,10,10,10,10,10,10,10,10,10,10,10,10,10,10,10,10,10,10,10,10,10,10,10,10,10,10,10,10,10,10,10,10,10,10,10,10,10,10,10,10,10,10,10,10,10,10,10,10,10,10,10,10,10,10,10,10,10,10,10,10,10,10,10,10,10,10,10,10,10,10,10,10,10,10,10,10,10,10,10,10,10,10,10,10,10,10,10,10,10,10,10,10,10,10,10,10,10,10,10,10,10,10,10,10,10,10,10,10,10,10,10,10,10,10,10,10,10,10,10,10,10,10,10,10,10,10,10,10,10,10,10,10,10,10,10,10,10,10,10,10,10,10,10,10,10,10,10,10,10,10,10,10,10,10,10,10,10,10,10,10,10,10,10,10,10,10,10,10,10,10,10,10,10,10,10,10,10,10,10,10,10,10,10,10,10,10,10,10,10,10,10,10,10,10,10,10,10,10,10,10,10,10,10,10,10,10,10,10,10,10,10,10,10,10,10,10,10,10,10,10,10,10,10,10,10,10,10,10,10,10,10,10,10,10,10,10,10,10,10,10,10,10,10,10,10,10,10,10,10,10,10,10,10,10,10,10,10,10,10,10,10,10,10,10,10,10,10,10,10,10,10,10,10,10,10,10,10,10,10,10,10,10,10,10,10,10],\"sizemode\":\"area\",\"sizeref\":0.025,\"symbol\":\"circle\"},\"mode\":\"markers\",\"name\":\"not special\",\"showlegend\":true,\"x\":[0,1,2,3,4,5,6,7,8,9,10,11,12,13,14,15,16,17,18,19,20,21,22,23,24,25,26,27,28,29,30,31,32,33,34,35,36,37,38,39,40,41,42,43,44,45,46,47,48,49,50,51,52,53,54,55,56,57,58,59,60,61,62,63,64,65,66,67,68,69,70,71,72,73,74,75,76,77,78,79,80,81,82,83,84,85,86,87,88,89,90,91,92,93,94,95,96,97,98,99,100,101,102,103,104,105,106,107,108,109,110,111,112,113,114,115,116,117,118,120,121,122,123,124,125,126,127,128,129,130,131,132,133,134,135,136,137,138,139,140,141,142,143,144,145,146,147,148,149,150,151,152,153,154,155,156,157,158,159,160,161,162,163,164,165,166,167,168,169,170,171,172,173,174,175,176,177,178,179,180,181,182,183,184,185,186,187,188,189,190,191,192,193,194,195,196,197,198,199,200,201,202,203,204,205,206,207,208,209,210,211,212,213,214,215,216,217,218,219,220,221,222,223,224,225,226,227,228,229,230,231,232,233,235,237,238,239,240,241,242,243,244,245,246,247,248,249,250,251,252,253,254,255,256,257,258,259,260,261,262,263,264,265,266,267,268,269,270,271,272,273,274,275,276,277,278,279,280,281,282,283,284,285,286,287,288,289,290,291,292,293,294,295,296,297,298,299,300,301,302,303,304,305,306,307,308,309,310,311,312,313,314,315,316,317,318,319,320,321,322,323,324,325,326,327,328,329,330,331,332,333,334,335,336,337,338,339,340,341,342,343,344,345,346,347,348,349,350],\"xaxis\":\"x\",\"y\":[-2.198399211235843,-0.6995661111815298,0.6071833218442079,1.329647083323633,-0.10466697070779442,1.4933015482501815,-3.0075829444772353,-0.39555295512161126,1.4190531951565288,0.7106425704861405,0.05232778626641918,0.10812666622381929,0.8218222560569424,0.39264295137081107,1.2136170749393778,0.8002800768191644,0.354738984925584,0.0038662543406538306,0.08602348836260283,-0.8510311307467876,-1.5788505856227555,-0.978377505120836,-0.7482563564529071,-0.4106859917856832,0.09800031877599615,0.9487819887264496,1.1370696564827856,0.5629394503947274,-0.6216606712371274,-0.19833331713520713,-0.5865685627999284,-1.4205534192546116,-0.5317462645452011,1.3919668469723718,-0.8692052371497394,1.5018794864206575,-0.28502585170580014,-0.3747376640058228,0.6916573743252913,1.656714175988785,1.9147770562943893,1.1528378550067768,-0.9437915309280338,-1.1725913246273938,-0.7347332550014173,-0.9429251937520895,0.40209269778760526,-0.3400700631728203,-1.2658614851112588,0.28102119277338433,-0.6253882599894444,-1.5894399031973574,-0.46076707801278255,0.47938933279582985,-0.5287159204471902,-1.1228526306874056,-1.330064174777834,-1.5353519011673482,1.2382744146325844,1.0820278734115032,0.4901281585825639,-0.6779083531780664,-0.5387608801535442,1.9291511574960758,0.5867679659449243,-0.630245909005944,-0.23302538387118546,0.7694206667450155,0.7409023283925729,0.30073289584803903,-0.46734090069626055,0.01848146460168362,-0.2915826881359858,-2.0275103869848885,-0.00753113747561299,-0.9265119356393586,1.220803904359349,-0.20969604735228092,-1.1659108572062404,1.5406650972383449,0.33340802149334947,-0.48537948830406863,-2.4000075433122414,-0.38609194431106036,0.9254058212497256,-1.2023276166719363,-0.464188277762457,0.8992597267595495,-0.7800573433375214,-0.19457760067718372,0.5764529811608305,-0.8604976063057811,1.3144061812077579,-0.31145309926374803,-1.0112143118441217,-0.5917818654448974,0.2542085413694313,-0.023660181892544686,-0.5475338205375944,-1.4672369492014123,-1.181250036708064,0.28443760278288893,-0.7219445360534437,-0.11199669375860527,1.6256832462716058,0.02797722294386968,-1.3832186888754388,0.6572223686015949,0.7868783846716282,-0.29809681756443757,-0.8070945327703961,-0.8570345827459525,1.02237800805829,-1.5117229284612606,0.850304573507758,0.8059191218130889,2.1907352562842095,0.3933757958831367,-0.20247133173756376,-1.0249657294845553,1.5315048350198646,-1.8853340324494179,0.45971460694901173,-0.07633457616928167,0.24995216795879596,-0.44277388065745915,0.9186373989312753,2.1799980691048697,0.5008219193690612,-0.0470650945612609,-0.6159600961334617,-0.20177205739019954,-1.6805104104047441,-1.491111458369752,-2.0102213255756394,-0.48779413354662626,0.2978285813895958,-1.3913585295706898,-0.4945633168298745,-0.5194016219950651,-0.11969350326600993,0.689147740743922,-1.5450880074347666,0.07648270893438462,0.3775400185955424,1.1891559555279476,0.7286430295635491,1.2122713405158163,0.7462318977261434,-0.6513976028848792,1.2694333329264333,0.011976498256800963,0.6094604643934183,0.74689068658743,0.38720522682029224,-1.1135794198177729,-0.5265610181421834,-2.2395486822159874,-2.536395387614051,-0.4213715510594761,-1.955141632183274,0.6151071807737394,2.0256815103152426,0.715864433929381,-0.9359292588186455,0.06898796189321144,-1.38094016604405,0.01647799473223352,-2.650215616428114,-0.6707435082825245,0.6641927656450609,0.9230593622351346,1.32243674850495,-0.36415117450820217,0.2815171214838703,1.8900806127466618,-1.6234676427524932,-0.448533433512321,0.27870581498858654,1.1564638578096664,0.5314736393978635,0.8534977338187533,0.6325208279524586,-0.023131530255662298,-0.7699504301651208,0.1772834246632914,0.592111943036523,-0.48607833607343554,0.3710030947966473,-1.2102004308060093,1.5531228091974711,-0.5074403336917139,-0.030388413431770366,-0.9812236270039356,-0.2441826311639804,1.220578531737815,1.6645556985521455,1.0890902612936104,-0.5548587477940264,0.8752868880024776,0.6064348620452631,0.8236392935875585,-0.9645156305738841,0.4926013867642066,-0.8977127548422448,-0.42128794743247794,0.8578628650552061,0.05087540642101125,-1.440502839427303,-1.033477340878261,2.732566750972236,0.49934173340216376,-0.548277407468664,0.05649850417559832,-0.20193484642733284,0.5351820610297036,0.36808035051818044,-0.2214138457761973,0.11173734167125876,-0.39958339133629867,-1.1856704298729592,-0.9584559484857852,-0.05322574961092886,0.259680165937646,-1.2477443919009965,0.5370423629648284,1.0999536148079514,-1.0526837988482511,0.17270573703413852,0.5864569478299875,0.2805648036860618,-0.45769520270023073,1.572943958808528,1.4134503897007529,0.14286297755241575,-0.44438565043433215,-0.41856811605792626,0.3815729343159282,-0.24945397258291008,0.23661722364565113,1.2703193878924925,-1.2994219972890462,0.7598579267187998,0.5848834078531858,-0.13821130157427272,0.20006296676632676,-0.8927067586309895,-0.023435131955994608,0.016362327687603567,-1.4600046632876484,-0.9235223767303427,1.2183055783101484,-0.6789549459839062,-0.5373924558582254,-0.7273951908880597,-0.10942775104621834,-2.1028629429635775,-1.9672559275521488,0.2888528531381161,1.315553098959785,1.06111569206633,0.5160706866616348,-0.9063420862034816,-0.588637175947125,-0.9178591096096762,-0.5512906630682342,-0.3647201538061835,0.7586090662786714,-0.6990033140481776,-0.6027092024754722,-0.7162660966226887,-0.7603985430974236,-1.3994475639725956,-2.4850447299075404,-1.7200121427201784,0.15873427448596572,-0.44118277707483816,1.0966226758934803,-1.1989076543817738,0.4734817988222153,1.1822866376625114,0.6899123585887719,-1.7221306862699908,-0.12143054910556947,-1.0484267543362544,0.6963965265195923,-1.1935865147540157,0.6969501382395197,1.000397069785783,-0.369449958232707,0.2839168837463364,1.2645904486111303,-1.0604676340189132,0.9684511403026765,-1.279623379746956,1.2848726797574157,-0.31636150719570677,1.791463271581309,-1.2174354652148385,-1.9064332896095744,0.36206397779459654,-0.5637787667813835,0.9115095072774398,-0.7677663239039714,1.0685425916994824,0.26168241005455406,-0.9502952958573796,-0.6938208998228008,-0.4316275929996119,-0.26509282330644296,1.6329333097451235,-0.08687130564536272,-1.1388346127069098,1.589812180388339,-0.29867886327973875,1.5353270669540806,1.919245661712292,-1.504599236682255,0.7148664674389853,-0.7669550638616647,-0.43658912130568345,0.2118513075328887,-0.15194138935270687,0.2955251742650792,0.7499109459788393,0.12928888734984467,0.4259537552589604,0.6514015864986268,1.521202740559511,0.7245172976376646,0.03355827479317812,1.9236904648034492,1.0943842827524068,0.8977719834086986,-0.706419338649873,-0.5970981857206964,0.7616043211272153,-1.016518368970884,1.17084961507422,-0.15818097287362048,-1.682900941839722,-0.2071162235556251,1.2223978762997334,1.1489787281170707,0.1764237245751427,-0.16946491699543295,-1.2895676757347323,0.23269960346896154],\"yaxis\":\"y\",\"type\":\"scattergl\"},{\"hovertemplate\":\"special_points=max\\u003cbr\\u003eindex=%{x}\\u003cbr\\u003esample=%{y}\\u003cbr\\u003esize=%{marker.size}\\u003cextra\\u003e\\u003c\\u002fextra\\u003e\",\"legendgroup\":\"max\",\"marker\":{\"color\":\"#800E13\",\"size\":[10],\"sizemode\":\"area\",\"sizeref\":0.025,\"symbol\":\"circle\"},\"mode\":\"markers\",\"name\":\"max\",\"showlegend\":true,\"x\":[119],\"xaxis\":\"x\",\"y\":[2.775886166004561],\"yaxis\":\"y\",\"type\":\"scattergl\"},{\"hovertemplate\":\"special_points=min\\u003cbr\\u003eindex=%{x}\\u003cbr\\u003esample=%{y}\\u003cbr\\u003esize=%{marker.size}\\u003cextra\\u003e\\u003c\\u002fextra\\u003e\",\"legendgroup\":\"min\",\"marker\":{\"color\":\"#2C497F\",\"size\":[10],\"sizemode\":\"area\",\"sizeref\":0.025,\"symbol\":\"circle\"},\"mode\":\"markers\",\"name\":\"min\",\"showlegend\":true,\"x\":[234],\"xaxis\":\"x\",\"y\":[-3.060079834564552],\"yaxis\":\"y\",\"type\":\"scattergl\"},{\"hovertemplate\":\"special_points=median\\u003cbr\\u003eindex=%{x}\\u003cbr\\u003esample=%{y}\\u003cbr\\u003esize=%{marker.size}\\u003cextra\\u003e\\u003c\\u002fextra\\u003e\",\"legendgroup\":\"median\",\"marker\":{\"color\":\"#169873\",\"size\":[10],\"sizemode\":\"area\",\"sizeref\":0.025,\"symbol\":\"circle\"},\"mode\":\"markers\",\"name\":\"median\",\"showlegend\":true,\"x\":[236],\"xaxis\":\"x\",\"y\":[-0.031522109875236924],\"yaxis\":\"y\",\"type\":\"scattergl\"}],                        {\"template\":{\"data\":{\"scatter\":[{\"type\":\"scatter\"}]}},\"xaxis\":{\"anchor\":\"y\",\"domain\":[0.0,1.0],\"title\":{\"text\":\"index\"}},\"yaxis\":{\"anchor\":\"x\",\"domain\":[0.0,1.0],\"title\":{\"text\":\"sample\"}},\"legend\":{\"title\":{\"text\":\"special_points\"},\"tracegroupgap\":0,\"itemsizing\":\"constant\"},\"title\":{\"text\":\"Here're your points\"},\"updatemenus\":[{\"buttons\":[{\"args\":[\"shapes\",[]],\"label\":\"None\",\"method\":\"relayout\"},{\"args\":[\"shapes\",[{\"type\":\"rectangle\",\"x0\":0,\"y0\":-2.560079834564552,\"x1\":175.0,\"y1\":1.3879430830022805,\"line\":{\"color\":\"DarkOrange\",\"width\":2,\"dash\":\"dashdot\"},\"filcolor\":\"LightSkyBlue\"}]],\"label\":\"Cluster\",\"method\":\"relayout\"}],\"type\":\"buttons\"}]},                        {\"responsive\": true}                    ).then(function(){\n",
              "                            \n",
              "var gd = document.getElementById('73a29b65-2a7a-474d-818f-fc7ca54591bb');\n",
              "var x = new MutationObserver(function (mutations, observer) {{\n",
              "        var display = window.getComputedStyle(gd).display;\n",
              "        if (!display || display === 'none') {{\n",
              "            console.log([gd, 'removed!']);\n",
              "            Plotly.purge(gd);\n",
              "            observer.disconnect();\n",
              "        }}\n",
              "}});\n",
              "\n",
              "// Listen for the removal of the full notebook cells\n",
              "var notebookContainer = gd.closest('#notebook-container');\n",
              "if (notebookContainer) {{\n",
              "    x.observe(notebookContainer, {childList: true});\n",
              "}}\n",
              "\n",
              "// Listen for the clearing of the current output cell\n",
              "var outputEl = gd.closest('.output');\n",
              "if (outputEl) {{\n",
              "    x.observe(outputEl, {childList: true});\n",
              "}}\n",
              "\n",
              "                        })                };                            </script>        </div>\n",
              "</body>\n",
              "</html>"
            ]
          },
          "metadata": {}
        }
      ]
    },
    {
      "cell_type": "code",
      "execution_count": null,
      "metadata": {
        "id": "m3f9WJ9Flgjf",
        "colab": {
          "base_uri": "https://localhost:8080/"
        },
        "outputId": "e9dbabb8-b331-44db-fe09-522abfaa4737"
      },
      "outputs": [
        {
          "output_type": "stream",
          "name": "stdout",
          "text": [
            "Collecting dash\n",
            "  Downloading dash-2.17.1-py3-none-any.whl.metadata (10 kB)\n",
            "Requirement already satisfied: Flask<3.1,>=1.0.4 in /usr/local/lib/python3.10/dist-packages (from dash) (2.2.5)\n",
            "Requirement already satisfied: Werkzeug<3.1 in /usr/local/lib/python3.10/dist-packages (from dash) (3.0.3)\n",
            "Requirement already satisfied: plotly>=5.0.0 in /usr/local/lib/python3.10/dist-packages (from dash) (5.15.0)\n",
            "Collecting dash-html-components==2.0.0 (from dash)\n",
            "  Downloading dash_html_components-2.0.0-py3-none-any.whl.metadata (3.8 kB)\n",
            "Collecting dash-core-components==2.0.0 (from dash)\n",
            "  Downloading dash_core_components-2.0.0-py3-none-any.whl.metadata (2.9 kB)\n",
            "Collecting dash-table==5.0.0 (from dash)\n",
            "  Downloading dash_table-5.0.0-py3-none-any.whl.metadata (2.4 kB)\n",
            "Requirement already satisfied: importlib-metadata in /usr/local/lib/python3.10/dist-packages (from dash) (8.1.0)\n",
            "Requirement already satisfied: typing-extensions>=4.1.1 in /usr/local/lib/python3.10/dist-packages (from dash) (4.12.2)\n",
            "Requirement already satisfied: requests in /usr/local/lib/python3.10/dist-packages (from dash) (2.31.0)\n",
            "Collecting retrying (from dash)\n",
            "  Downloading retrying-1.3.4-py3-none-any.whl.metadata (6.9 kB)\n",
            "Requirement already satisfied: nest-asyncio in /usr/local/lib/python3.10/dist-packages (from dash) (1.6.0)\n",
            "Requirement already satisfied: setuptools in /usr/local/lib/python3.10/dist-packages (from dash) (71.0.4)\n",
            "Requirement already satisfied: Jinja2>=3.0 in /usr/local/lib/python3.10/dist-packages (from Flask<3.1,>=1.0.4->dash) (3.1.4)\n",
            "Requirement already satisfied: itsdangerous>=2.0 in /usr/local/lib/python3.10/dist-packages (from Flask<3.1,>=1.0.4->dash) (2.2.0)\n",
            "Requirement already satisfied: click>=8.0 in /usr/local/lib/python3.10/dist-packages (from Flask<3.1,>=1.0.4->dash) (8.1.7)\n",
            "Requirement already satisfied: tenacity>=6.2.0 in /usr/local/lib/python3.10/dist-packages (from plotly>=5.0.0->dash) (8.5.0)\n",
            "Requirement already satisfied: packaging in /usr/local/lib/python3.10/dist-packages (from plotly>=5.0.0->dash) (24.1)\n",
            "Requirement already satisfied: MarkupSafe>=2.1.1 in /usr/local/lib/python3.10/dist-packages (from Werkzeug<3.1->dash) (2.1.5)\n",
            "Requirement already satisfied: zipp>=0.5 in /usr/local/lib/python3.10/dist-packages (from importlib-metadata->dash) (3.19.2)\n",
            "Requirement already satisfied: charset-normalizer<4,>=2 in /usr/local/lib/python3.10/dist-packages (from requests->dash) (3.3.2)\n",
            "Requirement already satisfied: idna<4,>=2.5 in /usr/local/lib/python3.10/dist-packages (from requests->dash) (3.7)\n",
            "Requirement already satisfied: urllib3<3,>=1.21.1 in /usr/local/lib/python3.10/dist-packages (from requests->dash) (2.0.7)\n",
            "Requirement already satisfied: certifi>=2017.4.17 in /usr/local/lib/python3.10/dist-packages (from requests->dash) (2024.7.4)\n",
            "Requirement already satisfied: six>=1.7.0 in /usr/local/lib/python3.10/dist-packages (from retrying->dash) (1.16.0)\n",
            "Downloading dash-2.17.1-py3-none-any.whl (7.5 MB)\n",
            "\u001b[2K   \u001b[90m━━━━━━━━━━━━━━━━━━━━━━━━━━━━━━━━━━━━━━━━\u001b[0m \u001b[32m7.5/7.5 MB\u001b[0m \u001b[31m47.6 MB/s\u001b[0m eta \u001b[36m0:00:00\u001b[0m\n",
            "\u001b[?25hDownloading dash_core_components-2.0.0-py3-none-any.whl (3.8 kB)\n",
            "Downloading dash_html_components-2.0.0-py3-none-any.whl (4.1 kB)\n",
            "Downloading dash_table-5.0.0-py3-none-any.whl (3.9 kB)\n",
            "Downloading retrying-1.3.4-py3-none-any.whl (11 kB)\n",
            "Installing collected packages: dash-table, dash-html-components, dash-core-components, retrying, dash\n",
            "Successfully installed dash-2.17.1 dash-core-components-2.0.0 dash-html-components-2.0.0 dash-table-5.0.0 retrying-1.3.4\n",
            "Collecting dash_daq\n",
            "  Downloading dash_daq-0.5.0.tar.gz (642 kB)\n",
            "\u001b[2K     \u001b[90m━━━━━━━━━━━━━━━━━━━━━━━━━━━━━━━━━━━━━━━━\u001b[0m \u001b[32m642.7/642.7 kB\u001b[0m \u001b[31m7.3 MB/s\u001b[0m eta \u001b[36m0:00:00\u001b[0m\n",
            "\u001b[?25h  Preparing metadata (setup.py) ... \u001b[?25l\u001b[?25hdone\n",
            "Requirement already satisfied: dash>=1.6.1 in /usr/local/lib/python3.10/dist-packages (from dash_daq) (2.17.1)\n",
            "Requirement already satisfied: Flask<3.1,>=1.0.4 in /usr/local/lib/python3.10/dist-packages (from dash>=1.6.1->dash_daq) (2.2.5)\n",
            "Requirement already satisfied: Werkzeug<3.1 in /usr/local/lib/python3.10/dist-packages (from dash>=1.6.1->dash_daq) (3.0.3)\n",
            "Requirement already satisfied: plotly>=5.0.0 in /usr/local/lib/python3.10/dist-packages (from dash>=1.6.1->dash_daq) (5.15.0)\n",
            "Requirement already satisfied: dash-html-components==2.0.0 in /usr/local/lib/python3.10/dist-packages (from dash>=1.6.1->dash_daq) (2.0.0)\n",
            "Requirement already satisfied: dash-core-components==2.0.0 in /usr/local/lib/python3.10/dist-packages (from dash>=1.6.1->dash_daq) (2.0.0)\n",
            "Requirement already satisfied: dash-table==5.0.0 in /usr/local/lib/python3.10/dist-packages (from dash>=1.6.1->dash_daq) (5.0.0)\n",
            "Requirement already satisfied: importlib-metadata in /usr/local/lib/python3.10/dist-packages (from dash>=1.6.1->dash_daq) (8.1.0)\n",
            "Requirement already satisfied: typing-extensions>=4.1.1 in /usr/local/lib/python3.10/dist-packages (from dash>=1.6.1->dash_daq) (4.12.2)\n",
            "Requirement already satisfied: requests in /usr/local/lib/python3.10/dist-packages (from dash>=1.6.1->dash_daq) (2.31.0)\n",
            "Requirement already satisfied: retrying in /usr/local/lib/python3.10/dist-packages (from dash>=1.6.1->dash_daq) (1.3.4)\n",
            "Requirement already satisfied: nest-asyncio in /usr/local/lib/python3.10/dist-packages (from dash>=1.6.1->dash_daq) (1.6.0)\n",
            "Requirement already satisfied: setuptools in /usr/local/lib/python3.10/dist-packages (from dash>=1.6.1->dash_daq) (71.0.4)\n",
            "Requirement already satisfied: Jinja2>=3.0 in /usr/local/lib/python3.10/dist-packages (from Flask<3.1,>=1.0.4->dash>=1.6.1->dash_daq) (3.1.4)\n",
            "Requirement already satisfied: itsdangerous>=2.0 in /usr/local/lib/python3.10/dist-packages (from Flask<3.1,>=1.0.4->dash>=1.6.1->dash_daq) (2.2.0)\n",
            "Requirement already satisfied: click>=8.0 in /usr/local/lib/python3.10/dist-packages (from Flask<3.1,>=1.0.4->dash>=1.6.1->dash_daq) (8.1.7)\n",
            "Requirement already satisfied: tenacity>=6.2.0 in /usr/local/lib/python3.10/dist-packages (from plotly>=5.0.0->dash>=1.6.1->dash_daq) (8.5.0)\n",
            "Requirement already satisfied: packaging in /usr/local/lib/python3.10/dist-packages (from plotly>=5.0.0->dash>=1.6.1->dash_daq) (24.1)\n",
            "Requirement already satisfied: MarkupSafe>=2.1.1 in /usr/local/lib/python3.10/dist-packages (from Werkzeug<3.1->dash>=1.6.1->dash_daq) (2.1.5)\n",
            "Requirement already satisfied: zipp>=0.5 in /usr/local/lib/python3.10/dist-packages (from importlib-metadata->dash>=1.6.1->dash_daq) (3.19.2)\n",
            "Requirement already satisfied: charset-normalizer<4,>=2 in /usr/local/lib/python3.10/dist-packages (from requests->dash>=1.6.1->dash_daq) (3.3.2)\n",
            "Requirement already satisfied: idna<4,>=2.5 in /usr/local/lib/python3.10/dist-packages (from requests->dash>=1.6.1->dash_daq) (3.7)\n",
            "Requirement already satisfied: urllib3<3,>=1.21.1 in /usr/local/lib/python3.10/dist-packages (from requests->dash>=1.6.1->dash_daq) (2.0.7)\n",
            "Requirement already satisfied: certifi>=2017.4.17 in /usr/local/lib/python3.10/dist-packages (from requests->dash>=1.6.1->dash_daq) (2024.7.4)\n",
            "Requirement already satisfied: six>=1.7.0 in /usr/local/lib/python3.10/dist-packages (from retrying->dash>=1.6.1->dash_daq) (1.16.0)\n",
            "Building wheels for collected packages: dash_daq\n",
            "  Building wheel for dash_daq (setup.py) ... \u001b[?25l\u001b[?25hdone\n",
            "  Created wheel for dash_daq: filename=dash_daq-0.5.0-py3-none-any.whl size=669693 sha256=71d41ad54d53e626950ba713d54e6db21dfff290437b486bbce4bfd0ae8ccaca\n",
            "  Stored in directory: /root/.cache/pip/wheels/75/14/1b/208d09d5e239391048bdc167759977b41ba65a3d4063aebf6b\n",
            "Successfully built dash_daq\n",
            "Installing collected packages: dash_daq\n",
            "Successfully installed dash_daq-0.5.0\n"
          ]
        }
      ],
      "source": [
        "!pip install dash\n",
        "!pip install dash_daq"
      ]
    },
    {
      "cell_type": "code",
      "source": [
        "from dash import Dash, dcc, html, callback, Input, Output\n",
        "import dash_daq as daq\n",
        "import threading"
      ],
      "metadata": {
        "id": "IJTqC4YRloEc"
      },
      "execution_count": null,
      "outputs": []
    },
    {
      "cell_type": "code",
      "source": [
        "app = Dash()\n",
        "\n",
        "app.layout = html.Div([\n",
        "    daq.BooleanSwitch(id='bswitch', on=False),\n",
        "    daq.Knob(id='knob'),\n",
        "    html.Div(id='bswitch-info'),\n",
        "    daq.Gauge(id='gauge', label=\"Gauge\", value=8),\n",
        "    daq.GraduatedBar(id='gbar', label=\"Graduated bar\",value=6),\n",
        "    html.Div([dcc.Slider(id='slider', min=0, max=10, step=1, value=3)], style={\"width\": \"100%\"}),\n",
        "],\n",
        "         style={\n",
        "             \"display\": \"flex\",\n",
        "             \"flex-direction\": \"column\",\n",
        "             \"justify-content\": \"center\",\n",
        "             \"align-items\": 'center',\n",
        "             \"align-content\": \"center\",\n",
        "             \"height\": \"100%\",\n",
        "             \"width\": \"75%\",\n",
        "             \"fontFamily\": \"verdana\",\n",
        "             \"color\": \"#444\"\n",
        "             }\n",
        ")\n",
        "\n",
        "@app.callback(\n",
        "    Output('bswitch-info', 'children'),\n",
        "    Input('bswitch', 'on'),\n",
        "    Input('knob', 'value')\n",
        ")\n",
        "def update_output1(on, value):\n",
        "    return ('Switched {}.'.format(on)\n",
        "    + ', the knob is set to {}.'.format(value))\n",
        "\n",
        "@app.callback(\n",
        "    Output('gauge', 'value'),\n",
        "    Output('gbar', 'value'),\n",
        "    Output('bswitch', 'on'),\n",
        "    Input('slider', 'value'))\n",
        "def update_output2(value):\n",
        "    if value < 5:\n",
        "      on = False\n",
        "    else:\n",
        "      on = True\n",
        "    return value, value, on\n"
      ],
      "metadata": {
        "id": "cEcfO5a2K-d6"
      },
      "execution_count": null,
      "outputs": []
    },
    {
      "cell_type": "code",
      "source": [
        "thread = threading.Thread(target=app.run_server)\n",
        "thread.start()\n",
        "output.serve_kernel_port_as_window(port=8050)"
      ],
      "metadata": {
        "id": "5S9qE9cbl8sD",
        "colab": {
          "base_uri": "https://localhost:8080/",
          "height": 689
        },
        "outputId": "e6a3a0f7-b310-4757-c859-3231a94e172e"
      },
      "execution_count": null,
      "outputs": [
        {
          "output_type": "display_data",
          "data": {
            "text/plain": [
              "<IPython.core.display.Javascript object>"
            ],
            "application/javascript": [
              "(async (port, path, text, element) => {\n",
              "    if (!google.colab.kernel.accessAllowed) {\n",
              "      return;\n",
              "    }\n",
              "    element.appendChild(document.createTextNode(''));\n",
              "    const url = await google.colab.kernel.proxyPort(port);\n",
              "    const anchor = document.createElement('a');\n",
              "    anchor.href = new URL(path, url).toString();\n",
              "    anchor.target = '_blank';\n",
              "    anchor.setAttribute('data-href', url + path);\n",
              "    anchor.textContent = text;\n",
              "    element.appendChild(anchor);\n",
              "  })(8050, \"/\", \"https://localhost:8050/\", window.element)"
            ]
          },
          "metadata": {}
        },
        {
          "output_type": "display_data",
          "data": {
            "text/plain": [
              "<IPython.core.display.Javascript object>"
            ],
            "application/javascript": [
              "(async (port, path, width, height, cache, element) => {\n",
              "    if (!google.colab.kernel.accessAllowed && !cache) {\n",
              "      return;\n",
              "    }\n",
              "    element.appendChild(document.createTextNode(''));\n",
              "    const url = await google.colab.kernel.proxyPort(port, {cache});\n",
              "    const iframe = document.createElement('iframe');\n",
              "    iframe.src = new URL(path, url).toString();\n",
              "    iframe.height = height;\n",
              "    iframe.width = width;\n",
              "    iframe.style.border = 0;\n",
              "    iframe.allow = [\n",
              "        'accelerometer',\n",
              "        'autoplay',\n",
              "        'camera',\n",
              "        'clipboard-read',\n",
              "        'clipboard-write',\n",
              "        'gyroscope',\n",
              "        'magnetometer',\n",
              "        'microphone',\n",
              "        'serial',\n",
              "        'usb',\n",
              "        'xr-spatial-tracking',\n",
              "    ].join('; ');\n",
              "    element.appendChild(iframe);\n",
              "  })(8050, \"/\", \"100%\", 650, false, window.element)"
            ]
          },
          "metadata": {}
        }
      ]
    },
    {
      "cell_type": "code",
      "source": [],
      "metadata": {
        "id": "kSxuBYTmy-ms"
      },
      "execution_count": null,
      "outputs": []
    }
  ]
}